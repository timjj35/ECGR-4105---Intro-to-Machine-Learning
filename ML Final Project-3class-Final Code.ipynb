{
 "cells": [
  {
   "cell_type": "code",
   "execution_count": 1,
   "id": "71cbb057-26fe-4a46-ba4e-8418e2ce6c10",
   "metadata": {},
   "outputs": [],
   "source": [
    "# Name: Law Enforecement Situational Threat Recognition\n",
    "# Purpose: Intro to Machine Learning Final Project \n",
    "# Authors: Tim Johnson and Trevor Goad\n",
    "# Date Created: November 28, 2021"
   ]
  },
  {
   "cell_type": "code",
   "execution_count": 2,
   "id": "e8851cea-a50e-4bcd-9411-b19ed091dd0b",
   "metadata": {
    "tags": []
   },
   "outputs": [],
   "source": [
    "# Import basic libraries\n",
    "import numpy as np \n",
    "import matplotlib.pyplot as plot \n",
    "import pandas as pd "
   ]
  },
  {
   "cell_type": "code",
   "execution_count": 3,
   "id": "769e32e8-a9a4-43ab-abe2-979f2b52ffd3",
   "metadata": {},
   "outputs": [
    {
     "data": {
      "text/html": [
       "<div>\n",
       "<style scoped>\n",
       "    .dataframe tbody tr th:only-of-type {\n",
       "        vertical-align: middle;\n",
       "    }\n",
       "\n",
       "    .dataframe tbody tr th {\n",
       "        vertical-align: top;\n",
       "    }\n",
       "\n",
       "    .dataframe thead th {\n",
       "        text-align: right;\n",
       "    }\n",
       "</style>\n",
       "<table border=\"1\" class=\"dataframe\">\n",
       "  <thead>\n",
       "    <tr style=\"text-align: right;\">\n",
       "      <th></th>\n",
       "      <th>time of day</th>\n",
       "      <th>day of the week</th>\n",
       "      <th>x coordinate</th>\n",
       "      <th>y coordinate</th>\n",
       "      <th>weapon used</th>\n",
       "      <th>result</th>\n",
       "    </tr>\n",
       "  </thead>\n",
       "  <tbody>\n",
       "    <tr>\n",
       "      <th>0</th>\n",
       "      <td>2038</td>\n",
       "      <td>FRIDAY</td>\n",
       "      <td>1535558</td>\n",
       "      <td>7449362</td>\n",
       "      <td>Personal Weapons</td>\n",
       "      <td>SAFE</td>\n",
       "    </tr>\n",
       "    <tr>\n",
       "      <th>1</th>\n",
       "      <td>1531</td>\n",
       "      <td>SATURDAY</td>\n",
       "      <td>1878149</td>\n",
       "      <td>891728</td>\n",
       "      <td>Personal Weapons</td>\n",
       "      <td>POTENTIAL NON-FATAL ASSAULT</td>\n",
       "    </tr>\n",
       "    <tr>\n",
       "      <th>2</th>\n",
       "      <td>1502</td>\n",
       "      <td>WEDNESDAY</td>\n",
       "      <td>1892204</td>\n",
       "      <td>876892</td>\n",
       "      <td>Personal Weapons</td>\n",
       "      <td>POTENTIAL NON-FATAL ASSAULT</td>\n",
       "    </tr>\n",
       "    <tr>\n",
       "      <th>3</th>\n",
       "      <td>25</td>\n",
       "      <td>FRIDAY</td>\n",
       "      <td>1524877</td>\n",
       "      <td>7435491</td>\n",
       "      <td>Personal Weapons</td>\n",
       "      <td>SAFE</td>\n",
       "    </tr>\n",
       "    <tr>\n",
       "      <th>4</th>\n",
       "      <td>2045</td>\n",
       "      <td>THURSDAY</td>\n",
       "      <td>1534170</td>\n",
       "      <td>7448563</td>\n",
       "      <td>None</td>\n",
       "      <td>SAFE</td>\n",
       "    </tr>\n",
       "  </tbody>\n",
       "</table>\n",
       "</div>"
      ],
      "text/plain": [
       "   time of day day of the week  x coordinate  y coordinate       weapon used  \\\n",
       "0         2038          FRIDAY       1535558       7449362  Personal Weapons   \n",
       "1         1531        SATURDAY       1878149        891728  Personal Weapons   \n",
       "2         1502       WEDNESDAY       1892204        876892  Personal Weapons   \n",
       "3           25          FRIDAY       1524877       7435491  Personal Weapons   \n",
       "4         2045        THURSDAY       1534170       7448563              None   \n",
       "\n",
       "                        result  \n",
       "0                         SAFE  \n",
       "1  POTENTIAL NON-FATAL ASSAULT  \n",
       "2  POTENTIAL NON-FATAL ASSAULT  \n",
       "3                         SAFE  \n",
       "4                         SAFE  "
      ]
     },
     "execution_count": 3,
     "metadata": {},
     "output_type": "execute_result"
    }
   ],
   "source": [
    "# Read the csv file that has the dataset\n",
    "dataset = pd.read_csv('SL City Data with 3 classes.csv');\n",
    "dataset.head()"
   ]
  },
  {
   "cell_type": "code",
   "execution_count": 4,
   "id": "f5afcada-7fc5-4c0c-bc6d-6a9fdea6e6e0",
   "metadata": {},
   "outputs": [
    {
     "data": {
      "text/plain": [
       "(1900, 6)"
      ]
     },
     "execution_count": 4,
     "metadata": {},
     "output_type": "execute_result"
    }
   ],
   "source": [
    "dataset.shape"
   ]
  },
  {
   "cell_type": "code",
   "execution_count": 5,
   "id": "a8f9c28c-e1e6-46b5-94c0-a7e86033a775",
   "metadata": {},
   "outputs": [],
   "source": [
    "# Defining the day of the week map function\n",
    "def dayofweek_map(x):\n",
    "    \n",
    "    return x.map({'SUNDAY': 1, \"MONDAY\": 2, \"TUESDAY\": 3, \"WEDNESDAY\": 4, \"THURSDAY\": 5, \"FRIDAY\": 6, \"SATURDAY\": 7})\n",
    "\n",
    "# Defining the type of call map function\n",
    "def weapon_map(x):\n",
    "    \n",
    "    return x.map({'Personal Weapons': 0,'Firearm': 1, \"Knife\": 2, \"Motor Vehicle\": 3, \"Blunt Object\": 4, \"None\": 5, \"Other\": 6})\n",
    "\n",
    "# Defining the map function\n",
    "def results_map(x):\n",
    "    \n",
    "    return x.map({'POTENTIAL FATAL ASSAULT': 2,'POTENTIAL NON-FATAL ASSAULT': 1, \"SAFE\": 0})"
   ]
  },
  {
   "cell_type": "code",
   "execution_count": 6,
   "id": "bc605ce8-e633-42e2-82bc-7d56be8f5b07",
   "metadata": {},
   "outputs": [
    {
     "data": {
      "text/html": [
       "<div>\n",
       "<style scoped>\n",
       "    .dataframe tbody tr th:only-of-type {\n",
       "        vertical-align: middle;\n",
       "    }\n",
       "\n",
       "    .dataframe tbody tr th {\n",
       "        vertical-align: top;\n",
       "    }\n",
       "\n",
       "    .dataframe thead th {\n",
       "        text-align: right;\n",
       "    }\n",
       "</style>\n",
       "<table border=\"1\" class=\"dataframe\">\n",
       "  <thead>\n",
       "    <tr style=\"text-align: right;\">\n",
       "      <th></th>\n",
       "      <th>time of day</th>\n",
       "      <th>day of the week</th>\n",
       "      <th>x coordinate</th>\n",
       "      <th>y coordinate</th>\n",
       "      <th>weapon used</th>\n",
       "      <th>result</th>\n",
       "    </tr>\n",
       "  </thead>\n",
       "  <tbody>\n",
       "    <tr>\n",
       "      <th>0</th>\n",
       "      <td>2038</td>\n",
       "      <td>6</td>\n",
       "      <td>1535558</td>\n",
       "      <td>7449362</td>\n",
       "      <td>0</td>\n",
       "      <td>0</td>\n",
       "    </tr>\n",
       "    <tr>\n",
       "      <th>1</th>\n",
       "      <td>1531</td>\n",
       "      <td>7</td>\n",
       "      <td>1878149</td>\n",
       "      <td>891728</td>\n",
       "      <td>0</td>\n",
       "      <td>1</td>\n",
       "    </tr>\n",
       "    <tr>\n",
       "      <th>2</th>\n",
       "      <td>1502</td>\n",
       "      <td>4</td>\n",
       "      <td>1892204</td>\n",
       "      <td>876892</td>\n",
       "      <td>0</td>\n",
       "      <td>1</td>\n",
       "    </tr>\n",
       "    <tr>\n",
       "      <th>3</th>\n",
       "      <td>25</td>\n",
       "      <td>6</td>\n",
       "      <td>1524877</td>\n",
       "      <td>7435491</td>\n",
       "      <td>0</td>\n",
       "      <td>0</td>\n",
       "    </tr>\n",
       "    <tr>\n",
       "      <th>4</th>\n",
       "      <td>2045</td>\n",
       "      <td>5</td>\n",
       "      <td>1534170</td>\n",
       "      <td>7448563</td>\n",
       "      <td>5</td>\n",
       "      <td>0</td>\n",
       "    </tr>\n",
       "  </tbody>\n",
       "</table>\n",
       "</div>"
      ],
      "text/plain": [
       "   time of day  day of the week  x coordinate  y coordinate  weapon used  \\\n",
       "0         2038                6       1535558       7449362            0   \n",
       "1         1531                7       1878149        891728            0   \n",
       "2         1502                4       1892204        876892            0   \n",
       "3           25                6       1524877       7435491            0   \n",
       "4         2045                5       1534170       7448563            5   \n",
       "\n",
       "   result  \n",
       "0       0  \n",
       "1       1  \n",
       "2       1  \n",
       "3       0  \n",
       "4       0  "
      ]
     },
     "execution_count": 6,
     "metadata": {},
     "output_type": "execute_result"
    }
   ],
   "source": [
    "# Map day of week input\n",
    "dayofweek_vars = ['day of the week']\n",
    "\n",
    "dataset[dayofweek_vars] = dataset[dayofweek_vars].apply(dayofweek_map)\n",
    "\n",
    "# Map weapon used by offender input\n",
    "weapon_vars = ['weapon used']\n",
    "\n",
    "dataset[weapon_vars] = dataset[weapon_vars].apply(weapon_map)\n",
    "\n",
    "# Map result output\n",
    "res_vars = ['result']\n",
    "\n",
    "dataset[res_vars] = dataset[res_vars].apply(results_map)\n",
    "\n",
    "dataset.head()"
   ]
  },
  {
   "cell_type": "code",
   "execution_count": 7,
   "id": "e9aa7d21-c9bc-44a4-ade0-8b079ac210b0",
   "metadata": {},
   "outputs": [],
   "source": [
    "# Split dataset into independent and dependent variables\n",
    "x = dataset.iloc[:, [0,1,2,3,4]].values\n",
    "y = dataset.iloc[:, 5].values\n"
   ]
  },
  {
   "cell_type": "code",
   "execution_count": 8,
   "id": "6b89eb17-2bb0-4492-afbe-73066931c00b",
   "metadata": {},
   "outputs": [],
   "source": [
    "# Standardizing the features\n",
    "from sklearn.preprocessing import MinMaxScaler, StandardScaler \n",
    "x = StandardScaler().fit_transform(x)"
   ]
  },
  {
   "cell_type": "code",
   "execution_count": 9,
   "id": "36dd571c-0fa6-4cc4-918f-41d112010733",
   "metadata": {},
   "outputs": [],
   "source": [
    "# Perform PCA analysis\n",
    "from sklearn.decomposition import PCA \n",
    "pca = PCA(n_components=5) \n",
    "principalComponents = pca.fit_transform(x)\n",
    "principalDf = pd.DataFrame(data = principalComponents \n",
    "             , columns = ['principal component 1', 'principal component 2', 'principal component 3', 'principal component 4', 'principal component 5']) "
   ]
  },
  {
   "cell_type": "code",
   "execution_count": 10,
   "id": "fd7cb741-9954-4e3f-92b6-8866c1b9fd89",
   "metadata": {},
   "outputs": [],
   "source": [
    "# Concatenate new principal components with dataset labels\n",
    "finalDf = pd.concat([principalDf, dataset[['result']]], axis = 1)"
   ]
  },
  {
   "cell_type": "code",
   "execution_count": 11,
   "id": "b029ea4a-2351-4dfb-953c-ed3f3174fcec",
   "metadata": {},
   "outputs": [
    {
     "data": {
      "image/png": "[encoded data removed]",
      "text/plain": [
       "<Figure size 576x576 with 1 Axes>"
      ]
     },
     "metadata": {
      "needs_background": "light"
     },
     "output_type": "display_data"
    }
   ],
   "source": [
    "# Plot PCA data\n",
    "fig = plot.figure(figsize = (8,8)) \n",
    "ax = fig.add_subplot(1,1,1)  \n",
    "ax.set_xlabel('Principal Component 1', fontsize = 15) \n",
    "ax.set_ylabel('Principal Component 2', fontsize = 15) \n",
    "ax.set_title('2 component PCA', fontsize = 20) \n",
    "targets = [0, 1] \n",
    "colors = ['r', 'b'] \n",
    "for target, color in zip(targets,colors): \n",
    "    indicesToKeep = finalDf['result'] == target \n",
    "    ax.scatter(finalDf.loc[indicesToKeep, 'principal component 1'] \n",
    "               , finalDf.loc[indicesToKeep, 'principal component 2'] \n",
    "               , c = color \n",
    "               , s = 50) \n",
    "ax.legend(targets) \n",
    "ax.grid()"
   ]
  },
  {
   "cell_type": "code",
   "execution_count": 12,
   "id": "cb52d4a8-fc97-475c-8504-3eade1319468",
   "metadata": {},
   "outputs": [],
   "source": [
    "# Split into 80% training and 20% evaluation\n",
    "from sklearn.model_selection import train_test_split\n",
    "x_train, x_test, y_train, y_test = train_test_split(principalDf, y, train_size = 0.8, test_size = 0.2, random_state = 5)\n",
    "#x_train, x_test, y_train, y_test = train_test_split(x, y, train_size = 0.9, test_size = 0.1, random_state = 5)\n",
    "\n",
    "# Scale data\n",
    "from sklearn.preprocessing import MinMaxScaler, StandardScaler \n",
    "scaler = StandardScaler()\n",
    "x_train = scaler.fit_transform(x_train)\n",
    "x_test = scaler.transform(x_test)\n",
    "\n",
    "# Logistic regression on training set\n",
    "from sklearn.linear_model import LogisticRegression\n",
    "classifier = LogisticRegression(class_weight = 'balanced');\n",
    "classifier.fit(x_train, y_train)\n",
    "\n",
    "# Naive Bayes Classification\n",
    "from sklearn.naive_bayes import GaussianNB\n",
    "#classifier = GaussianNB()\n",
    "#classifier.fit(x_train, y_train)\n",
    "\n",
    "y_pred = classifier.predict(x_test)"
   ]
  },
  {
   "cell_type": "code",
   "execution_count": 13,
   "id": "a32a04bd-6cba-44df-8feb-d060954b4996",
   "metadata": {},
   "outputs": [
    {
     "data": {
      "text/plain": [
       "array([[ 84,  69,  29],\n",
       "       [ 27, 102,  22],\n",
       "       [ 10,  10,  27]], dtype=int64)"
      ]
     },
     "execution_count": 13,
     "metadata": {},
     "output_type": "execute_result"
    }
   ],
   "source": [
    "from sklearn.metrics import confusion_matrix\n",
    "cnf_matrix = confusion_matrix(y_test, y_pred)\n",
    "cnf_matrix"
   ]
  },
  {
   "cell_type": "code",
   "execution_count": 14,
   "id": "ec2cbc19-b30e-49b5-be10-7ff8050f5cce",
   "metadata": {},
   "outputs": [
    {
     "name": "stdout",
     "output_type": "stream",
     "text": [
      "              precision    recall  f1-score   support\n",
      "\n",
      "           0       0.69      0.46      0.55       182\n",
      "           1       0.56      0.68      0.61       151\n",
      "           2       0.35      0.57      0.43        47\n",
      "\n",
      "    accuracy                           0.56       380\n",
      "   macro avg       0.53      0.57      0.53       380\n",
      "weighted avg       0.60      0.56      0.56       380\n",
      "\n"
     ]
    }
   ],
   "source": [
    "from sklearn import metrics\n",
    "\n",
    "print(metrics.classification_report(y_test, y_pred, digits=2))\n"
   ]
  },
  {
   "cell_type": "code",
   "execution_count": 15,
   "id": "56841e1d-2641-4319-9ad0-572c635af3a2",
   "metadata": {},
   "outputs": [
    {
     "data": {
      "text/plain": [
       "Text(0.5, 257.44, 'Predicted label')"
      ]
     },
     "execution_count": 15,
     "metadata": {},
     "output_type": "execute_result"
    },
    {
     "data": {
      "image/png": "[encoded data removed]",
      "text/plain": [
       "<Figure size 432x288 with 2 Axes>"
      ]
     },
     "metadata": {
      "needs_background": "light"
     },
     "output_type": "display_data"
    }
   ],
   "source": [
    "import seaborn as sns\n",
    "class_names = [0,1] # name of classes\n",
    "fig, ax = plot.subplots()\n",
    "tick_marks = np.arange(len(class_names))\n",
    "plot.xticks(tick_marks, class_names)\n",
    "plot.yticks(tick_marks, class_names)\n",
    "# create heatmap\n",
    "sns.heatmap(pd.DataFrame(cnf_matrix), annot=True, cmap=\"YlGnBu\" ,fmt='g')\n",
    "ax.xaxis.set_label_position(\"top\")\n",
    "plot.tight_layout()\n",
    "plot.title('Confusion matrix', y=1.1)\n",
    "plot.ylabel('Actual label')\n",
    "plot.xlabel('Predicted label') "
   ]
  },
  {
   "cell_type": "code",
   "execution_count": null,
   "id": "65e6312c-b3fa-4e64-b59d-d67a53feb4cc",
   "metadata": {},
   "outputs": [],
   "source": []
  }
 ],
 "metadata": {
  "kernelspec": {
   "display_name": "Python 3",
   "language": "python",
   "name": "python3"
  },
  "language_info": {
   "codemirror_mode": {
    "name": "ipython",
    "version": 3
   },
   "file_extension": ".py",
   "mimetype": "text/x-python",
   "name": "python",
   "nbconvert_exporter": "python",
   "pygments_lexer": "ipython3",
   "version": "3.8.8"
  }
 },
 "nbformat": 4,
 "nbformat_minor": 5
}
