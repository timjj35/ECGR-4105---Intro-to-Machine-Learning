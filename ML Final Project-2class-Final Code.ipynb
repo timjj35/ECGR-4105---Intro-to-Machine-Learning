{
 "cells": [
  {
   "cell_type": "code",
   "execution_count": 1,
   "id": "71cbb057-26fe-4a46-ba4e-8418e2ce6c10",
   "metadata": {},
   "outputs": [],
   "source": [
    "# Name: Law Enforecement Situational Threat Recognition\n",
    "# Purpose: Intro to Machine Learning Final Project \n",
    "# Authors: Tim Johnson and Trevor Goad\n",
    "# Date Created: November 28, 2021"
   ]
  },
  {
   "cell_type": "code",
   "execution_count": 2,
   "id": "e8851cea-a50e-4bcd-9411-b19ed091dd0b",
   "metadata": {
    "tags": []
   },
   "outputs": [],
   "source": [
    "# Import basic libraries\n",
    "import numpy as np \n",
    "import matplotlib.pyplot as plot \n",
    "import pandas as pd "
   ]
  },
  {
   "cell_type": "code",
   "execution_count": 3,
   "id": "769e32e8-a9a4-43ab-abe2-979f2b52ffd3",
   "metadata": {},
   "outputs": [
    {
     "data": {
      "text/html": [
       "<div>\n",
       "<style scoped>\n",
       "    .dataframe tbody tr th:only-of-type {\n",
       "        vertical-align: middle;\n",
       "    }\n",
       "\n",
       "    .dataframe tbody tr th {\n",
       "        vertical-align: top;\n",
       "    }\n",
       "\n",
       "    .dataframe thead th {\n",
       "        text-align: right;\n",
       "    }\n",
       "</style>\n",
       "<table border=\"1\" class=\"dataframe\">\n",
       "  <thead>\n",
       "    <tr style=\"text-align: right;\">\n",
       "      <th></th>\n",
       "      <th>day of the week</th>\n",
       "      <th>x coordinate</th>\n",
       "      <th>y coordinate</th>\n",
       "      <th>weapon used</th>\n",
       "      <th>result</th>\n",
       "    </tr>\n",
       "  </thead>\n",
       "  <tbody>\n",
       "    <tr>\n",
       "      <th>0</th>\n",
       "      <td>TUESDAY</td>\n",
       "      <td>1885371</td>\n",
       "      <td>888361</td>\n",
       "      <td>Other</td>\n",
       "      <td>ASSAULTED</td>\n",
       "    </tr>\n",
       "    <tr>\n",
       "      <th>1</th>\n",
       "      <td>MONDAY</td>\n",
       "      <td>1889872</td>\n",
       "      <td>883640</td>\n",
       "      <td>Personal Weapons</td>\n",
       "      <td>SAFE</td>\n",
       "    </tr>\n",
       "    <tr>\n",
       "      <th>2</th>\n",
       "      <td>SATURDAY</td>\n",
       "      <td>1893431</td>\n",
       "      <td>871953</td>\n",
       "      <td>Personal Weapons</td>\n",
       "      <td>ASSAULTED</td>\n",
       "    </tr>\n",
       "    <tr>\n",
       "      <th>3</th>\n",
       "      <td>WEDNESDAY</td>\n",
       "      <td>1887938</td>\n",
       "      <td>885881</td>\n",
       "      <td>Personal Weapons</td>\n",
       "      <td>SAFE</td>\n",
       "    </tr>\n",
       "    <tr>\n",
       "      <th>4</th>\n",
       "      <td>SATURDAY</td>\n",
       "      <td>1892618</td>\n",
       "      <td>881991</td>\n",
       "      <td>Motor Vehicle</td>\n",
       "      <td>ASSAULTED</td>\n",
       "    </tr>\n",
       "  </tbody>\n",
       "</table>\n",
       "</div>"
      ],
      "text/plain": [
       "  day of the week  x coordinate  y coordinate       weapon used     result\n",
       "0         TUESDAY       1885371        888361             Other  ASSAULTED\n",
       "1          MONDAY       1889872        883640  Personal Weapons       SAFE\n",
       "2        SATURDAY       1893431        871953  Personal Weapons  ASSAULTED\n",
       "3       WEDNESDAY       1887938        885881  Personal Weapons       SAFE\n",
       "4        SATURDAY       1892618        881991     Motor Vehicle  ASSAULTED"
      ]
     },
     "execution_count": 3,
     "metadata": {},
     "output_type": "execute_result"
    }
   ],
   "source": [
    "# Read the csv file that has the dataset\n",
    "dataset = pd.read_csv('SL City Data with 2 classes.csv');\n",
    "dataset.head()"
   ]
  },
  {
   "cell_type": "code",
   "execution_count": 4,
   "id": "f5afcada-7fc5-4c0c-bc6d-6a9fdea6e6e0",
   "metadata": {},
   "outputs": [
    {
     "data": {
      "text/plain": [
       "(3711, 5)"
      ]
     },
     "execution_count": 4,
     "metadata": {},
     "output_type": "execute_result"
    }
   ],
   "source": [
    "dataset.shape"
   ]
  },
  {
   "cell_type": "code",
   "execution_count": 5,
   "id": "a8f9c28c-e1e6-46b5-94c0-a7e86033a775",
   "metadata": {},
   "outputs": [],
   "source": [
    "# Defining the day of the week map function\n",
    "def dayofweek_map(x):\n",
    "    \n",
    "    return x.map({'SUNDAY': 1, \"MONDAY\": 2, \"TUESDAY\": 3, \"WEDNESDAY\": 4, \"THURSDAY\": 5, \"FRIDAY\": 6, \"SATURDAY\": 7})\n",
    "\n",
    "# Defining the type of call map function\n",
    "def weapon_map(x):\n",
    "    \n",
    "    return x.map({'Personal Weapons': 0,'Firearm': 1, \"Knife\": 2, \"Motor Vehicle\": 3, \"Blunt Object\": 4, \"None\": 5, \"Other\": 6})\n",
    "\n",
    "# Defining the map function\n",
    "def binary_map(x):\n",
    "    \n",
    "    return x.map({'ASSAULTED': 1, \"SAFE\": 0})"
   ]
  },
  {
   "cell_type": "code",
   "execution_count": 6,
   "id": "bc605ce8-e633-42e2-82bc-7d56be8f5b07",
   "metadata": {},
   "outputs": [
    {
     "data": {
      "text/html": [
       "<div>\n",
       "<style scoped>\n",
       "    .dataframe tbody tr th:only-of-type {\n",
       "        vertical-align: middle;\n",
       "    }\n",
       "\n",
       "    .dataframe tbody tr th {\n",
       "        vertical-align: top;\n",
       "    }\n",
       "\n",
       "    .dataframe thead th {\n",
       "        text-align: right;\n",
       "    }\n",
       "</style>\n",
       "<table border=\"1\" class=\"dataframe\">\n",
       "  <thead>\n",
       "    <tr style=\"text-align: right;\">\n",
       "      <th></th>\n",
       "      <th>day of the week</th>\n",
       "      <th>x coordinate</th>\n",
       "      <th>y coordinate</th>\n",
       "      <th>weapon used</th>\n",
       "      <th>result</th>\n",
       "    </tr>\n",
       "  </thead>\n",
       "  <tbody>\n",
       "    <tr>\n",
       "      <th>0</th>\n",
       "      <td>3</td>\n",
       "      <td>1885371</td>\n",
       "      <td>888361</td>\n",
       "      <td>6</td>\n",
       "      <td>1</td>\n",
       "    </tr>\n",
       "    <tr>\n",
       "      <th>1</th>\n",
       "      <td>2</td>\n",
       "      <td>1889872</td>\n",
       "      <td>883640</td>\n",
       "      <td>0</td>\n",
       "      <td>0</td>\n",
       "    </tr>\n",
       "    <tr>\n",
       "      <th>2</th>\n",
       "      <td>7</td>\n",
       "      <td>1893431</td>\n",
       "      <td>871953</td>\n",
       "      <td>0</td>\n",
       "      <td>1</td>\n",
       "    </tr>\n",
       "    <tr>\n",
       "      <th>3</th>\n",
       "      <td>4</td>\n",
       "      <td>1887938</td>\n",
       "      <td>885881</td>\n",
       "      <td>0</td>\n",
       "      <td>0</td>\n",
       "    </tr>\n",
       "    <tr>\n",
       "      <th>4</th>\n",
       "      <td>7</td>\n",
       "      <td>1892618</td>\n",
       "      <td>881991</td>\n",
       "      <td>3</td>\n",
       "      <td>1</td>\n",
       "    </tr>\n",
       "  </tbody>\n",
       "</table>\n",
       "</div>"
      ],
      "text/plain": [
       "   day of the week  x coordinate  y coordinate  weapon used  result\n",
       "0                3       1885371        888361            6       1\n",
       "1                2       1889872        883640            0       0\n",
       "2                7       1893431        871953            0       1\n",
       "3                4       1887938        885881            0       0\n",
       "4                7       1892618        881991            3       1"
      ]
     },
     "execution_count": 6,
     "metadata": {},
     "output_type": "execute_result"
    }
   ],
   "source": [
    "# Map day of week input\n",
    "dayofweek_vars = ['day of the week']\n",
    "\n",
    "dataset[dayofweek_vars] = dataset[dayofweek_vars].apply(dayofweek_map)\n",
    "\n",
    "# Map weapon used by offender input\n",
    "weapon_vars = ['weapon used']\n",
    "\n",
    "dataset[weapon_vars] = dataset[weapon_vars].apply(weapon_map)\n",
    "\n",
    "# Map result output\n",
    "bin_vars = ['result']\n",
    "\n",
    "dataset[bin_vars] = dataset[bin_vars].apply(binary_map)\n",
    "\n",
    "dataset.head()"
   ]
  },
  {
   "cell_type": "code",
   "execution_count": 7,
   "id": "e9aa7d21-c9bc-44a4-ade0-8b079ac210b0",
   "metadata": {},
   "outputs": [],
   "source": [
    "# Split dataset into independent and dependent variables\n",
    "x = dataset.iloc[:, [0,1,2,3]].values\n",
    "y = dataset.iloc[:, 4].values"
   ]
  },
  {
   "cell_type": "code",
   "execution_count": 8,
   "id": "2fcfa790-4cbc-48d6-9ebb-ac9d05e831d7",
   "metadata": {},
   "outputs": [],
   "source": [
    "# Split dataset into training and test sets\n",
    "from sklearn.model_selection import train_test_split\n",
    "#np.random.seed(0)\n",
    "#x_train, x_test, y_train, y_test = train_test_split(x, y, train_size = 0.8, test_size = 0.2, random_state = 5)"
   ]
  },
  {
   "cell_type": "code",
   "execution_count": 9,
   "id": "55be70ef-2649-4252-8099-3c1d2b3578e8",
   "metadata": {},
   "outputs": [],
   "source": [
    "# Feature scale and standardize data\n",
    "from sklearn.preprocessing import MinMaxScaler, StandardScaler \n",
    "\n",
    "#scaler = StandardScaler()\n",
    "#x_train = scaler.fit_transform(x_train)\n",
    "#x_test = scaler.transform(x_test)"
   ]
  },
  {
   "cell_type": "code",
   "execution_count": 10,
   "id": "94826356-beb9-40c9-bce3-8b2f6e6781d8",
   "metadata": {},
   "outputs": [],
   "source": [
    "# Logistic regression on training set\n",
    "#from sklearn.linear_model import LogisticRegression\n",
    "#classifier = LogisticRegression(random_state = 0);\n",
    "#classifier.fit(x_train, y_train)\n",
    "#y_pred = classifier.predict(x_test)\n",
    "\n",
    "# Output first 9 predictions\n",
    "#y_pred[0:9]\n",
    "\n",
    "# Naive Bayes Classification\n",
    "#from sklearn.naive_bayes import GaussianNB\n",
    "#classifier = GaussianNB()\n",
    "#classifier.fit(x_train, y_train)\n",
    "#y_pred = classifier.predict(x_test)\n",
    "\n",
    "# Output first 9 predictions\n",
    "#y_pred[0:9]"
   ]
  },
  {
   "cell_type": "code",
   "execution_count": 11,
   "id": "6b89eb17-2bb0-4492-afbe-73066931c00b",
   "metadata": {},
   "outputs": [],
   "source": [
    "# Standardizing the features\n",
    "#x = StandardScaler().fit_transform(x)"
   ]
  },
  {
   "cell_type": "code",
   "execution_count": 12,
   "id": "36dd571c-0fa6-4cc4-918f-41d112010733",
   "metadata": {},
   "outputs": [
    {
     "data": {
      "text/plain": [
       "1"
      ]
     },
     "execution_count": 12,
     "metadata": {},
     "output_type": "execute_result"
    }
   ],
   "source": [
    "# Perform PCA analysis\n",
    "from sklearn.decomposition import PCA \n",
    "pca = PCA(0.95) \n",
    "pca.fit(x)\n",
    "principalDf = pca.transform(x)\n",
    "pca.n_components_"
   ]
  },
  {
   "cell_type": "code",
   "execution_count": 13,
   "id": "cb52d4a8-fc97-475c-8504-3eade1319468",
   "metadata": {},
   "outputs": [],
   "source": [
    "# Split into 80% training and 20% evaluation\n",
    "x_train, x_test, y_train, y_test = train_test_split(principalDf, y, train_size = 0.90, test_size = 0.10, random_state = 5)\n",
    "# Scale data\n",
    "scaler = StandardScaler()\n",
    "x_train = scaler.fit_transform(x_train)\n",
    "x_test = scaler.transform(x_test)\n",
    "\n",
    "# Logistic regression on training set\n",
    "from sklearn.linear_model import LogisticRegression\n",
    "classifier = LogisticRegression(class_weight = 'balanced');\n",
    "classifier.fit(x_train, y_train)\n",
    "y_pred = classifier.predict(x_test)"
   ]
  },
  {
   "cell_type": "code",
   "execution_count": 14,
   "id": "a32a04bd-6cba-44df-8feb-d060954b4996",
   "metadata": {},
   "outputs": [
    {
     "data": {
      "text/plain": [
       "array([[ 27, 194],\n",
       "       [ 18, 133]], dtype=int64)"
      ]
     },
     "execution_count": 14,
     "metadata": {},
     "output_type": "execute_result"
    }
   ],
   "source": [
    "from sklearn.metrics import confusion_matrix\n",
    "cnf_matrix = confusion_matrix(y_test, y_pred)\n",
    "cnf_matrix"
   ]
  },
  {
   "cell_type": "code",
   "execution_count": 15,
   "id": "ec2cbc19-b30e-49b5-be10-7ff8050f5cce",
   "metadata": {},
   "outputs": [
    {
     "name": "stdout",
     "output_type": "stream",
     "text": [
      "Accuracy: 0.43010752688172044\n",
      "Precision: 0.40672782874617736\n",
      "Recall: 0.8807947019867549\n"
     ]
    }
   ],
   "source": [
    "from sklearn import metrics\n",
    "print(\"Accuracy:\",metrics.accuracy_score(y_test, y_pred))\n",
    "print(\"Precision:\",metrics.precision_score(y_test, y_pred))\n",
    "print(\"Recall:\",metrics.recall_score(y_test, y_pred))"
   ]
  },
  {
   "cell_type": "code",
   "execution_count": 16,
   "id": "56841e1d-2641-4319-9ad0-572c635af3a2",
   "metadata": {},
   "outputs": [
    {
     "data": {
      "text/plain": [
       "Text(0.5, 257.44, 'Predicted label')"
      ]
     },
     "execution_count": 16,
     "metadata": {},
     "output_type": "execute_result"
    },
    {
     "data": {
      "image/png": "[encoded data removed]",
      "text/plain": [
       "<Figure size 432x288 with 2 Axes>"
      ]
     },
     "metadata": {
      "needs_background": "light"
     },
     "output_type": "display_data"
    }
   ],
   "source": [
    "import seaborn as sns\n",
    "class_names = [0,1] # name of classes\n",
    "fig, ax = plot.subplots()\n",
    "tick_marks = np.arange(len(class_names))\n",
    "plot.xticks(tick_marks, class_names)\n",
    "plot.yticks(tick_marks, class_names)\n",
    "# create heatmap\n",
    "sns.heatmap(pd.DataFrame(cnf_matrix), annot=True, cmap=\"YlGnBu\" ,fmt='g')\n",
    "ax.xaxis.set_label_position(\"top\")\n",
    "plot.tight_layout()\n",
    "plot.title('Confusion matrix', y=1.1)\n",
    "plot.ylabel('Actual label')\n",
    "plot.xlabel('Predicted label')"
   ]
  },
  {
   "cell_type": "code",
   "execution_count": null,
   "id": "4a165652-6d36-465e-9b0c-7cc3e6440fa0",
   "metadata": {},
   "outputs": [],
   "source": []
  }
 ],
 "metadata": {
  "kernelspec": {
   "display_name": "Python 3",
   "language": "python",
   "name": "python3"
  },
  "language_info": {
   "codemirror_mode": {
    "name": "ipython",
    "version": 3
   },
   "file_extension": ".py",
   "mimetype": "text/x-python",
   "name": "python",
   "nbconvert_exporter": "python",
   "pygments_lexer": "ipython3",
   "version": "3.8.8"
  }
 },
 "nbformat": 4,
 "nbformat_minor": 5
}
