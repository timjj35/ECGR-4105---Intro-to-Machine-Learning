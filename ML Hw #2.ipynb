{
 "cells": [
  {
   "cell_type": "code",
   "execution_count": 1,
   "id": "6af9081d-5f64-4ddc-bda6-503dc0af21fd",
   "metadata": {},
   "outputs": [],
   "source": [
    "# Name: Homework #2 -- ECGR 4105\n",
    "# Purpose: Logistic Regression\n",
    "# Author: Tim Johnson, Electrical Engineering Major, UNCC\n",
    "# Date Created: October 20, 2021"
   ]
  },
  {
   "cell_type": "code",
   "execution_count": 2,
   "id": "651efe80-c58c-4a75-a019-b934490a52bd",
   "metadata": {},
   "outputs": [
    {
     "data": {
      "text/html": [
       "<div>\n",
       "<style scoped>\n",
       "    .dataframe tbody tr th:only-of-type {\n",
       "        vertical-align: middle;\n",
       "    }\n",
       "\n",
       "    .dataframe tbody tr th {\n",
       "        vertical-align: top;\n",
       "    }\n",
       "\n",
       "    .dataframe thead th {\n",
       "        text-align: right;\n",
       "    }\n",
       "</style>\n",
       "<table border=\"1\" class=\"dataframe\">\n",
       "  <thead>\n",
       "    <tr style=\"text-align: right;\">\n",
       "      <th></th>\n",
       "      <th>Pregnancies</th>\n",
       "      <th>Glucose</th>\n",
       "      <th>BloodPressure</th>\n",
       "      <th>SkinThickness</th>\n",
       "      <th>Insulin</th>\n",
       "      <th>BMI</th>\n",
       "      <th>DiabetesPedigreeFunction</th>\n",
       "      <th>Age</th>\n",
       "      <th>Outcome</th>\n",
       "    </tr>\n",
       "  </thead>\n",
       "  <tbody>\n",
       "    <tr>\n",
       "      <th>0</th>\n",
       "      <td>6</td>\n",
       "      <td>148</td>\n",
       "      <td>72</td>\n",
       "      <td>35</td>\n",
       "      <td>0</td>\n",
       "      <td>33.6</td>\n",
       "      <td>0.627</td>\n",
       "      <td>50</td>\n",
       "      <td>1</td>\n",
       "    </tr>\n",
       "    <tr>\n",
       "      <th>1</th>\n",
       "      <td>1</td>\n",
       "      <td>85</td>\n",
       "      <td>66</td>\n",
       "      <td>29</td>\n",
       "      <td>0</td>\n",
       "      <td>26.6</td>\n",
       "      <td>0.351</td>\n",
       "      <td>31</td>\n",
       "      <td>0</td>\n",
       "    </tr>\n",
       "    <tr>\n",
       "      <th>2</th>\n",
       "      <td>8</td>\n",
       "      <td>183</td>\n",
       "      <td>64</td>\n",
       "      <td>0</td>\n",
       "      <td>0</td>\n",
       "      <td>23.3</td>\n",
       "      <td>0.672</td>\n",
       "      <td>32</td>\n",
       "      <td>1</td>\n",
       "    </tr>\n",
       "    <tr>\n",
       "      <th>3</th>\n",
       "      <td>1</td>\n",
       "      <td>89</td>\n",
       "      <td>66</td>\n",
       "      <td>23</td>\n",
       "      <td>94</td>\n",
       "      <td>28.1</td>\n",
       "      <td>0.167</td>\n",
       "      <td>21</td>\n",
       "      <td>0</td>\n",
       "    </tr>\n",
       "    <tr>\n",
       "      <th>4</th>\n",
       "      <td>0</td>\n",
       "      <td>137</td>\n",
       "      <td>40</td>\n",
       "      <td>35</td>\n",
       "      <td>168</td>\n",
       "      <td>43.1</td>\n",
       "      <td>2.288</td>\n",
       "      <td>33</td>\n",
       "      <td>1</td>\n",
       "    </tr>\n",
       "  </tbody>\n",
       "</table>\n",
       "</div>"
      ],
      "text/plain": [
       "   Pregnancies  Glucose  BloodPressure  SkinThickness  Insulin   BMI  \\\n",
       "0            6      148             72             35        0  33.6   \n",
       "1            1       85             66             29        0  26.6   \n",
       "2            8      183             64              0        0  23.3   \n",
       "3            1       89             66             23       94  28.1   \n",
       "4            0      137             40             35      168  43.1   \n",
       "\n",
       "   DiabetesPedigreeFunction  Age  Outcome  \n",
       "0                     0.627   50        1  \n",
       "1                     0.351   31        0  \n",
       "2                     0.672   32        1  \n",
       "3                     0.167   21        0  \n",
       "4                     2.288   33        1  "
      ]
     },
     "execution_count": 2,
     "metadata": {},
     "output_type": "execute_result"
    }
   ],
   "source": [
    "# Import needed libraries\n",
    "import numpy as np\n",
    "import pandas as pd\n",
    "import matplotlib.pyplot as plot\n",
    "import seaborn as sns\n",
    "\n",
    "# Read the csv file that has the dataset\n",
    "diabetes = pd.read_csv('diabetes.csv');\n",
    "diabetes.head()"
   ]
  },
  {
   "cell_type": "code",
   "execution_count": 3,
   "id": "1597758c-b00e-44f4-97fe-00c005936bec",
   "metadata": {},
   "outputs": [],
   "source": [
    "# Split dataset into independent and dependent variables\n",
    "x = diabetes.iloc[:, [0,1,2,3,4,5,6,7]].values\n",
    "y = diabetes.iloc[:, 8].values"
   ]
  },
  {
   "cell_type": "code",
   "execution_count": 4,
   "id": "ae1b7e4b-d52c-4672-aeb1-f5ec69ef3295",
   "metadata": {},
   "outputs": [],
   "source": [
    "######################################################################################################\n",
    "# PROBLEM 1"
   ]
  },
  {
   "cell_type": "code",
   "execution_count": 5,
   "id": "d97f4571-b4a8-4c99-abed-00358fda03dd",
   "metadata": {
    "tags": []
   },
   "outputs": [],
   "source": [
    "# Split dataset into training and test sets\n",
    "from sklearn.model_selection import train_test_split\n",
    "np.random.seed(0)\n",
    "x_train, x_test, y_train, y_test = train_test_split(x, y, train_size = 0.8, test_size = 0.2, random_state = 5)"
   ]
  },
  {
   "cell_type": "code",
   "execution_count": 6,
   "id": "c1ec4d68-51f9-4086-9935-f9ed3d39894d",
   "metadata": {},
   "outputs": [],
   "source": [
    "# Feature scale and standardize data\n",
    "from sklearn.preprocessing import StandardScaler\n",
    "scaler = StandardScaler()\n",
    "x_train = scaler.fit_transform(x_train)\n",
    "x_test = scaler.transform(x_test)"
   ]
  },
  {
   "cell_type": "code",
   "execution_count": 7,
   "id": "fbead25a-8715-411b-b3e7-a63a181d62a9",
   "metadata": {
    "tags": []
   },
   "outputs": [
    {
     "data": {
      "text/plain": [
       "array([0, 0, 0, 0, 0, 0, 0, 1, 1], dtype=int64)"
      ]
     },
     "execution_count": 7,
     "metadata": {},
     "output_type": "execute_result"
    }
   ],
   "source": [
    "# Logistic regression on training set\n",
    "from sklearn.linear_model import LogisticRegression\n",
    "classifier = LogisticRegression(random_state = 0);\n",
    "classifier.fit(x_train, y_train)\n",
    "y_pred = classifier.predict(x_test)\n",
    "\n",
    "# Output first 9 predictions\n",
    "y_pred[0:9]"
   ]
  },
  {
   "cell_type": "code",
   "execution_count": 8,
   "id": "f16edbdc-1366-4a6b-8f98-45bbb0e1ab11",
   "metadata": {},
   "outputs": [
    {
     "data": {
      "text/plain": [
       "array([[88, 12],\n",
       "       [19, 35]], dtype=int64)"
      ]
     },
     "execution_count": 8,
     "metadata": {},
     "output_type": "execute_result"
    }
   ],
   "source": [
    "from sklearn.metrics import confusion_matrix\n",
    "cnf_matrix = confusion_matrix(y_test, y_pred)\n",
    "cnf_matrix"
   ]
  },
  {
   "cell_type": "code",
   "execution_count": 9,
   "id": "77718b95-2500-4440-b198-e805519533e9",
   "metadata": {},
   "outputs": [
    {
     "name": "stdout",
     "output_type": "stream",
     "text": [
      "Accuracy: 0.7987012987012987\n",
      "Precision: 0.7446808510638298\n",
      "Recall: 0.6481481481481481\n"
     ]
    }
   ],
   "source": [
    "from sklearn import metrics\n",
    "print(\"Accuracy:\",metrics.accuracy_score(y_test, y_pred))\n",
    "print(\"Precision:\",metrics.precision_score(y_test, y_pred))\n",
    "print(\"Recall:\",metrics.recall_score(y_test, y_pred))"
   ]
  },
  {
   "cell_type": "code",
   "execution_count": 10,
   "id": "11c91dc7-ea89-4df4-aaaf-3ce9f947f7ca",
   "metadata": {},
   "outputs": [
    {
     "data": {
      "text/plain": [
       "Text(0.5, 257.44, 'Predicted label')"
      ]
     },
     "execution_count": 10,
     "metadata": {},
     "output_type": "execute_result"
    },
    {
     "data": {
      "image/png": "[encoded data removed]",
      "text/plain": [
       "<Figure size 432x288 with 2 Axes>"
      ]
     },
     "metadata": {
      "needs_background": "light"
     },
     "output_type": "display_data"
    }
   ],
   "source": [
    "import seaborn as sns\n",
    "class_names = [0,1] # name of classes\n",
    "fig, ax = plot.subplots()\n",
    "tick_marks = np.arange(len(class_names))\n",
    "plot.xticks(tick_marks, class_names)\n",
    "plot.yticks(tick_marks, class_names)\n",
    "# create heatmap\n",
    "sns.heatmap(pd.DataFrame(cnf_matrix), annot=True, cmap=\"YlGnBu\" ,fmt='g')\n",
    "ax.xaxis.set_label_position(\"top\")\n",
    "plot.tight_layout()\n",
    "plot.title('Confusion matrix', y=1.1)\n",
    "plot.ylabel('Actual label')\n",
    "plot.xlabel('Predicted label')"
   ]
  },
  {
   "cell_type": "code",
   "execution_count": 11,
   "id": "8e599d57-c3bc-4287-bfa4-c7c4d7a99206",
   "metadata": {},
   "outputs": [],
   "source": [
    "######################################################################################################\n",
    "# PROBLEM 2"
   ]
  },
  {
   "cell_type": "code",
   "execution_count": 12,
   "id": "69861062-1ce2-4332-ba21-ea2a27d7f8cd",
   "metadata": {},
   "outputs": [],
   "source": [
    "# Split dataset into training and test sets\n",
    "np.random.seed(0)\n",
    "x_train, x_test, y_train, y_test = train_test_split(x, y, train_size = 0.8, test_size = 0.2, random_state = 4)"
   ]
  },
  {
   "cell_type": "code",
   "execution_count": 13,
   "id": "5c173438-577b-4bc0-9910-00b031627c12",
   "metadata": {},
   "outputs": [],
   "source": [
    "# Feature scale data\n",
    "scaler = StandardScaler()\n",
    "x_train = scaler.fit_transform(x_train)\n",
    "x_test = scaler.transform(x_test)"
   ]
  },
  {
   "cell_type": "code",
   "execution_count": 14,
   "id": "0ee332ce-3c85-4cb0-9d6a-32d6c83537b3",
   "metadata": {},
   "outputs": [
    {
     "data": {
      "text/plain": [
       "array([0, 0, 0, 0, 0, 1, 1, 1, 1], dtype=int64)"
      ]
     },
     "execution_count": 14,
     "metadata": {},
     "output_type": "execute_result"
    }
   ],
   "source": [
    "# Naive Bayes Classification\n",
    "from sklearn.naive_bayes import GaussianNB\n",
    "classifier = GaussianNB()\n",
    "classifier.fit(x_train, y_train)\n",
    "y_pred = classifier.predict(x_test)\n",
    "\n",
    "# Output first 9 predictions\n",
    "y_pred[0:9]"
   ]
  },
  {
   "cell_type": "code",
   "execution_count": 15,
   "id": "88510b8d-aa40-4653-85bb-baafb5682088",
   "metadata": {},
   "outputs": [
    {
     "data": {
      "text/plain": [
       "array([[83, 19],\n",
       "       [18, 34]], dtype=int64)"
      ]
     },
     "execution_count": 15,
     "metadata": {},
     "output_type": "execute_result"
    }
   ],
   "source": [
    "cnf_matrix = confusion_matrix(y_test, y_pred)\n",
    "cnf_matrix"
   ]
  },
  {
   "cell_type": "code",
   "execution_count": 16,
   "id": "60181707-15e1-42ba-8826-c9592cacbb90",
   "metadata": {},
   "outputs": [
    {
     "name": "stdout",
     "output_type": "stream",
     "text": [
      "Accuracy: 0.7597402597402597\n",
      "Precision: 0.6415094339622641\n",
      "Recall: 0.6538461538461539\n"
     ]
    }
   ],
   "source": [
    "print(\"Accuracy:\",metrics.accuracy_score(y_test, y_pred))\n",
    "print(\"Precision:\",metrics.precision_score(y_test, y_pred))\n",
    "print(\"Recall:\",metrics.recall_score(y_test, y_pred))"
   ]
  },
  {
   "cell_type": "code",
   "execution_count": 17,
   "id": "fd00b1f5-51f1-494c-9475-e2b2313f372a",
   "metadata": {},
   "outputs": [
    {
     "data": {
      "text/plain": [
       "Text(0.5, 257.44, 'Predicted label')"
      ]
     },
     "execution_count": 17,
     "metadata": {},
     "output_type": "execute_result"
    },
    {
     "data": {
      "image/png": "[encoded data removed]",
      "text/plain": [
       "<Figure size 432x288 with 2 Axes>"
      ]
     },
     "metadata": {
      "needs_background": "light"
     },
     "output_type": "display_data"
    }
   ],
   "source": [
    "class_names = [0,1] # name of classes\n",
    "fig, ax = plot.subplots()\n",
    "tick_marks = np.arange(len(class_names))\n",
    "plot.xticks(tick_marks, class_names)\n",
    "plot.yticks(tick_marks, class_names)\n",
    "# create heatmap\n",
    "sns.heatmap(pd.DataFrame(cnf_matrix), annot=True, cmap=\"YlGnBu\" ,fmt='g')\n",
    "ax.xaxis.set_label_position(\"top\")\n",
    "plot.tight_layout()\n",
    "plot.title('Confusion matrix', y=1.1)\n",
    "plot.ylabel('Actual label')\n",
    "plot.xlabel('Predicted label')"
   ]
  },
  {
   "cell_type": "code",
   "execution_count": 18,
   "id": "de98deab-85c4-40b0-a497-e3a573f70ba1",
   "metadata": {},
   "outputs": [],
   "source": [
    "######################################################################################################\n",
    "# PROBLEM 3"
   ]
  },
  {
   "cell_type": "code",
   "execution_count": 19,
   "id": "036a7680-7b00-4fd6-ad40-f28e2ebd6e1c",
   "metadata": {},
   "outputs": [],
   "source": [
    "from sklearn.model_selection import KFold\n",
    "from sklearn.model_selection import cross_val_score\n",
    "from numpy import mean\n",
    "from sklearn.metrics import make_scorer, accuracy_score, precision_score, recall_score\n",
    "\n",
    "# Feature scale data\n",
    "scaler = StandardScaler()\n",
    "x = scaler.fit_transform(x)\n",
    "\n",
    "# Logistic regression on data\n",
    "classifier = LogisticRegression();"
   ]
  },
  {
   "cell_type": "code",
   "execution_count": 20,
   "id": "1e66c563-90e6-4cf5-9d93-4f2e91446108",
   "metadata": {},
   "outputs": [],
   "source": [
    "# Define the number of K folds to be 5\n",
    "cv_5 = KFold(n_splits = 5, shuffle = True, random_state = 1)\n",
    "\n",
    "scoring_a = make_scorer(accuracy_score)\n",
    "scoring_p = make_scorer(precision_score)\n",
    "scoring_r = make_scorer(recall_score)"
   ]
  },
  {
   "cell_type": "code",
   "execution_count": 21,
   "id": "3cada8b3-ac1f-46c4-9951-3151fe67c3d0",
   "metadata": {},
   "outputs": [],
   "source": [
    "# Evaluate the dataset through cross validation for accuracy, precision, recall\n",
    "score_a = cross_val_score(classifier, x, y, scoring=scoring_a, cv=cv_5, n_jobs=-1)\n",
    "score_p = cross_val_score(classifier, x, y, scoring=scoring_p, cv=cv_5, n_jobs=-1)\n",
    "score_r = cross_val_score(classifier, x, y, scoring=scoring_r, cv=cv_5, n_jobs=-1)"
   ]
  },
  {
   "cell_type": "code",
   "execution_count": 22,
   "id": "4326e9e2-5350-442e-88da-b724dffb0a1f",
   "metadata": {},
   "outputs": [
    {
     "name": "stdout",
     "output_type": "stream",
     "text": [
      "Results of Kfold cross validation for k = 5\n",
      "Accuracy:  0.7695187165775401\n",
      "Precision:  0.7159381269137366\n",
      "Recall:  0.5643909444852842\n"
     ]
    }
   ],
   "source": [
    "print('Results of Kfold cross validation for k = 5')\n",
    "print('Accuracy: ', mean(score_a))\n",
    "print('Precision: ', mean(score_p))\n",
    "print('Recall: ', mean(score_r))"
   ]
  },
  {
   "cell_type": "code",
   "execution_count": 23,
   "id": "f17458ba-aad3-436f-84c3-ac9d69139605",
   "metadata": {},
   "outputs": [],
   "source": [
    "# Define the number of K folds to be 10\n",
    "cv_10 = KFold(n_splits = 10, shuffle = True, random_state = 2)\n",
    "\n",
    "scoring_a = make_scorer(accuracy_score)\n",
    "scoring_p = make_scorer(precision_score)\n",
    "scoring_r = make_scorer(recall_score)"
   ]
  },
  {
   "cell_type": "code",
   "execution_count": 24,
   "id": "cc3208ee-3925-4270-8477-8b6019ea417e",
   "metadata": {},
   "outputs": [],
   "source": [
    "# Evaluate the dataset through cross validation for accuracy, precision, recall\n",
    "score_a = cross_val_score(classifier, x, y, scoring=scoring_a, cv=cv_10, n_jobs=-1)\n",
    "score_p = cross_val_score(classifier, x, y, scoring=scoring_p, cv=cv_10, n_jobs=-1)\n",
    "score_r = cross_val_score(classifier, x, y, scoring=scoring_r, cv=cv_10, n_jobs=-1)"
   ]
  },
  {
   "cell_type": "code",
   "execution_count": 25,
   "id": "1ae9e846-9561-4c67-9868-dfde56ddfe61",
   "metadata": {},
   "outputs": [
    {
     "name": "stdout",
     "output_type": "stream",
     "text": [
      "Results of Kfold cross validation for k = 10\n",
      "Accuracy:  0.774794941900205\n",
      "Precision:  0.7225267105129806\n",
      "Recall:  0.5712219724486863\n"
     ]
    }
   ],
   "source": [
    "print('Results of Kfold cross validation for k = 10')\n",
    "print('Accuracy: ', mean(score_a))\n",
    "print('Precision: ', mean(score_p))\n",
    "print('Recall: ', mean(score_r))"
   ]
  },
  {
   "cell_type": "code",
   "execution_count": 26,
   "id": "bf87ac50-1e72-46ec-a0b6-7744d729c786",
   "metadata": {},
   "outputs": [],
   "source": [
    "######################################################################################################\n",
    "# PROBLEM 4"
   ]
  },
  {
   "cell_type": "code",
   "execution_count": 27,
   "id": "d137cfff-14a2-4d46-b3c1-87b6ce8e74fa",
   "metadata": {},
   "outputs": [],
   "source": [
    "# Feature scale data\n",
    "scaler = StandardScaler()\n",
    "x = scaler.fit_transform(x)\n",
    "\n",
    "# Guassian Bayes classification\n",
    "classifier = GaussianNB()"
   ]
  },
  {
   "cell_type": "code",
   "execution_count": 28,
   "id": "bbcaeac8-e330-4416-ba79-d1747b3f2945",
   "metadata": {},
   "outputs": [],
   "source": [
    "# Define the number of K folds to be 5\n",
    "cv_5 = KFold(n_splits = 5, shuffle = True, random_state = 3)\n",
    "\n",
    "scoring_a = make_scorer(accuracy_score)\n",
    "scoring_p = make_scorer(precision_score)\n",
    "scoring_r = make_scorer(recall_score)"
   ]
  },
  {
   "cell_type": "code",
   "execution_count": 29,
   "id": "a9f37c5c-f97d-4b2a-a0ec-08f735e28499",
   "metadata": {},
   "outputs": [],
   "source": [
    "# Evaluate the dataset through cross validation for accuracy, precision, recall\n",
    "score_a = cross_val_score(classifier, x, y, scoring=scoring_a, cv=cv_5, n_jobs=-1)\n",
    "score_p = cross_val_score(classifier, x, y, scoring=scoring_p, cv=cv_5, n_jobs=-1)\n",
    "score_r = cross_val_score(classifier, x, y, scoring=scoring_r, cv=cv_5, n_jobs=-1)"
   ]
  },
  {
   "cell_type": "code",
   "execution_count": 30,
   "id": "d4b20a00-e859-4ac6-9992-7c37bd488d79",
   "metadata": {},
   "outputs": [
    {
     "name": "stdout",
     "output_type": "stream",
     "text": [
      "Results of Kfold cross validation for k = 5\n",
      "Accuracy:  0.7526355996944232\n",
      "Precision:  0.6681052323464701\n",
      "Recall:  0.5948886228978395\n"
     ]
    }
   ],
   "source": [
    "print('Results of Kfold cross validation for k = 5')\n",
    "print('Accuracy: ', mean(score_a))\n",
    "print('Precision: ', mean(score_p))\n",
    "print('Recall: ', mean(score_r))"
   ]
  },
  {
   "cell_type": "code",
   "execution_count": 31,
   "id": "f892e59b-f621-485a-ab03-5d56c5579e70",
   "metadata": {},
   "outputs": [],
   "source": [
    "# Define the number of K folds to be 10\n",
    "cv_10 = KFold(n_splits = 10, shuffle = True, random_state = 2)\n",
    "\n",
    "scoring_a = make_scorer(accuracy_score)\n",
    "scoring_p = make_scorer(precision_score)\n",
    "scoring_r = make_scorer(recall_score)"
   ]
  },
  {
   "cell_type": "code",
   "execution_count": 32,
   "id": "697c2a7a-9c94-4258-a2aa-02b4eebeebf9",
   "metadata": {},
   "outputs": [],
   "source": [
    "# Evaluate the dataset through cross validation for accuracy, precision, recall\n",
    "score_a = cross_val_score(classifier, x, y, scoring=scoring_a, cv=cv_10, n_jobs=-1)\n",
    "score_p = cross_val_score(classifier, x, y, scoring=scoring_p, cv=cv_10, n_jobs=-1)\n",
    "score_r = cross_val_score(classifier, x, y, scoring=scoring_r, cv=cv_10, n_jobs=-1)"
   ]
  },
  {
   "cell_type": "code",
   "execution_count": 33,
   "id": "cc07efc8-fb57-4a50-8063-1d8dadf75371",
   "metadata": {},
   "outputs": [
    {
     "name": "stdout",
     "output_type": "stream",
     "text": [
      "Results of Kfold cross validation for k = 10\n",
      "Accuracy:  0.7618762816131238\n",
      "Precision:  0.675342646858389\n",
      "Recall:  0.6068432601425986\n"
     ]
    }
   ],
   "source": [
    "print('Results of Kfold cross validation for k = 10')\n",
    "print('Accuracy: ', mean(score_a))\n",
    "print('Precision: ', mean(score_p))\n",
    "print('Recall: ', mean(score_r))"
   ]
  }
 ],
 "metadata": {
  "kernelspec": {
   "display_name": "Python 3",
   "language": "python",
   "name": "python3"
  },
  "language_info": {
   "codemirror_mode": {
    "name": "ipython",
    "version": 3
   },
   "file_extension": ".py",
   "mimetype": "text/x-python",
   "name": "python",
   "nbconvert_exporter": "python",
   "pygments_lexer": "ipython3",
   "version": "3.8.8"
  }
 },
 "nbformat": 4,
 "nbformat_minor": 5
}
