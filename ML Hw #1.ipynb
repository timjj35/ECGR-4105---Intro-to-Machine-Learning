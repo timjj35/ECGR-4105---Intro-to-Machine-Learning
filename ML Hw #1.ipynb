{
 "cells": [
  {
   "cell_type": "code",
   "execution_count": 1,
   "id": "1a95ccd4-0ee1-4929-9fea-aeccf3c119d2",
   "metadata": {},
   "outputs": [],
   "source": [
    "# Name: Homework #1 -- ECGR 4105\n",
    "# Purpose: Feature scaling and regularization\n",
    "# Author: Tim Johnson, Electrical Engineering Major, UNCC\n",
    "# Date Created: September 27, 2021"
   ]
  },
  {
   "cell_type": "code",
   "execution_count": 2,
   "id": "ba32eb55-8a11-45b3-b72f-affd7b9cea30",
   "metadata": {
    "tags": []
   },
   "outputs": [
    {
     "data": {
      "text/html": [
       "<div>\n",
       "<style scoped>\n",
       "    .dataframe tbody tr th:only-of-type {\n",
       "        vertical-align: middle;\n",
       "    }\n",
       "\n",
       "    .dataframe tbody tr th {\n",
       "        vertical-align: top;\n",
       "    }\n",
       "\n",
       "    .dataframe thead th {\n",
       "        text-align: right;\n",
       "    }\n",
       "</style>\n",
       "<table border=\"1\" class=\"dataframe\">\n",
       "  <thead>\n",
       "    <tr style=\"text-align: right;\">\n",
       "      <th></th>\n",
       "      <th>price</th>\n",
       "      <th>area</th>\n",
       "      <th>bedrooms</th>\n",
       "      <th>bathrooms</th>\n",
       "      <th>stories</th>\n",
       "      <th>mainroad</th>\n",
       "      <th>guestroom</th>\n",
       "      <th>basement</th>\n",
       "      <th>hotwaterheating</th>\n",
       "      <th>airconditioning</th>\n",
       "      <th>parking</th>\n",
       "      <th>prefarea</th>\n",
       "      <th>furnishingstatus</th>\n",
       "    </tr>\n",
       "  </thead>\n",
       "  <tbody>\n",
       "    <tr>\n",
       "      <th>0</th>\n",
       "      <td>13300000</td>\n",
       "      <td>7420</td>\n",
       "      <td>4</td>\n",
       "      <td>2</td>\n",
       "      <td>3</td>\n",
       "      <td>yes</td>\n",
       "      <td>no</td>\n",
       "      <td>no</td>\n",
       "      <td>no</td>\n",
       "      <td>yes</td>\n",
       "      <td>2</td>\n",
       "      <td>yes</td>\n",
       "      <td>furnished</td>\n",
       "    </tr>\n",
       "    <tr>\n",
       "      <th>1</th>\n",
       "      <td>12250000</td>\n",
       "      <td>8960</td>\n",
       "      <td>4</td>\n",
       "      <td>4</td>\n",
       "      <td>4</td>\n",
       "      <td>yes</td>\n",
       "      <td>no</td>\n",
       "      <td>no</td>\n",
       "      <td>no</td>\n",
       "      <td>yes</td>\n",
       "      <td>3</td>\n",
       "      <td>no</td>\n",
       "      <td>furnished</td>\n",
       "    </tr>\n",
       "    <tr>\n",
       "      <th>2</th>\n",
       "      <td>12250000</td>\n",
       "      <td>9960</td>\n",
       "      <td>3</td>\n",
       "      <td>2</td>\n",
       "      <td>2</td>\n",
       "      <td>yes</td>\n",
       "      <td>no</td>\n",
       "      <td>yes</td>\n",
       "      <td>no</td>\n",
       "      <td>no</td>\n",
       "      <td>2</td>\n",
       "      <td>yes</td>\n",
       "      <td>semi-furnished</td>\n",
       "    </tr>\n",
       "    <tr>\n",
       "      <th>3</th>\n",
       "      <td>12215000</td>\n",
       "      <td>7500</td>\n",
       "      <td>4</td>\n",
       "      <td>2</td>\n",
       "      <td>2</td>\n",
       "      <td>yes</td>\n",
       "      <td>no</td>\n",
       "      <td>yes</td>\n",
       "      <td>no</td>\n",
       "      <td>yes</td>\n",
       "      <td>3</td>\n",
       "      <td>yes</td>\n",
       "      <td>furnished</td>\n",
       "    </tr>\n",
       "    <tr>\n",
       "      <th>4</th>\n",
       "      <td>11410000</td>\n",
       "      <td>7420</td>\n",
       "      <td>4</td>\n",
       "      <td>1</td>\n",
       "      <td>2</td>\n",
       "      <td>yes</td>\n",
       "      <td>yes</td>\n",
       "      <td>yes</td>\n",
       "      <td>no</td>\n",
       "      <td>yes</td>\n",
       "      <td>2</td>\n",
       "      <td>no</td>\n",
       "      <td>furnished</td>\n",
       "    </tr>\n",
       "  </tbody>\n",
       "</table>\n",
       "</div>"
      ],
      "text/plain": [
       "      price  area  bedrooms  bathrooms  stories mainroad guestroom basement  \\\n",
       "0  13300000  7420         4          2        3      yes        no       no   \n",
       "1  12250000  8960         4          4        4      yes        no       no   \n",
       "2  12250000  9960         3          2        2      yes        no      yes   \n",
       "3  12215000  7500         4          2        2      yes        no      yes   \n",
       "4  11410000  7420         4          1        2      yes       yes      yes   \n",
       "\n",
       "  hotwaterheating airconditioning  parking prefarea furnishingstatus  \n",
       "0              no             yes        2      yes        furnished  \n",
       "1              no             yes        3       no        furnished  \n",
       "2              no              no        2      yes   semi-furnished  \n",
       "3              no             yes        3      yes        furnished  \n",
       "4              no             yes        2       no        furnished  "
      ]
     },
     "execution_count": 2,
     "metadata": {},
     "output_type": "execute_result"
    }
   ],
   "source": [
    "# Import needed libraries\n",
    "import numpy as np\n",
    "import pandas as pd\n",
    "import matplotlib.pyplot as plot\n",
    "import seaborn as sns\n",
    "\n",
    "# Read the csv file that has the dataset\n",
    "housing = pd.read_csv('/Users/timjj/OneDrive/Desktop/Housing.csv');\n",
    "housing.head()"
   ]
  },
  {
   "cell_type": "code",
   "execution_count": 3,
   "id": "3e81db21-668d-4590-ac23-3dbd8a88651a",
   "metadata": {},
   "outputs": [],
   "source": [
    "####################################################################################################################\n",
    "# CUSTOM FUNCTIONS"
   ]
  },
  {
   "cell_type": "code",
   "execution_count": 4,
   "id": "f835d1ab-528e-44ad-b59f-f4b39776c519",
   "metadata": {
    "tags": []
   },
   "outputs": [],
   "source": [
    "####################################################################################################################\n",
    "####################################################################################################################\n",
    "# Custom function for calculating cost or loss(J)\n",
    "def calc_cost(x, y, theta):\n",
    "    \n",
    "# calculate h for cost equation\n",
    "    h = x.dot(theta);\n",
    "# calculate error for cost equation --> (h - y)\n",
    "    error = np.subtract(h, y);\n",
    "# raise error to the 2nd power\n",
    "    sqrError = np.square(error);\n",
    "# calculate cost --> J\n",
    "    J = 1/(2*length) * np.sum(sqrError);\n",
    "\n",
    "    return J"
   ]
  },
  {
   "cell_type": "code",
   "execution_count": 5,
   "id": "dd8d98c8-18ce-4f13-9ff7-56b163ca0e94",
   "metadata": {
    "tags": []
   },
   "outputs": [],
   "source": [
    "# Make into binary\n",
    "bin_vars = ['mainroad','guestroom','basement','airconditioning','hotwaterheating', 'prefarea']\n",
    "\n",
    "# Defining the map function\n",
    "def binary_map(x):\n",
    "    \n",
    "    return x.map({'yes': 1, \"no\": 0})"
   ]
  },
  {
   "cell_type": "code",
   "execution_count": 6,
   "id": "6ab7491f-b99b-4376-af32-793a98a69c5e",
   "metadata": {
    "tags": []
   },
   "outputs": [],
   "source": [
    "# Custom function for calculating gradient descent (theta_j)\n",
    "def calc_grad_descent(x, y, theta, alpha, num_iter):\n",
    "    \n",
    "# Pre-populate cost history with 0\n",
    "    cost_history = np.zeros(num_iter)\n",
    "# write for loop to calculate gradient descent\n",
    "    for i in range(num_iter):\n",
    "        h = x.dot(theta);\n",
    "        error = np.subtract(h, y);\n",
    "        summation = (alpha/length) * x.transpose().dot(error);\n",
    "        theta = theta - summation;\n",
    "        cost_history[i] = calc_cost(x, y, theta);\n",
    "        \n",
    "    return theta, cost_history\n",
    "\n",
    "####################################################################################################################\n",
    "####################################################################################################################"
   ]
  },
  {
   "cell_type": "code",
   "execution_count": 7,
   "id": "4dccbef7-39e6-4c08-961c-af438183983d",
   "metadata": {
    "tags": []
   },
   "outputs": [],
   "source": [
    "# Custom function for calculating gradient descent (theta_j) with regularization\n",
    "def calc_grad_descent_reg(x, y, theta, alpha, lamda, num_iter):\n",
    "    \n",
    "# Pre-populate cost history with 0\n",
    "    cost_history = np.zeros(num_iter)\n",
    "# write for loop to calculate gradient descent\n",
    "   # for i in range(num_iter):\n",
    "    #    h = x.dot(theta);\n",
    "    #    error = np.subtract(h, y);\n",
    "     #   summation = (alpha/length) * x.transpose().dot(error);\n",
    "     #   regularization = 1 - (alpha*lamda)/(length);\n",
    "      #  theta = theta.dot(regularization) - summation;\n",
    "       \n",
    "    for i in range(num_iter):\n",
    "        h = x.dot(theta)\n",
    "        error = np.subtract(h, y)\n",
    "        theta[0]=1\n",
    "        summation = ((alpha / length) * x.transpose().dot(error))\n",
    "        theta = [element * (1-((alpha*lamda)/length)) for element in theta] - summation;\n",
    "        cost_history[i] = calc_cost(x, y, theta);\n",
    "        #testcosthistory[i]= computecostoutput(TestOutput, TestPrice, theta)\n",
    "        #costhistory[i] = computecostoutput(Output, Price, theta)\n",
    "    #return theta, costhistory, testcosthistory \n",
    "        \n",
    "    return theta, cost_history"
   ]
  },
  {
   "cell_type": "code",
   "execution_count": 8,
   "id": "b29de14c-69f8-42f6-8d01-d5981f75d1b0",
   "metadata": {},
   "outputs": [],
   "source": [
    "####################################################################################################################\n",
    "####################################################################################################################\n",
    "\n",
    "# PROBLEM 1"
   ]
  },
  {
   "cell_type": "code",
   "execution_count": 9,
   "id": "5459b723-bb5b-4d38-af86-d789c52eee98",
   "metadata": {},
   "outputs": [],
   "source": [
    "######################################################################################\n",
    "#          PART A"
   ]
  },
  {
   "cell_type": "code",
   "execution_count": 10,
   "id": "314d5f2e-9811-4939-89f2-19269be53126",
   "metadata": {
    "tags": []
   },
   "outputs": [
    {
     "data": {
      "text/html": [
       "<div>\n",
       "<style scoped>\n",
       "    .dataframe tbody tr th:only-of-type {\n",
       "        vertical-align: middle;\n",
       "    }\n",
       "\n",
       "    .dataframe tbody tr th {\n",
       "        vertical-align: top;\n",
       "    }\n",
       "\n",
       "    .dataframe thead th {\n",
       "        text-align: right;\n",
       "    }\n",
       "</style>\n",
       "<table border=\"1\" class=\"dataframe\">\n",
       "  <thead>\n",
       "    <tr style=\"text-align: right;\">\n",
       "      <th></th>\n",
       "      <th>price</th>\n",
       "      <th>area</th>\n",
       "      <th>bedrooms</th>\n",
       "      <th>bathrooms</th>\n",
       "      <th>stories</th>\n",
       "      <th>mainroad</th>\n",
       "      <th>guestroom</th>\n",
       "      <th>basement</th>\n",
       "      <th>hotwaterheating</th>\n",
       "      <th>airconditioning</th>\n",
       "      <th>parking</th>\n",
       "      <th>prefarea</th>\n",
       "      <th>furnishingstatus</th>\n",
       "    </tr>\n",
       "  </thead>\n",
       "  <tbody>\n",
       "    <tr>\n",
       "      <th>122</th>\n",
       "      <td>5950000</td>\n",
       "      <td>6254</td>\n",
       "      <td>4</td>\n",
       "      <td>2</td>\n",
       "      <td>1</td>\n",
       "      <td>yes</td>\n",
       "      <td>no</td>\n",
       "      <td>yes</td>\n",
       "      <td>no</td>\n",
       "      <td>no</td>\n",
       "      <td>1</td>\n",
       "      <td>yes</td>\n",
       "      <td>semi-furnished</td>\n",
       "    </tr>\n",
       "    <tr>\n",
       "      <th>9</th>\n",
       "      <td>9800000</td>\n",
       "      <td>5750</td>\n",
       "      <td>3</td>\n",
       "      <td>2</td>\n",
       "      <td>4</td>\n",
       "      <td>yes</td>\n",
       "      <td>yes</td>\n",
       "      <td>no</td>\n",
       "      <td>no</td>\n",
       "      <td>yes</td>\n",
       "      <td>1</td>\n",
       "      <td>yes</td>\n",
       "      <td>unfurnished</td>\n",
       "    </tr>\n",
       "    <tr>\n",
       "      <th>295</th>\n",
       "      <td>4200000</td>\n",
       "      <td>2325</td>\n",
       "      <td>3</td>\n",
       "      <td>1</td>\n",
       "      <td>2</td>\n",
       "      <td>no</td>\n",
       "      <td>no</td>\n",
       "      <td>no</td>\n",
       "      <td>no</td>\n",
       "      <td>no</td>\n",
       "      <td>0</td>\n",
       "      <td>no</td>\n",
       "      <td>semi-furnished</td>\n",
       "    </tr>\n",
       "    <tr>\n",
       "      <th>299</th>\n",
       "      <td>4200000</td>\n",
       "      <td>7000</td>\n",
       "      <td>3</td>\n",
       "      <td>1</td>\n",
       "      <td>1</td>\n",
       "      <td>yes</td>\n",
       "      <td>no</td>\n",
       "      <td>no</td>\n",
       "      <td>no</td>\n",
       "      <td>no</td>\n",
       "      <td>3</td>\n",
       "      <td>no</td>\n",
       "      <td>furnished</td>\n",
       "    </tr>\n",
       "    <tr>\n",
       "      <th>524</th>\n",
       "      <td>2380000</td>\n",
       "      <td>3264</td>\n",
       "      <td>2</td>\n",
       "      <td>1</td>\n",
       "      <td>1</td>\n",
       "      <td>yes</td>\n",
       "      <td>no</td>\n",
       "      <td>no</td>\n",
       "      <td>no</td>\n",
       "      <td>no</td>\n",
       "      <td>0</td>\n",
       "      <td>no</td>\n",
       "      <td>unfurnished</td>\n",
       "    </tr>\n",
       "  </tbody>\n",
       "</table>\n",
       "</div>"
      ],
      "text/plain": [
       "       price  area  bedrooms  bathrooms  stories mainroad guestroom basement  \\\n",
       "122  5950000  6254         4          2        1      yes        no      yes   \n",
       "9    9800000  5750         3          2        4      yes       yes       no   \n",
       "295  4200000  2325         3          1        2       no        no       no   \n",
       "299  4200000  7000         3          1        1      yes        no       no   \n",
       "524  2380000  3264         2          1        1      yes        no       no   \n",
       "\n",
       "    hotwaterheating airconditioning  parking prefarea furnishingstatus  \n",
       "122              no              no        1      yes   semi-furnished  \n",
       "9                no             yes        1      yes      unfurnished  \n",
       "295              no              no        0       no   semi-furnished  \n",
       "299              no              no        3       no        furnished  \n",
       "524              no              no        0       no      unfurnished  "
      ]
     },
     "execution_count": 10,
     "metadata": {},
     "output_type": "execute_result"
    }
   ],
   "source": [
    "from sklearn.model_selection import train_test_split\n",
    "\n",
    "# Split dataset into 70% training and 30% evaluation\n",
    "df_train, df_test = train_test_split(housing, train_size = 0.7, test_size = 0.3, random_state = 5);\n",
    "df_train.head()"
   ]
  },
  {
   "cell_type": "code",
   "execution_count": 11,
   "id": "056dbb58-ab28-46a8-9d32-188b91ae6036",
   "metadata": {
    "tags": []
   },
   "outputs": [],
   "source": [
    "# Put I/O into matrices\n",
    "price = df_train.values[:, 0];\n",
    "area = df_train.values[:, 1];\n",
    "bed = df_train.values[:, 2];\n",
    "bath = df_train.values[:, 3];\n",
    "stories = df_train.values[:, 4];\n",
    "parking = df_train.values[:, 10];\n",
    "\n",
    "# Create vector of ones for index 0\n",
    "length = len(df_train);\n",
    "x0 = np.ones((length, 1));\n",
    "\n",
    "# Make inputs into 2D array \n",
    "area = area.reshape(length, 1);\n",
    "bed = bed.reshape(length, 1);\n",
    "bath = bath.reshape(length, 1);\n",
    "stories = stories.reshape(length, 1);\n",
    "parking = parking.reshape(length, 1);"
   ]
  },
  {
   "cell_type": "code",
   "execution_count": 12,
   "id": "80979ab6-f9fe-4f9e-96d8-691c1b08ef08",
   "metadata": {
    "tags": []
   },
   "outputs": [
    {
     "data": {
      "text/plain": [
       "(381, 6)"
      ]
     },
     "execution_count": 12,
     "metadata": {},
     "output_type": "execute_result"
    }
   ],
   "source": [
    "# Final x matrix\n",
    "x = np.hstack((x0, area, bed, bath, stories, parking));\n",
    "# Create vector for parameters\n",
    "theta1a = np.zeros(6);\n",
    "x.shape"
   ]
  },
  {
   "cell_type": "code",
   "execution_count": 13,
   "id": "38f51790-e720-4182-a0da-5de76f9c4aa2",
   "metadata": {
    "tags": []
   },
   "outputs": [
    {
     "name": "stdout",
     "output_type": "stream",
     "text": [
      "14026588115362.336\n"
     ]
    }
   ],
   "source": [
    "cost_train_1a = calc_cost(x, price, theta1a)\n",
    "print(cost_train_1a)"
   ]
  },
  {
   "cell_type": "code",
   "execution_count": 14,
   "id": "8c62241e-b00b-402d-9172-a5ff9e6d2afb",
   "metadata": {
    "tags": []
   },
   "outputs": [
    {
     "name": "stdout",
     "output_type": "stream",
     "text": [
      "Value of theta =  [0.19329026649436856 871.8116297471876 0.6274550382250199\n",
      " 0.30571480688373204 0.43743579502210317 0.16723559948224276]\n",
      "Cost history =  [1.39487689e+13 1.38714431e+13 1.37946076e+13 ... 1.75369195e+12\n",
      " 1.75368628e+12 1.75368066e+12]\n"
     ]
    }
   ],
   "source": [
    "# Define input parameters to function\n",
    "theta1 = [0., 0., 0., 0., 0., 0.];\n",
    "num_iter = 1500;\n",
    "alpha1 = 0.0000000001;\n",
    "\n",
    "# Call grad_desc function\n",
    "theta1, cost_history_train = calc_grad_descent(x, price, theta1a, alpha1, num_iter);\n",
    "print('Value of theta = ', theta1)\n",
    "print('Cost history = ', cost_history_train)"
   ]
  },
  {
   "cell_type": "code",
   "execution_count": 15,
   "id": "0a78e5e3-4da5-4a29-b6f9-c9c62860a91f",
   "metadata": {
    "tags": []
   },
   "outputs": [],
   "source": [
    "################## EVALUATION SET\n",
    "# Put I/O into matrices\n",
    "price_test = df_test.values[:, 0];\n",
    "area_test = df_test.values[:, 1];\n",
    "bed_test = df_test.values[:, 2];\n",
    "bath_test = df_test.values[:, 3];\n",
    "stories_test = df_test.values[:, 4];\n",
    "parking_test = df_test.values[:, 10];\n",
    "\n",
    "# Create vector of ones for index 0\n",
    "length = len(df_test);\n",
    "x0_test = np.ones((length, 1));\n",
    "\n",
    "# Make inputs into 2D array \n",
    "area_test = area_test.reshape(length, 1);\n",
    "bed_test = bed_test.reshape(length, 1);\n",
    "bath_test = bath_test.reshape(length, 1);\n",
    "stories_test = stories_test.reshape(length, 1);\n",
    "parking_test = parking_test.reshape(length, 1);"
   ]
  },
  {
   "cell_type": "code",
   "execution_count": 16,
   "id": "766a104b-862d-4184-be35-57259cda9fed",
   "metadata": {
    "tags": []
   },
   "outputs": [
    {
     "data": {
      "text/plain": [
       "(164, 6)"
      ]
     },
     "execution_count": 16,
     "metadata": {},
     "output_type": "execute_result"
    }
   ],
   "source": [
    "# Final x matrix\n",
    "x_test = np.hstack((x0_test, area_test, bed_test, bath_test, stories_test, parking_test));\n",
    "# Create vector for parameters\n",
    "theta1a_test = np.zeros(6);\n",
    "x_test.shape"
   ]
  },
  {
   "cell_type": "code",
   "execution_count": 17,
   "id": "439cffc6-6e92-40c5-a479-6a8a7e0f61fa",
   "metadata": {
    "tags": []
   },
   "outputs": [
    {
     "name": "stdout",
     "output_type": "stream",
     "text": [
      "10970361870647.867\n"
     ]
    }
   ],
   "source": [
    "cost_test_1a = calc_cost(x_test, price_test, theta1a_test)\n",
    "print(cost_test_1a)"
   ]
  },
  {
   "cell_type": "code",
   "execution_count": 18,
   "id": "e2f89f5c-696e-49de-9d83-ea8408ae4e4b",
   "metadata": {
    "tags": []
   },
   "outputs": [
    {
     "name": "stdout",
     "output_type": "stream",
     "text": [
      "Value of theta =  [0.1947554028286552 789.0324211449329 0.6193979033426642\n",
      " 0.28735023132398635 0.42994311209945557 0.13329101851426253]\n",
      "Cost history =  [1.09131070e+13 1.08561954e+13 1.07996248e+13 ... 1.41928684e+12\n",
      " 1.41927982e+12 1.41927283e+12]\n"
     ]
    }
   ],
   "source": [
    "# Define input parameters to function\n",
    "theta1_test = [0., 0., 0., 0., 0., 0.];\n",
    "num_iter = 1500;\n",
    "alpha1 = 0.0000000001;\n",
    "\n",
    "# Call grad_desc function\n",
    "theta1_test, cost_history_test = calc_grad_descent(x_test, price_test, theta1a_test, alpha1, num_iter);\n",
    "print('Value of theta = ', theta1_test)\n",
    "print('Cost history = ', cost_history_test)"
   ]
  },
  {
   "cell_type": "code",
   "execution_count": 19,
   "id": "460bd928-882a-4710-ab93-b079472abe72",
   "metadata": {
    "tags": []
   },
   "outputs": [
    {
     "data": {
      "image/png": "[encoded data removed]",
      "text/plain": [
       "<Figure size 432x288 with 1 Axes>"
      ]
     },
     "metadata": {
      "needs_background": "light"
     },
     "output_type": "display_data"
    }
   ],
   "source": [
    "# Plot Gradient Descent for training and testing data\n",
    "plot.plot(range(1, num_iter + 1), cost_history_train, color ='green', label = \"Training Loss\")\n",
    "plot.plot(range(1, num_iter + 1), cost_history_test, color ='blue', label = \"Evaluation Loss\")\n",
    "plot.rcParams[\"figure.figsize\"] = (10,6)\n",
    "plot.xlabel('Number of Iterations')\n",
    "plot.ylabel('Cost (J)')\n",
    "plot.title('Convergence of Gradient Descent for Training and Evaluation Set Problem 1a')\n",
    "plot.legend()\n",
    "plot.show()"
   ]
  },
  {
   "cell_type": "code",
   "execution_count": 20,
   "id": "ed30ea0e-6219-49ca-b7ab-be5ac4beb416",
   "metadata": {},
   "outputs": [],
   "source": [
    "########################################################################\n",
    "#          PART B"
   ]
  },
  {
   "cell_type": "code",
   "execution_count": 21,
   "id": "efd3d305-7868-42c3-bb7f-f53f9d33c759",
   "metadata": {
    "tags": []
   },
   "outputs": [
    {
     "data": {
      "text/html": [
       "<div>\n",
       "<style scoped>\n",
       "    .dataframe tbody tr th:only-of-type {\n",
       "        vertical-align: middle;\n",
       "    }\n",
       "\n",
       "    .dataframe tbody tr th {\n",
       "        vertical-align: top;\n",
       "    }\n",
       "\n",
       "    .dataframe thead th {\n",
       "        text-align: right;\n",
       "    }\n",
       "</style>\n",
       "<table border=\"1\" class=\"dataframe\">\n",
       "  <thead>\n",
       "    <tr style=\"text-align: right;\">\n",
       "      <th></th>\n",
       "      <th>price</th>\n",
       "      <th>area</th>\n",
       "      <th>bedrooms</th>\n",
       "      <th>bathrooms</th>\n",
       "      <th>stories</th>\n",
       "      <th>mainroad</th>\n",
       "      <th>guestroom</th>\n",
       "      <th>basement</th>\n",
       "      <th>hotwaterheating</th>\n",
       "      <th>airconditioning</th>\n",
       "      <th>parking</th>\n",
       "      <th>prefarea</th>\n",
       "      <th>furnishingstatus</th>\n",
       "    </tr>\n",
       "  </thead>\n",
       "  <tbody>\n",
       "    <tr>\n",
       "      <th>0</th>\n",
       "      <td>13300000</td>\n",
       "      <td>7420</td>\n",
       "      <td>4</td>\n",
       "      <td>2</td>\n",
       "      <td>3</td>\n",
       "      <td>1</td>\n",
       "      <td>0</td>\n",
       "      <td>0</td>\n",
       "      <td>0</td>\n",
       "      <td>1</td>\n",
       "      <td>2</td>\n",
       "      <td>1</td>\n",
       "      <td>furnished</td>\n",
       "    </tr>\n",
       "    <tr>\n",
       "      <th>1</th>\n",
       "      <td>12250000</td>\n",
       "      <td>8960</td>\n",
       "      <td>4</td>\n",
       "      <td>4</td>\n",
       "      <td>4</td>\n",
       "      <td>1</td>\n",
       "      <td>0</td>\n",
       "      <td>0</td>\n",
       "      <td>0</td>\n",
       "      <td>1</td>\n",
       "      <td>3</td>\n",
       "      <td>0</td>\n",
       "      <td>furnished</td>\n",
       "    </tr>\n",
       "    <tr>\n",
       "      <th>2</th>\n",
       "      <td>12250000</td>\n",
       "      <td>9960</td>\n",
       "      <td>3</td>\n",
       "      <td>2</td>\n",
       "      <td>2</td>\n",
       "      <td>1</td>\n",
       "      <td>0</td>\n",
       "      <td>1</td>\n",
       "      <td>0</td>\n",
       "      <td>0</td>\n",
       "      <td>2</td>\n",
       "      <td>1</td>\n",
       "      <td>semi-furnished</td>\n",
       "    </tr>\n",
       "    <tr>\n",
       "      <th>3</th>\n",
       "      <td>12215000</td>\n",
       "      <td>7500</td>\n",
       "      <td>4</td>\n",
       "      <td>2</td>\n",
       "      <td>2</td>\n",
       "      <td>1</td>\n",
       "      <td>0</td>\n",
       "      <td>1</td>\n",
       "      <td>0</td>\n",
       "      <td>1</td>\n",
       "      <td>3</td>\n",
       "      <td>1</td>\n",
       "      <td>furnished</td>\n",
       "    </tr>\n",
       "    <tr>\n",
       "      <th>4</th>\n",
       "      <td>11410000</td>\n",
       "      <td>7420</td>\n",
       "      <td>4</td>\n",
       "      <td>1</td>\n",
       "      <td>2</td>\n",
       "      <td>1</td>\n",
       "      <td>1</td>\n",
       "      <td>1</td>\n",
       "      <td>0</td>\n",
       "      <td>1</td>\n",
       "      <td>2</td>\n",
       "      <td>0</td>\n",
       "      <td>furnished</td>\n",
       "    </tr>\n",
       "  </tbody>\n",
       "</table>\n",
       "</div>"
      ],
      "text/plain": [
       "      price  area  bedrooms  bathrooms  stories  mainroad  guestroom  \\\n",
       "0  13300000  7420         4          2        3         1          0   \n",
       "1  12250000  8960         4          4        4         1          0   \n",
       "2  12250000  9960         3          2        2         1          0   \n",
       "3  12215000  7500         4          2        2         1          0   \n",
       "4  11410000  7420         4          1        2         1          1   \n",
       "\n",
       "   basement  hotwaterheating  airconditioning  parking  prefarea  \\\n",
       "0         0                0                1        2         1   \n",
       "1         0                0                1        3         0   \n",
       "2         1                0                0        2         1   \n",
       "3         1                0                1        3         1   \n",
       "4         1                0                1        2         0   \n",
       "\n",
       "  furnishingstatus  \n",
       "0        furnished  \n",
       "1        furnished  \n",
       "2   semi-furnished  \n",
       "3        furnished  \n",
       "4        furnished  "
      ]
     },
     "execution_count": 21,
     "metadata": {},
     "output_type": "execute_result"
    }
   ],
   "source": [
    "bin_vars = ['mainroad', 'guestroom', 'basement', 'hotwaterheating', 'airconditioning', 'prefarea']\n",
    "\n",
    "housing[bin_vars] = housing[bin_vars].apply(binary_map)\n",
    "\n",
    "housing.head()"
   ]
  },
  {
   "cell_type": "code",
   "execution_count": 22,
   "id": "1e01f4af-88c8-4350-8da6-71c2f9675a04",
   "metadata": {
    "tags": []
   },
   "outputs": [
    {
     "data": {
      "text/html": [
       "<div>\n",
       "<style scoped>\n",
       "    .dataframe tbody tr th:only-of-type {\n",
       "        vertical-align: middle;\n",
       "    }\n",
       "\n",
       "    .dataframe tbody tr th {\n",
       "        vertical-align: top;\n",
       "    }\n",
       "\n",
       "    .dataframe thead th {\n",
       "        text-align: right;\n",
       "    }\n",
       "</style>\n",
       "<table border=\"1\" class=\"dataframe\">\n",
       "  <thead>\n",
       "    <tr style=\"text-align: right;\">\n",
       "      <th></th>\n",
       "      <th>price</th>\n",
       "      <th>area</th>\n",
       "      <th>bedrooms</th>\n",
       "      <th>bathrooms</th>\n",
       "      <th>stories</th>\n",
       "      <th>mainroad</th>\n",
       "      <th>guestroom</th>\n",
       "      <th>basement</th>\n",
       "      <th>hotwaterheating</th>\n",
       "      <th>airconditioning</th>\n",
       "      <th>parking</th>\n",
       "      <th>prefarea</th>\n",
       "      <th>furnishingstatus</th>\n",
       "    </tr>\n",
       "  </thead>\n",
       "  <tbody>\n",
       "    <tr>\n",
       "      <th>286</th>\n",
       "      <td>4235000</td>\n",
       "      <td>2787</td>\n",
       "      <td>3</td>\n",
       "      <td>1</td>\n",
       "      <td>1</td>\n",
       "      <td>1</td>\n",
       "      <td>0</td>\n",
       "      <td>1</td>\n",
       "      <td>0</td>\n",
       "      <td>0</td>\n",
       "      <td>0</td>\n",
       "      <td>1</td>\n",
       "      <td>furnished</td>\n",
       "    </tr>\n",
       "    <tr>\n",
       "      <th>477</th>\n",
       "      <td>2940000</td>\n",
       "      <td>4960</td>\n",
       "      <td>2</td>\n",
       "      <td>1</td>\n",
       "      <td>1</td>\n",
       "      <td>1</td>\n",
       "      <td>0</td>\n",
       "      <td>0</td>\n",
       "      <td>0</td>\n",
       "      <td>0</td>\n",
       "      <td>0</td>\n",
       "      <td>0</td>\n",
       "      <td>unfurnished</td>\n",
       "    </tr>\n",
       "    <tr>\n",
       "      <th>33</th>\n",
       "      <td>8190000</td>\n",
       "      <td>5960</td>\n",
       "      <td>3</td>\n",
       "      <td>3</td>\n",
       "      <td>2</td>\n",
       "      <td>1</td>\n",
       "      <td>1</td>\n",
       "      <td>1</td>\n",
       "      <td>0</td>\n",
       "      <td>0</td>\n",
       "      <td>1</td>\n",
       "      <td>0</td>\n",
       "      <td>unfurnished</td>\n",
       "    </tr>\n",
       "    <tr>\n",
       "      <th>475</th>\n",
       "      <td>2961000</td>\n",
       "      <td>3000</td>\n",
       "      <td>2</td>\n",
       "      <td>1</td>\n",
       "      <td>2</td>\n",
       "      <td>1</td>\n",
       "      <td>0</td>\n",
       "      <td>0</td>\n",
       "      <td>0</td>\n",
       "      <td>0</td>\n",
       "      <td>0</td>\n",
       "      <td>0</td>\n",
       "      <td>semi-furnished</td>\n",
       "    </tr>\n",
       "    <tr>\n",
       "      <th>104</th>\n",
       "      <td>6195000</td>\n",
       "      <td>5500</td>\n",
       "      <td>3</td>\n",
       "      <td>2</td>\n",
       "      <td>1</td>\n",
       "      <td>1</td>\n",
       "      <td>1</td>\n",
       "      <td>1</td>\n",
       "      <td>0</td>\n",
       "      <td>0</td>\n",
       "      <td>2</td>\n",
       "      <td>1</td>\n",
       "      <td>furnished</td>\n",
       "    </tr>\n",
       "  </tbody>\n",
       "</table>\n",
       "</div>"
      ],
      "text/plain": [
       "       price  area  bedrooms  bathrooms  stories  mainroad  guestroom  \\\n",
       "286  4235000  2787         3          1        1         1          0   \n",
       "477  2940000  4960         2          1        1         1          0   \n",
       "33   8190000  5960         3          3        2         1          1   \n",
       "475  2961000  3000         2          1        2         1          0   \n",
       "104  6195000  5500         3          2        1         1          1   \n",
       "\n",
       "     basement  hotwaterheating  airconditioning  parking  prefarea  \\\n",
       "286         1                0                0        0         1   \n",
       "477         0                0                0        0         0   \n",
       "33          1                0                0        1         0   \n",
       "475         0                0                0        0         0   \n",
       "104         1                0                0        2         1   \n",
       "\n",
       "    furnishingstatus  \n",
       "286        furnished  \n",
       "477      unfurnished  \n",
       "33       unfurnished  \n",
       "475   semi-furnished  \n",
       "104        furnished  "
      ]
     },
     "execution_count": 22,
     "metadata": {},
     "output_type": "execute_result"
    }
   ],
   "source": [
    "# Split dataset into 70% training and 30% evaluation\n",
    "df_trainb, df_testb = train_test_split(housing, train_size = 0.7, test_size = 0.3, random_state = 4);\n",
    "df_trainb.head()"
   ]
  },
  {
   "cell_type": "code",
   "execution_count": 23,
   "id": "dabc86c1-38c8-4b81-b386-816d232c05e3",
   "metadata": {
    "tags": []
   },
   "outputs": [],
   "source": [
    "################## TRAINING SET\n",
    "# Put I/O into matrices\n",
    "price = df_trainb.values[:, 0];\n",
    "area = df_trainb.values[:, 1];\n",
    "bed = df_trainb.values[:, 2];\n",
    "bath = df_trainb.values[:, 3];\n",
    "stories = df_trainb.values[:, 4];\n",
    "mainroad = df_trainb.values[:, 5];\n",
    "guestroom = df_trainb.values[:, 6];\n",
    "basement = df_trainb.values[:, 7]\n",
    "heating = df_trainb.values[:, 8];\n",
    "ac = df_trainb.values[:, 9];\n",
    "parking = df_trainb.values[:, 10];\n",
    "\n",
    "# Create vector of ones for index 0\n",
    "length = len(df_trainb);\n",
    "x0 = np.ones((length, 1));\n",
    "\n",
    "# Make inputs into 2D array \n",
    "area = area.reshape(length, 1);\n",
    "bed = bed.reshape(length, 1);\n",
    "bath = bath.reshape(length, 1);\n",
    "stories = stories.reshape(length, 1);\n",
    "mainroad = mainroad.reshape(length, 1);\n",
    "guestroom = guestroom.reshape(length, 1);\n",
    "basement = basement.reshape(length, 1);\n",
    "heating = heating.reshape(length, 1);\n",
    "ac = ac.reshape(length, 1);\n",
    "parking = parking.reshape(length, 1);"
   ]
  },
  {
   "cell_type": "code",
   "execution_count": 24,
   "id": "72f18219-42af-4756-81e8-9b071ee39778",
   "metadata": {
    "tags": []
   },
   "outputs": [
    {
     "name": "stdout",
     "output_type": "stream",
     "text": [
      "[[1.0 2787 3 ... 0 0 0]\n",
      " [1.0 4960 2 ... 0 0 0]\n",
      " [1.0 5960 3 ... 0 0 1]\n",
      " ...\n",
      " [1.0 3930 2 ... 0 0 0]\n",
      " [1.0 3800 3 ... 0 0 1]\n",
      " [1.0 6254 4 ... 0 0 1]]\n"
     ]
    }
   ],
   "source": [
    "# Final x matrix\n",
    "xb = np.hstack((x0, area, bed, bath, stories, mainroad, guestroom, basement, heating, ac, parking));\n",
    "# Create vector for parameters\n",
    "theta1b = np.zeros(11);\n",
    "xb.shape\n",
    "print(xb)"
   ]
  },
  {
   "cell_type": "code",
   "execution_count": 25,
   "id": "eb2a34f5-d68f-426c-9b75-6879362536b5",
   "metadata": {
    "tags": []
   },
   "outputs": [
    {
     "name": "stdout",
     "output_type": "stream",
     "text": [
      "13361077658436.482\n"
     ]
    }
   ],
   "source": [
    "cost_train_1b = calc_cost(xb, price, theta1b)\n",
    "print(cost_train_1b)"
   ]
  },
  {
   "cell_type": "code",
   "execution_count": 26,
   "id": "57500f3a-59ad-454d-87f5-45f4d0a103f3",
   "metadata": {
    "tags": []
   },
   "outputs": [
    {
     "name": "stdout",
     "output_type": "stream",
     "text": [
      "Value of theta =  [0.1893013053324275 849.7053259311597 0.6118188189526217\n",
      " 0.29511515139753886 0.43314756229836887 0.17334853219044596\n",
      " 0.04817284046764981 0.08969807218997133 0.014959439941349822\n",
      " 0.09602084412304868 0.1608460600001558]\n",
      "Cost history =  [1.32864606e+13 1.32123190e+13 1.31386498e+13 ... 1.65029910e+12\n",
      " 1.65029392e+12 1.65028877e+12]\n"
     ]
    }
   ],
   "source": [
    "# Define input parameters to function\n",
    "theta1b = [0., 0., 0., 0., 0., 0., 0., 0., 0., 0., 0.];\n",
    "num_iter = 1500;\n",
    "alpha1 = 0.0000000001;\n",
    "\n",
    "# Call grad_desc function\n",
    "theta1b, cost_history_trainb = calc_grad_descent(xb, price, theta1b, alpha1, num_iter);\n",
    "print('Value of theta = ', theta1b)\n",
    "print('Cost history = ', cost_history_trainb)"
   ]
  },
  {
   "cell_type": "code",
   "execution_count": 27,
   "id": "f6a14fd9-0af1-4d08-a169-5e69c1fca22f",
   "metadata": {
    "tags": []
   },
   "outputs": [],
   "source": [
    "################## EVALUATION SET\n",
    "# Put I/O into matrices\n",
    "price_test = df_testb.values[:, 0];\n",
    "area_test = df_testb.values[:, 1];\n",
    "bed_test = df_testb.values[:, 2];\n",
    "bath_test = df_testb.values[:, 3];\n",
    "stories_test = df_testb.values[:, 4];\n",
    "mainroad_test = df_testb.values[:, 5];\n",
    "guestroom_test = df_testb.values[:, 6];\n",
    "basement_test = df_testb.values[:, 7]\n",
    "heating_test = df_testb.values[:, 8];\n",
    "ac_test = df_testb.values[:, 9];\n",
    "parking_test = df_testb.values[:, 10];\n",
    "\n",
    "# Create vector of ones for index 0\n",
    "length = len(df_testb);\n",
    "x0 = np.ones((length, 1));\n",
    "\n",
    "# Make inputs into 2D array \n",
    "area_test = area_test.reshape(length, 1);\n",
    "bed_test = bed_test.reshape(length, 1);\n",
    "bath_test = bath_test.reshape(length, 1);\n",
    "stories_test = stories_test.reshape(length, 1);\n",
    "mainroad_test = mainroad_test.reshape(length, 1);\n",
    "guestroom_test = guestroom_test.reshape(length, 1);\n",
    "basement_test = basement_test.reshape(length, 1);\n",
    "heating_test = heating_test.reshape(length, 1);\n",
    "ac_test = ac_test.reshape(length, 1);\n",
    "parking_test = parking_test.reshape(length, 1);"
   ]
  },
  {
   "cell_type": "code",
   "execution_count": 28,
   "id": "32bae8b7-fdd7-4e9c-bc02-6e4c557674e1",
   "metadata": {
    "tags": []
   },
   "outputs": [
    {
     "data": {
      "text/plain": [
       "(164, 11)"
      ]
     },
     "execution_count": 28,
     "metadata": {},
     "output_type": "execute_result"
    }
   ],
   "source": [
    "# Final x matrix\n",
    "x_testb = np.hstack((x0_test, area_test, bed_test, bath_test, stories_test, mainroad_test, guestroom_test, basement_test, heating_test, ac_test, parking_test));\n",
    "# Create vector for parameters\n",
    "theta1b_test = np.zeros(11);\n",
    "x_testb.shape"
   ]
  },
  {
   "cell_type": "code",
   "execution_count": 29,
   "id": "836f857b-f7c2-40c5-b609-2194833317dd",
   "metadata": {
    "tags": []
   },
   "outputs": [
    {
     "name": "stdout",
     "output_type": "stream",
     "text": [
      "12516456285823.172\n"
     ]
    }
   ],
   "source": [
    "cost_test_1b = calc_cost(x_testb, price_test, theta1b_test)\n",
    "print(cost_test_1b)"
   ]
  },
  {
   "cell_type": "code",
   "execution_count": 30,
   "id": "84493451-fce9-4f73-aa7d-458a769cc3ca",
   "metadata": {
    "tags": []
   },
   "outputs": [
    {
     "name": "stdout",
     "output_type": "stream",
     "text": [
      "Value of theta =  [0.20420438898109508 843.0652462404387 0.6585451899567897\n",
      " 0.3136408014541138 0.443294954508677 0.17305366402089142\n",
      " 0.05441503096265201 0.08398125469300526 0.014436010765921594\n",
      " 0.10072731537026296 0.16044710995198108]\n",
      "Cost history =  [1.24525717e+13 1.23890653e+13 1.23259351e+13 ... 1.73021218e+12\n",
      " 1.73020344e+12 1.73019476e+12]\n"
     ]
    }
   ],
   "source": [
    "# Define input parameters to function\n",
    "theta1b_test = [0., 0., 0., 0., 0., 0., 0., 0., 0., 0., 0.];\n",
    "num_iter = 1500;\n",
    "alpha1 = 0.0000000001;\n",
    "\n",
    "# Call grad_desc function\n",
    "theta1b_test, cost_history_testb = calc_grad_descent(x_testb, price_test, theta1b_test, alpha1, num_iter);\n",
    "print('Value of theta = ', theta1b_test)\n",
    "print('Cost history = ', cost_history_testb)"
   ]
  },
  {
   "cell_type": "code",
   "execution_count": 31,
   "id": "53c10a50-3aa8-419d-83c6-9ed52661660a",
   "metadata": {
    "tags": []
   },
   "outputs": [
    {
     "data": {
      "image/png": "[encoded data removed]",
      "text/plain": [
       "<Figure size 720x432 with 1 Axes>"
      ]
     },
     "metadata": {
      "needs_background": "light"
     },
     "output_type": "display_data"
    }
   ],
   "source": [
    "# Plot Gradient Descent for training and testing data\n",
    "plot.plot(range(1, num_iter + 1), cost_history_trainb, color ='green', label = \"Training Loss\")\n",
    "plot.plot(range(1, num_iter + 1), cost_history_testb, color ='blue', label = \"Evaluation Loss\")\n",
    "plot.rcParams[\"figure.figsize\"] = (10,6)\n",
    "plot.xlabel('Number of Iterations')\n",
    "plot.ylabel('Cost (J)')\n",
    "plot.title('Convergence of Gradient Descent for Training and Evaluation Set Problem 1b')\n",
    "plot.legend()\n",
    "plot.show()"
   ]
  },
  {
   "cell_type": "code",
   "execution_count": 32,
   "id": "9a2f4614-f8ad-44ce-83cf-11bf06569bd0",
   "metadata": {},
   "outputs": [],
   "source": [
    "####################################################################################################################\n",
    "####################################################################################################################\n",
    "\n",
    "# PROBLEM 2"
   ]
  },
  {
   "cell_type": "code",
   "execution_count": 33,
   "id": "ac2817e2-8b63-4c00-97a6-a2a106a65824",
   "metadata": {
    "tags": []
   },
   "outputs": [],
   "source": [
    "########################################################################\n",
    "#          PART A"
   ]
  },
  {
   "cell_type": "code",
   "execution_count": 34,
   "id": "2a84e89f-6437-4c6f-bb39-f8972fb5eaa6",
   "metadata": {},
   "outputs": [],
   "source": [
    "# NORMALIZATION FOR PART A"
   ]
  },
  {
   "cell_type": "code",
   "execution_count": 35,
   "id": "c3cdd96a-acda-4607-84d7-925baf4cf457",
   "metadata": {
    "tags": []
   },
   "outputs": [
    {
     "data": {
      "text/html": [
       "<div>\n",
       "<style scoped>\n",
       "    .dataframe tbody tr th:only-of-type {\n",
       "        vertical-align: middle;\n",
       "    }\n",
       "\n",
       "    .dataframe tbody tr th {\n",
       "        vertical-align: top;\n",
       "    }\n",
       "\n",
       "    .dataframe thead th {\n",
       "        text-align: right;\n",
       "    }\n",
       "</style>\n",
       "<table border=\"1\" class=\"dataframe\">\n",
       "  <thead>\n",
       "    <tr style=\"text-align: right;\">\n",
       "      <th></th>\n",
       "      <th>area</th>\n",
       "      <th>bedrooms</th>\n",
       "      <th>bathrooms</th>\n",
       "      <th>stories</th>\n",
       "      <th>parking</th>\n",
       "      <th>price</th>\n",
       "    </tr>\n",
       "  </thead>\n",
       "  <tbody>\n",
       "    <tr>\n",
       "      <th>166</th>\n",
       "      <td>7800</td>\n",
       "      <td>3</td>\n",
       "      <td>1</td>\n",
       "      <td>1</td>\n",
       "      <td>2</td>\n",
       "      <td>5320000</td>\n",
       "    </tr>\n",
       "    <tr>\n",
       "      <th>378</th>\n",
       "      <td>2275</td>\n",
       "      <td>3</td>\n",
       "      <td>1</td>\n",
       "      <td>3</td>\n",
       "      <td>0</td>\n",
       "      <td>3640000</td>\n",
       "    </tr>\n",
       "    <tr>\n",
       "      <th>349</th>\n",
       "      <td>4820</td>\n",
       "      <td>3</td>\n",
       "      <td>1</td>\n",
       "      <td>2</td>\n",
       "      <td>0</td>\n",
       "      <td>3780000</td>\n",
       "    </tr>\n",
       "    <tr>\n",
       "      <th>368</th>\n",
       "      <td>5640</td>\n",
       "      <td>2</td>\n",
       "      <td>1</td>\n",
       "      <td>1</td>\n",
       "      <td>0</td>\n",
       "      <td>3675000</td>\n",
       "    </tr>\n",
       "    <tr>\n",
       "      <th>306</th>\n",
       "      <td>4840</td>\n",
       "      <td>3</td>\n",
       "      <td>1</td>\n",
       "      <td>2</td>\n",
       "      <td>1</td>\n",
       "      <td>4165000</td>\n",
       "    </tr>\n",
       "  </tbody>\n",
       "</table>\n",
       "</div>"
      ],
      "text/plain": [
       "     area  bedrooms  bathrooms  stories  parking    price\n",
       "166  7800         3          1        1        2  5320000\n",
       "378  2275         3          1        3        0  3640000\n",
       "349  4820         3          1        2        0  3780000\n",
       "368  5640         2          1        1        0  3675000\n",
       "306  4840         3          1        2        1  4165000"
      ]
     },
     "execution_count": 35,
     "metadata": {},
     "output_type": "execute_result"
    }
   ],
   "source": [
    "# Split dataset into 70% training and 30% evaluation\n",
    "df_train, df_test = train_test_split(housing, train_size = 0.7, test_size = 0.3, random_state = 2);\n",
    "num_vars = ['area', 'bedrooms', 'bathrooms', 'stories', 'parking', 'price']\n",
    "df_Newtrain = df_train[num_vars]\n",
    "df_Newtest = df_test[num_vars]\n",
    "df_Newtrain.head()"
   ]
  },
  {
   "cell_type": "code",
   "execution_count": 36,
   "id": "8c8272c8-5606-4fe4-81e3-6bd384bafcae",
   "metadata": {
    "tags": []
   },
   "outputs": [
    {
     "data": {
      "text/html": [
       "<div>\n",
       "<style scoped>\n",
       "    .dataframe tbody tr th:only-of-type {\n",
       "        vertical-align: middle;\n",
       "    }\n",
       "\n",
       "    .dataframe tbody tr th {\n",
       "        vertical-align: top;\n",
       "    }\n",
       "\n",
       "    .dataframe thead th {\n",
       "        text-align: right;\n",
       "    }\n",
       "</style>\n",
       "<table border=\"1\" class=\"dataframe\">\n",
       "  <thead>\n",
       "    <tr style=\"text-align: right;\">\n",
       "      <th></th>\n",
       "      <th>area</th>\n",
       "      <th>bedrooms</th>\n",
       "      <th>bathrooms</th>\n",
       "      <th>stories</th>\n",
       "      <th>parking</th>\n",
       "      <th>price</th>\n",
       "    </tr>\n",
       "  </thead>\n",
       "  <tbody>\n",
       "    <tr>\n",
       "      <th>166</th>\n",
       "      <td>0.440860</td>\n",
       "      <td>0.4</td>\n",
       "      <td>0.0</td>\n",
       "      <td>0.000000</td>\n",
       "      <td>0.666667</td>\n",
       "      <td>0.309091</td>\n",
       "    </tr>\n",
       "    <tr>\n",
       "      <th>378</th>\n",
       "      <td>0.044803</td>\n",
       "      <td>0.4</td>\n",
       "      <td>0.0</td>\n",
       "      <td>0.666667</td>\n",
       "      <td>0.000000</td>\n",
       "      <td>0.163636</td>\n",
       "    </tr>\n",
       "    <tr>\n",
       "      <th>349</th>\n",
       "      <td>0.227240</td>\n",
       "      <td>0.4</td>\n",
       "      <td>0.0</td>\n",
       "      <td>0.333333</td>\n",
       "      <td>0.000000</td>\n",
       "      <td>0.175758</td>\n",
       "    </tr>\n",
       "    <tr>\n",
       "      <th>368</th>\n",
       "      <td>0.286022</td>\n",
       "      <td>0.2</td>\n",
       "      <td>0.0</td>\n",
       "      <td>0.000000</td>\n",
       "      <td>0.000000</td>\n",
       "      <td>0.166667</td>\n",
       "    </tr>\n",
       "    <tr>\n",
       "      <th>306</th>\n",
       "      <td>0.228674</td>\n",
       "      <td>0.4</td>\n",
       "      <td>0.0</td>\n",
       "      <td>0.333333</td>\n",
       "      <td>0.333333</td>\n",
       "      <td>0.209091</td>\n",
       "    </tr>\n",
       "  </tbody>\n",
       "</table>\n",
       "</div>"
      ],
      "text/plain": [
       "         area  bedrooms  bathrooms   stories   parking     price\n",
       "166  0.440860       0.4        0.0  0.000000  0.666667  0.309091\n",
       "378  0.044803       0.4        0.0  0.666667  0.000000  0.163636\n",
       "349  0.227240       0.4        0.0  0.333333  0.000000  0.175758\n",
       "368  0.286022       0.2        0.0  0.000000  0.000000  0.166667\n",
       "306  0.228674       0.4        0.0  0.333333  0.333333  0.209091"
      ]
     },
     "execution_count": 36,
     "metadata": {},
     "output_type": "execute_result"
    }
   ],
   "source": [
    "####################### TRAINING SET\n",
    "import warnings\n",
    "warnings.filterwarnings('ignore')\n",
    "# Scale new training set to make more uniform\n",
    "from sklearn.preprocessing import MinMaxScaler, StandardScaler\n",
    "# define standard scaler\n",
    "#scaler = StandardScaler()\n",
    "scaler = MinMaxScaler()\n",
    "df_Newtrain[num_vars] = scaler.fit_transform(df_Newtrain[num_vars])\n",
    "df_Newtrain.head(5)"
   ]
  },
  {
   "cell_type": "code",
   "execution_count": 37,
   "id": "150165af-a342-4ff9-9ad8-7b7933ab520c",
   "metadata": {
    "tags": []
   },
   "outputs": [],
   "source": [
    "# Split new training set into I/O\n",
    "y_Newtrain = df_Newtrain.pop('price')\n",
    "x_Newtrain = df_Newtrain\n",
    "\n",
    "length = len(df_Newtrain);\n",
    "# Create vector X_0 full of ones (will always be 1)\n",
    "x0 = np.ones((length, 1));\n",
    "x = np.hstack((x0, x_Newtrain));\n",
    "y = y_Newtrain.values\n",
    "# Create vector for parameters\n",
    "theta2 = np.zeros(6);"
   ]
  },
  {
   "cell_type": "code",
   "execution_count": 38,
   "id": "bf0e132f-2e9f-4593-9232-c1773e6d9938",
   "metadata": {
    "tags": []
   },
   "outputs": [
    {
     "name": "stdout",
     "output_type": "stream",
     "text": [
      "0.046342252923604936\n"
     ]
    }
   ],
   "source": [
    "cost_train_2a = calc_cost(x, y, theta2)\n",
    "print(cost_train_2a)"
   ]
  },
  {
   "cell_type": "code",
   "execution_count": 39,
   "id": "395efa0c-531a-4e17-a0a6-e25a500e7c87",
   "metadata": {
    "tags": []
   },
   "outputs": [
    {
     "name": "stdout",
     "output_type": "stream",
     "text": [
      "Value of theta =  [0.11046561 0.14962971 0.07979829 0.14556768 0.12722271 0.12273552]\n",
      "Cost history =  [0.04532578 0.04433714 0.04337557 ... 0.00659141 0.00659079 0.00659018]\n"
     ]
    }
   ],
   "source": [
    "# Define input parameters to function\n",
    "theta2 = [0., 0., 0., 0., 0., 0.];\n",
    "num_iter = 1500;\n",
    "alpha2 = 0.01;\n",
    "\n",
    "# Call grad_desc function\n",
    "theta2, cost_history_train2 = calc_grad_descent(x, y, theta2, alpha2, num_iter);\n",
    "print('Value of theta = ', theta2)\n",
    "print('Cost history = ', cost_history_train2)"
   ]
  },
  {
   "cell_type": "code",
   "execution_count": 40,
   "id": "3e8f2b4a-bbce-43e9-8559-2be0d0fbc060",
   "metadata": {
    "tags": []
   },
   "outputs": [
    {
     "data": {
      "text/html": [
       "<div>\n",
       "<style scoped>\n",
       "    .dataframe tbody tr th:only-of-type {\n",
       "        vertical-align: middle;\n",
       "    }\n",
       "\n",
       "    .dataframe tbody tr th {\n",
       "        vertical-align: top;\n",
       "    }\n",
       "\n",
       "    .dataframe thead th {\n",
       "        text-align: right;\n",
       "    }\n",
       "</style>\n",
       "<table border=\"1\" class=\"dataframe\">\n",
       "  <thead>\n",
       "    <tr style=\"text-align: right;\">\n",
       "      <th></th>\n",
       "      <th>area</th>\n",
       "      <th>bedrooms</th>\n",
       "      <th>bathrooms</th>\n",
       "      <th>stories</th>\n",
       "      <th>parking</th>\n",
       "      <th>price</th>\n",
       "    </tr>\n",
       "  </thead>\n",
       "  <tbody>\n",
       "    <tr>\n",
       "      <th>333</th>\n",
       "      <td>0.089655</td>\n",
       "      <td>0.25</td>\n",
       "      <td>0.0</td>\n",
       "      <td>0.333333</td>\n",
       "      <td>0.000000</td>\n",
       "      <td>0.206667</td>\n",
       "    </tr>\n",
       "    <tr>\n",
       "      <th>84</th>\n",
       "      <td>0.142069</td>\n",
       "      <td>0.25</td>\n",
       "      <td>0.0</td>\n",
       "      <td>0.333333</td>\n",
       "      <td>0.666667</td>\n",
       "      <td>0.453333</td>\n",
       "    </tr>\n",
       "    <tr>\n",
       "      <th>439</th>\n",
       "      <td>0.153793</td>\n",
       "      <td>0.00</td>\n",
       "      <td>0.0</td>\n",
       "      <td>0.000000</td>\n",
       "      <td>0.000000</td>\n",
       "      <td>0.143333</td>\n",
       "    </tr>\n",
       "    <tr>\n",
       "      <th>396</th>\n",
       "      <td>0.133793</td>\n",
       "      <td>0.00</td>\n",
       "      <td>0.0</td>\n",
       "      <td>0.000000</td>\n",
       "      <td>0.333333</td>\n",
       "      <td>0.166667</td>\n",
       "    </tr>\n",
       "    <tr>\n",
       "      <th>161</th>\n",
       "      <td>0.303448</td>\n",
       "      <td>0.25</td>\n",
       "      <td>0.0</td>\n",
       "      <td>0.666667</td>\n",
       "      <td>0.000000</td>\n",
       "      <td>0.353333</td>\n",
       "    </tr>\n",
       "  </tbody>\n",
       "</table>\n",
       "</div>"
      ],
      "text/plain": [
       "         area  bedrooms  bathrooms   stories   parking     price\n",
       "333  0.089655      0.25        0.0  0.333333  0.000000  0.206667\n",
       "84   0.142069      0.25        0.0  0.333333  0.666667  0.453333\n",
       "439  0.153793      0.00        0.0  0.000000  0.000000  0.143333\n",
       "396  0.133793      0.00        0.0  0.000000  0.333333  0.166667\n",
       "161  0.303448      0.25        0.0  0.666667  0.000000  0.353333"
      ]
     },
     "execution_count": 40,
     "metadata": {},
     "output_type": "execute_result"
    }
   ],
   "source": [
    "####################### Evaluation Set\n",
    "import warnings\n",
    "warnings.filterwarnings('ignore')\n",
    "# Scale new eval set to make more uniform\n",
    "df_Newtest[num_vars] = scaler.fit_transform(df_Newtest[num_vars])\n",
    "df_Newtest.head(5)"
   ]
  },
  {
   "cell_type": "code",
   "execution_count": 41,
   "id": "cb54b193-997a-4ff8-9d7f-7afc3183cd86",
   "metadata": {
    "tags": []
   },
   "outputs": [],
   "source": [
    "# Split new evaluation set into I/O\n",
    "y_Newtest = df_Newtest.pop('price')\n",
    "x_Newtest = df_Newtest\n",
    "\n",
    "length = len(df_Newtest);\n",
    "# Create vector X_0 full of ones (will always be 1)\n",
    "x0 = np.ones((length, 1));\n",
    "x = np.hstack((x0, x_Newtest));\n",
    "y = y_Newtest.values\n",
    "# Create vector for parameters\n",
    "theta2_test = np.zeros(6);"
   ]
  },
  {
   "cell_type": "code",
   "execution_count": 42,
   "id": "79d10eb1-fabd-47ee-8dea-c60318656401",
   "metadata": {
    "tags": []
   },
   "outputs": [
    {
     "name": "stdout",
     "output_type": "stream",
     "text": [
      "0.05951689430894311\n"
     ]
    }
   ],
   "source": [
    "cost_test_2a = calc_cost(x, y, theta2_test)\n",
    "print(cost_test_2a)"
   ]
  },
  {
   "cell_type": "code",
   "execution_count": 43,
   "id": "045b0e72-6bc1-4163-a8e2-392ed7357f8f",
   "metadata": {
    "tags": []
   },
   "outputs": [
    {
     "name": "stdout",
     "output_type": "stream",
     "text": [
      "Value of theta =  [0.1346316  0.16721226 0.12400255 0.15709828 0.16049997 0.14269331]\n",
      "Cost history =  [0.05832254 0.05715818 0.05602306 ... 0.00824034 0.00823941 0.00823849]\n"
     ]
    }
   ],
   "source": [
    "theta2_test = [0., 0., 0., 0., 0., 0.];\n",
    "num_iter = 1500;\n",
    "alpha2 = 0.01;\n",
    "\n",
    "# Call grad_desc function\n",
    "theta2_test, cost_history_test2a = calc_grad_descent(x, y, theta2_test, alpha2, num_iter);\n",
    "print('Value of theta = ', theta2_test)\n",
    "print('Cost history = ', cost_history_test2a)"
   ]
  },
  {
   "cell_type": "code",
   "execution_count": 44,
   "id": "d1d08e8a-ca7a-4513-86e4-5e3bd1042f50",
   "metadata": {
    "tags": []
   },
   "outputs": [
    {
     "data": {
      "image/png": "[encoded data removed]",
      "text/plain": [
       "<Figure size 720x432 with 1 Axes>"
      ]
     },
     "metadata": {
      "needs_background": "light"
     },
     "output_type": "display_data"
    }
   ],
   "source": [
    "# Plot Gradient Descent \n",
    "plot.plot(range(1, num_iter + 1), cost_history_train2, color ='green', label = \"Training Loss\")\n",
    "plot.plot(range(1, num_iter + 1), cost_history_test2a, color ='blue', label = \"Evaluation Loss\")\n",
    "plot.rcParams[\"figure.figsize\"] = (10,6)\n",
    "plot.xlabel('Number of Iterations')\n",
    "plot.ylabel('Cost (J)')\n",
    "plot.title('Convergence of Gradient Descent for Training and Evaluation Set Problem 2a -- NORMALIZATION')\n",
    "plot.legend()\n",
    "plot.show()"
   ]
  },
  {
   "cell_type": "code",
   "execution_count": 45,
   "id": "b4725b34-3506-4ab8-9e61-233620764688",
   "metadata": {
    "tags": []
   },
   "outputs": [],
   "source": [
    "# STANDARDIZATION FOR PART A"
   ]
  },
  {
   "cell_type": "code",
   "execution_count": 46,
   "id": "9265a71b-ac42-4795-a552-2829c0a1bd8f",
   "metadata": {
    "tags": []
   },
   "outputs": [
    {
     "data": {
      "text/html": [
       "<div>\n",
       "<style scoped>\n",
       "    .dataframe tbody tr th:only-of-type {\n",
       "        vertical-align: middle;\n",
       "    }\n",
       "\n",
       "    .dataframe tbody tr th {\n",
       "        vertical-align: top;\n",
       "    }\n",
       "\n",
       "    .dataframe thead th {\n",
       "        text-align: right;\n",
       "    }\n",
       "</style>\n",
       "<table border=\"1\" class=\"dataframe\">\n",
       "  <thead>\n",
       "    <tr style=\"text-align: right;\">\n",
       "      <th></th>\n",
       "      <th>area</th>\n",
       "      <th>bedrooms</th>\n",
       "      <th>bathrooms</th>\n",
       "      <th>stories</th>\n",
       "      <th>parking</th>\n",
       "      <th>price</th>\n",
       "    </tr>\n",
       "  </thead>\n",
       "  <tbody>\n",
       "    <tr>\n",
       "      <th>235</th>\n",
       "      <td>5680</td>\n",
       "      <td>3</td>\n",
       "      <td>1</td>\n",
       "      <td>2</td>\n",
       "      <td>1</td>\n",
       "      <td>4620000</td>\n",
       "    </tr>\n",
       "    <tr>\n",
       "      <th>384</th>\n",
       "      <td>4500</td>\n",
       "      <td>2</td>\n",
       "      <td>1</td>\n",
       "      <td>1</td>\n",
       "      <td>0</td>\n",
       "      <td>3570000</td>\n",
       "    </tr>\n",
       "    <tr>\n",
       "      <th>41</th>\n",
       "      <td>6360</td>\n",
       "      <td>3</td>\n",
       "      <td>2</td>\n",
       "      <td>4</td>\n",
       "      <td>0</td>\n",
       "      <td>7840000</td>\n",
       "    </tr>\n",
       "    <tr>\n",
       "      <th>328</th>\n",
       "      <td>4500</td>\n",
       "      <td>3</td>\n",
       "      <td>2</td>\n",
       "      <td>2</td>\n",
       "      <td>0</td>\n",
       "      <td>3990000</td>\n",
       "    </tr>\n",
       "    <tr>\n",
       "      <th>330</th>\n",
       "      <td>4050</td>\n",
       "      <td>2</td>\n",
       "      <td>1</td>\n",
       "      <td>2</td>\n",
       "      <td>0</td>\n",
       "      <td>3990000</td>\n",
       "    </tr>\n",
       "  </tbody>\n",
       "</table>\n",
       "</div>"
      ],
      "text/plain": [
       "     area  bedrooms  bathrooms  stories  parking    price\n",
       "235  5680         3          1        2        1  4620000\n",
       "384  4500         2          1        1        0  3570000\n",
       "41   6360         3          2        4        0  7840000\n",
       "328  4500         3          2        2        0  3990000\n",
       "330  4050         2          1        2        0  3990000"
      ]
     },
     "execution_count": 46,
     "metadata": {},
     "output_type": "execute_result"
    }
   ],
   "source": [
    "# Split dataset into 70% training and 30% evaluation\n",
    "df_train, df_test = train_test_split(housing, train_size = 0.7, test_size = 0.3, random_state = 7);\n",
    "num_vars = ['area', 'bedrooms', 'bathrooms', 'stories', 'parking', 'price']\n",
    "df_Newtrain = df_train[num_vars]\n",
    "df_Newtest = df_test[num_vars]\n",
    "df_Newtrain.head()"
   ]
  },
  {
   "cell_type": "code",
   "execution_count": 47,
   "id": "28ab4f9e-4c9b-4cf1-a45a-138d55e46ec5",
   "metadata": {
    "tags": []
   },
   "outputs": [
    {
     "data": {
      "text/html": [
       "<div>\n",
       "<style scoped>\n",
       "    .dataframe tbody tr th:only-of-type {\n",
       "        vertical-align: middle;\n",
       "    }\n",
       "\n",
       "    .dataframe tbody tr th {\n",
       "        vertical-align: top;\n",
       "    }\n",
       "\n",
       "    .dataframe thead th {\n",
       "        text-align: right;\n",
       "    }\n",
       "</style>\n",
       "<table border=\"1\" class=\"dataframe\">\n",
       "  <thead>\n",
       "    <tr style=\"text-align: right;\">\n",
       "      <th></th>\n",
       "      <th>area</th>\n",
       "      <th>bedrooms</th>\n",
       "      <th>bathrooms</th>\n",
       "      <th>stories</th>\n",
       "      <th>parking</th>\n",
       "      <th>price</th>\n",
       "    </tr>\n",
       "  </thead>\n",
       "  <tbody>\n",
       "    <tr>\n",
       "      <th>235</th>\n",
       "      <td>0.225539</td>\n",
       "      <td>0.003632</td>\n",
       "      <td>-0.573002</td>\n",
       "      <td>0.208748</td>\n",
       "      <td>0.329057</td>\n",
       "      <td>-0.082299</td>\n",
       "    </tr>\n",
       "    <tr>\n",
       "      <th>384</th>\n",
       "      <td>-0.306135</td>\n",
       "      <td>-1.380058</td>\n",
       "      <td>-0.573002</td>\n",
       "      <td>-0.927437</td>\n",
       "      <td>-0.800409</td>\n",
       "      <td>-0.669718</td>\n",
       "    </tr>\n",
       "    <tr>\n",
       "      <th>41</th>\n",
       "      <td>0.531927</td>\n",
       "      <td>0.003632</td>\n",
       "      <td>1.342031</td>\n",
       "      <td>2.481118</td>\n",
       "      <td>-0.800409</td>\n",
       "      <td>1.719116</td>\n",
       "    </tr>\n",
       "    <tr>\n",
       "      <th>328</th>\n",
       "      <td>-0.306135</td>\n",
       "      <td>0.003632</td>\n",
       "      <td>1.342031</td>\n",
       "      <td>0.208748</td>\n",
       "      <td>-0.800409</td>\n",
       "      <td>-0.434750</td>\n",
       "    </tr>\n",
       "    <tr>\n",
       "      <th>330</th>\n",
       "      <td>-0.508893</td>\n",
       "      <td>-1.380058</td>\n",
       "      <td>-0.573002</td>\n",
       "      <td>0.208748</td>\n",
       "      <td>-0.800409</td>\n",
       "      <td>-0.434750</td>\n",
       "    </tr>\n",
       "  </tbody>\n",
       "</table>\n",
       "</div>"
      ],
      "text/plain": [
       "         area  bedrooms  bathrooms   stories   parking     price\n",
       "235  0.225539  0.003632  -0.573002  0.208748  0.329057 -0.082299\n",
       "384 -0.306135 -1.380058  -0.573002 -0.927437 -0.800409 -0.669718\n",
       "41   0.531927  0.003632   1.342031  2.481118 -0.800409  1.719116\n",
       "328 -0.306135  0.003632   1.342031  0.208748 -0.800409 -0.434750\n",
       "330 -0.508893 -1.380058  -0.573002  0.208748 -0.800409 -0.434750"
      ]
     },
     "execution_count": 47,
     "metadata": {},
     "output_type": "execute_result"
    }
   ],
   "source": [
    "scaler = StandardScaler()\n",
    "df_Newtrain[num_vars] = scaler.fit_transform(df_Newtrain[num_vars])\n",
    "df_Newtrain.head(5)"
   ]
  },
  {
   "cell_type": "code",
   "execution_count": 48,
   "id": "969b0dbf-f767-4ee0-87f0-9d31fe05b338",
   "metadata": {
    "tags": []
   },
   "outputs": [],
   "source": [
    "# Split new training set into I/O\n",
    "y_Newtrain = df_Newtrain.pop('price')\n",
    "x_Newtrain = df_Newtrain\n",
    "\n",
    "length = len(df_Newtrain);\n",
    "# Create vector X_0 full of ones (will always be 1)\n",
    "x0 = np.ones((length, 1));\n",
    "x = np.hstack((x0, x_Newtrain));\n",
    "y = y_Newtrain.values\n",
    "# Create vector for parameters\n",
    "theta2 = np.zeros(6);"
   ]
  },
  {
   "cell_type": "code",
   "execution_count": 49,
   "id": "95474693-501a-4b49-b0ed-59b3da9830c2",
   "metadata": {
    "tags": []
   },
   "outputs": [
    {
     "name": "stdout",
     "output_type": "stream",
     "text": [
      "0.5000000000000001\n"
     ]
    }
   ],
   "source": [
    "cost_train_2a_st = calc_cost(x, y, theta2)\n",
    "print(cost_train_2a_st)"
   ]
  },
  {
   "cell_type": "code",
   "execution_count": 50,
   "id": "099d92a2-0307-49c8-bfcc-5c91aa083b80",
   "metadata": {
    "tags": []
   },
   "outputs": [
    {
     "name": "stdout",
     "output_type": "stream",
     "text": [
      "Value of theta =  [-5.35587905e-17  4.27009101e-01  7.79212918e-02  3.21525374e-01\n",
      "  2.25395230e-01  1.27066578e-01]\n",
      "Cost history =  [0.48979778 0.47997164 0.47050749 ... 0.21128348 0.21128348 0.21128348]\n"
     ]
    }
   ],
   "source": [
    "# Define input parameters to function\n",
    "theta2 = [0., 0., 0., 0., 0., 0.];\n",
    "num_iter = 1500;\n",
    "alpha2 = 0.01;\n",
    "\n",
    "# Call grad_desc function\n",
    "theta2, cost_history_train2_st = calc_grad_descent(x, y, theta2, alpha2, num_iter);\n",
    "print('Value of theta = ', theta2)\n",
    "print('Cost history = ', cost_history_train2_st)"
   ]
  },
  {
   "cell_type": "code",
   "execution_count": 51,
   "id": "d7dfefa2-5735-49f8-a97e-73456900b8be",
   "metadata": {
    "tags": []
   },
   "outputs": [
    {
     "data": {
      "text/html": [
       "<div>\n",
       "<style scoped>\n",
       "    .dataframe tbody tr th:only-of-type {\n",
       "        vertical-align: middle;\n",
       "    }\n",
       "\n",
       "    .dataframe tbody tr th {\n",
       "        vertical-align: top;\n",
       "    }\n",
       "\n",
       "    .dataframe thead th {\n",
       "        text-align: right;\n",
       "    }\n",
       "</style>\n",
       "<table border=\"1\" class=\"dataframe\">\n",
       "  <thead>\n",
       "    <tr style=\"text-align: right;\">\n",
       "      <th></th>\n",
       "      <th>area</th>\n",
       "      <th>bedrooms</th>\n",
       "      <th>bathrooms</th>\n",
       "      <th>stories</th>\n",
       "      <th>parking</th>\n",
       "      <th>price</th>\n",
       "    </tr>\n",
       "  </thead>\n",
       "  <tbody>\n",
       "    <tr>\n",
       "      <th>542</th>\n",
       "      <td>-0.716464</td>\n",
       "      <td>-1.163430</td>\n",
       "      <td>-0.568815</td>\n",
       "      <td>-0.935729</td>\n",
       "      <td>-0.823492</td>\n",
       "      <td>-1.474716</td>\n",
       "    </tr>\n",
       "    <tr>\n",
       "      <th>70</th>\n",
       "      <td>-0.530421</td>\n",
       "      <td>0.143437</td>\n",
       "      <td>1.652273</td>\n",
       "      <td>0.263174</td>\n",
       "      <td>-0.823492</td>\n",
       "      <td>0.989788</td>\n",
       "    </tr>\n",
       "    <tr>\n",
       "      <th>504</th>\n",
       "      <td>-0.929434</td>\n",
       "      <td>-1.163430</td>\n",
       "      <td>-0.568815</td>\n",
       "      <td>-0.935729</td>\n",
       "      <td>-0.823492</td>\n",
       "      <td>-1.033159</td>\n",
       "    </tr>\n",
       "    <tr>\n",
       "      <th>221</th>\n",
       "      <td>-0.814381</td>\n",
       "      <td>1.450303</td>\n",
       "      <td>1.652273</td>\n",
       "      <td>0.263174</td>\n",
       "      <td>-0.823492</td>\n",
       "      <td>0.000564</td>\n",
       "    </tr>\n",
       "    <tr>\n",
       "      <th>519</th>\n",
       "      <td>-0.119169</td>\n",
       "      <td>-1.163430</td>\n",
       "      <td>-0.568815</td>\n",
       "      <td>0.263174</td>\n",
       "      <td>-0.823492</td>\n",
       "      <td>-1.132423</td>\n",
       "    </tr>\n",
       "  </tbody>\n",
       "</table>\n",
       "</div>"
      ],
      "text/plain": [
       "         area  bedrooms  bathrooms   stories   parking     price\n",
       "542 -0.716464 -1.163430  -0.568815 -0.935729 -0.823492 -1.474716\n",
       "70  -0.530421  0.143437   1.652273  0.263174 -0.823492  0.989788\n",
       "504 -0.929434 -1.163430  -0.568815 -0.935729 -0.823492 -1.033159\n",
       "221 -0.814381  1.450303   1.652273  0.263174 -0.823492  0.000564\n",
       "519 -0.119169 -1.163430  -0.568815  0.263174 -0.823492 -1.132423"
      ]
     },
     "execution_count": 51,
     "metadata": {},
     "output_type": "execute_result"
    }
   ],
   "source": [
    "num_vars = ['area', 'bedrooms', 'bathrooms', 'stories', 'parking', 'price']\n",
    "df_Newtrain = df_train[num_vars]\n",
    "scaler = StandardScaler()\n",
    "df_Newtest[num_vars] = scaler.fit_transform(df_Newtest[num_vars])\n",
    "df_Newtest.head(5)"
   ]
  },
  {
   "cell_type": "code",
   "execution_count": 52,
   "id": "e7f98b70-170e-4766-9c6a-08ec29f600b8",
   "metadata": {
    "tags": []
   },
   "outputs": [],
   "source": [
    "# Split new training set into I/O\n",
    "y_Newtest = df_Newtest.pop('price')\n",
    "x_Newtest = df_Newtest\n",
    "\n",
    "length = len(df_Newtest);\n",
    "# Create vector X_0 full of ones (will always be 1)\n",
    "x0 = np.ones((length, 1));\n",
    "x = np.hstack((x0, x_Newtest));\n",
    "y = y_Newtest.values\n",
    "# Create vector for parameters\n",
    "theta2 = np.zeros(6);"
   ]
  },
  {
   "cell_type": "code",
   "execution_count": 53,
   "id": "bd52331d-9e62-4419-b241-ac257d508004",
   "metadata": {
    "tags": []
   },
   "outputs": [
    {
     "name": "stdout",
     "output_type": "stream",
     "text": [
      "0.5\n"
     ]
    }
   ],
   "source": [
    "cost_test_2a_st = calc_cost(x, y, theta2)\n",
    "print(cost_test_2a_st)"
   ]
  },
  {
   "cell_type": "code",
   "execution_count": 54,
   "id": "78ff6404-8b57-4950-82bc-41da715a2a37",
   "metadata": {
    "tags": []
   },
   "outputs": [
    {
     "name": "stdout",
     "output_type": "stream",
     "text": [
      "Value of theta =  [2.57774831e-16 2.95338849e-01 2.10656902e-02 3.12861292e-01\n",
      " 3.05838669e-01 2.73635162e-01]\n",
      "Cost history =  [0.48976826 0.47991752 0.4704334  ... 0.21398592 0.21398592 0.21398592]\n"
     ]
    }
   ],
   "source": [
    "# Define input parameters to function\n",
    "theta2 = [0., 0., 0., 0., 0., 0.];\n",
    "num_iter = 1500;\n",
    "alpha2 = 0.01;\n",
    "\n",
    "# Call grad_desc function\n",
    "theta2, cost_history_test2_st = calc_grad_descent(x, y, theta2, alpha2, num_iter);\n",
    "print('Value of theta = ', theta2)\n",
    "print('Cost history = ', cost_history_test2_st)"
   ]
  },
  {
   "cell_type": "code",
   "execution_count": 55,
   "id": "7b251ce1-b4cd-4da5-b99d-ad00a82b99de",
   "metadata": {
    "tags": []
   },
   "outputs": [
    {
     "data": {
      "image/png": "[encoded data removed]",
      "text/plain": [
       "<Figure size 720x432 with 1 Axes>"
      ]
     },
     "metadata": {
      "needs_background": "light"
     },
     "output_type": "display_data"
    }
   ],
   "source": [
    "# Plot Gradient Descent \n",
    "plot.plot(range(1, num_iter + 1), cost_history_train2_st, color ='green', label = \"Training Loss\")\n",
    "plot.plot(range(1, num_iter + 1), cost_history_test2a, color ='blue', label = \"Evaluation Loss\")\n",
    "plot.rcParams[\"figure.figsize\"] = (10,6)\n",
    "plot.xlabel('Number of Iterations')\n",
    "plot.ylabel('Cost (J)')\n",
    "plot.title('Convergence of Gradient Descent for Training and Evaluation Set Problem 2a -- STANDARDIZATION')\n",
    "plot.legend()\n",
    "plot.show()"
   ]
  },
  {
   "cell_type": "code",
   "execution_count": 56,
   "id": "0b667b67-bc1a-47a8-84eb-c4787ed01fa0",
   "metadata": {
    "tags": []
   },
   "outputs": [],
   "source": [
    "########################################################################\n",
    "#          PART B"
   ]
  },
  {
   "cell_type": "code",
   "execution_count": 57,
   "id": "089a49a0-64d5-402d-985c-ceafcd72cdf2",
   "metadata": {},
   "outputs": [],
   "source": [
    "# NORMALIZATION FOR PART B"
   ]
  },
  {
   "cell_type": "code",
   "execution_count": 58,
   "id": "a2b86e79-2abd-4a9c-bd9a-5c6813c6f88a",
   "metadata": {
    "tags": []
   },
   "outputs": [
    {
     "data": {
      "text/html": [
       "<div>\n",
       "<style scoped>\n",
       "    .dataframe tbody tr th:only-of-type {\n",
       "        vertical-align: middle;\n",
       "    }\n",
       "\n",
       "    .dataframe tbody tr th {\n",
       "        vertical-align: top;\n",
       "    }\n",
       "\n",
       "    .dataframe thead th {\n",
       "        text-align: right;\n",
       "    }\n",
       "</style>\n",
       "<table border=\"1\" class=\"dataframe\">\n",
       "  <thead>\n",
       "    <tr style=\"text-align: right;\">\n",
       "      <th></th>\n",
       "      <th>price</th>\n",
       "      <th>area</th>\n",
       "      <th>bedrooms</th>\n",
       "      <th>bathrooms</th>\n",
       "      <th>stories</th>\n",
       "      <th>mainroad</th>\n",
       "      <th>guestroom</th>\n",
       "      <th>basement</th>\n",
       "      <th>hotwaterheating</th>\n",
       "      <th>airconditioning</th>\n",
       "      <th>parking</th>\n",
       "      <th>prefarea</th>\n",
       "      <th>furnishingstatus</th>\n",
       "    </tr>\n",
       "  </thead>\n",
       "  <tbody>\n",
       "    <tr>\n",
       "      <th>286</th>\n",
       "      <td>4235000</td>\n",
       "      <td>2787</td>\n",
       "      <td>3</td>\n",
       "      <td>1</td>\n",
       "      <td>1</td>\n",
       "      <td>1</td>\n",
       "      <td>0</td>\n",
       "      <td>1</td>\n",
       "      <td>0</td>\n",
       "      <td>0</td>\n",
       "      <td>0</td>\n",
       "      <td>1</td>\n",
       "      <td>furnished</td>\n",
       "    </tr>\n",
       "    <tr>\n",
       "      <th>477</th>\n",
       "      <td>2940000</td>\n",
       "      <td>4960</td>\n",
       "      <td>2</td>\n",
       "      <td>1</td>\n",
       "      <td>1</td>\n",
       "      <td>1</td>\n",
       "      <td>0</td>\n",
       "      <td>0</td>\n",
       "      <td>0</td>\n",
       "      <td>0</td>\n",
       "      <td>0</td>\n",
       "      <td>0</td>\n",
       "      <td>unfurnished</td>\n",
       "    </tr>\n",
       "    <tr>\n",
       "      <th>33</th>\n",
       "      <td>8190000</td>\n",
       "      <td>5960</td>\n",
       "      <td>3</td>\n",
       "      <td>3</td>\n",
       "      <td>2</td>\n",
       "      <td>1</td>\n",
       "      <td>1</td>\n",
       "      <td>1</td>\n",
       "      <td>0</td>\n",
       "      <td>0</td>\n",
       "      <td>1</td>\n",
       "      <td>0</td>\n",
       "      <td>unfurnished</td>\n",
       "    </tr>\n",
       "    <tr>\n",
       "      <th>475</th>\n",
       "      <td>2961000</td>\n",
       "      <td>3000</td>\n",
       "      <td>2</td>\n",
       "      <td>1</td>\n",
       "      <td>2</td>\n",
       "      <td>1</td>\n",
       "      <td>0</td>\n",
       "      <td>0</td>\n",
       "      <td>0</td>\n",
       "      <td>0</td>\n",
       "      <td>0</td>\n",
       "      <td>0</td>\n",
       "      <td>semi-furnished</td>\n",
       "    </tr>\n",
       "    <tr>\n",
       "      <th>104</th>\n",
       "      <td>6195000</td>\n",
       "      <td>5500</td>\n",
       "      <td>3</td>\n",
       "      <td>2</td>\n",
       "      <td>1</td>\n",
       "      <td>1</td>\n",
       "      <td>1</td>\n",
       "      <td>1</td>\n",
       "      <td>0</td>\n",
       "      <td>0</td>\n",
       "      <td>2</td>\n",
       "      <td>1</td>\n",
       "      <td>furnished</td>\n",
       "    </tr>\n",
       "  </tbody>\n",
       "</table>\n",
       "</div>"
      ],
      "text/plain": [
       "       price  area  bedrooms  bathrooms  stories  mainroad  guestroom  \\\n",
       "286  4235000  2787         3          1        1         1          0   \n",
       "477  2940000  4960         2          1        1         1          0   \n",
       "33   8190000  5960         3          3        2         1          1   \n",
       "475  2961000  3000         2          1        2         1          0   \n",
       "104  6195000  5500         3          2        1         1          1   \n",
       "\n",
       "     basement  hotwaterheating  airconditioning  parking  prefarea  \\\n",
       "286         1                0                0        0         1   \n",
       "477         0                0                0        0         0   \n",
       "33          1                0                0        1         0   \n",
       "475         0                0                0        0         0   \n",
       "104         1                0                0        2         1   \n",
       "\n",
       "    furnishingstatus  \n",
       "286        furnished  \n",
       "477      unfurnished  \n",
       "33       unfurnished  \n",
       "475   semi-furnished  \n",
       "104        furnished  "
      ]
     },
     "execution_count": 58,
     "metadata": {},
     "output_type": "execute_result"
    }
   ],
   "source": [
    "# Split dataset into 70% training and 30% evaluation\n",
    "df_train, df_test = train_test_split(housing, train_size = 0.7, test_size = 0.3, random_state = 4);\n",
    "df_train.head()"
   ]
  },
  {
   "cell_type": "code",
   "execution_count": 59,
   "id": "82d92520-7ca2-4360-823d-5ca99b1ca1e3",
   "metadata": {
    "tags": []
   },
   "outputs": [
    {
     "data": {
      "text/html": [
       "<div>\n",
       "<style scoped>\n",
       "    .dataframe tbody tr th:only-of-type {\n",
       "        vertical-align: middle;\n",
       "    }\n",
       "\n",
       "    .dataframe tbody tr th {\n",
       "        vertical-align: top;\n",
       "    }\n",
       "\n",
       "    .dataframe thead th {\n",
       "        text-align: right;\n",
       "    }\n",
       "</style>\n",
       "<table border=\"1\" class=\"dataframe\">\n",
       "  <thead>\n",
       "    <tr style=\"text-align: right;\">\n",
       "      <th></th>\n",
       "      <th>area</th>\n",
       "      <th>bedrooms</th>\n",
       "      <th>bathrooms</th>\n",
       "      <th>stories</th>\n",
       "      <th>mainroad</th>\n",
       "      <th>guestroom</th>\n",
       "      <th>basement</th>\n",
       "      <th>hotwaterheating</th>\n",
       "      <th>airconditioning</th>\n",
       "      <th>prefarea</th>\n",
       "      <th>parking</th>\n",
       "      <th>price</th>\n",
       "    </tr>\n",
       "  </thead>\n",
       "  <tbody>\n",
       "    <tr>\n",
       "      <th>286</th>\n",
       "      <td>2787</td>\n",
       "      <td>3</td>\n",
       "      <td>1</td>\n",
       "      <td>1</td>\n",
       "      <td>1</td>\n",
       "      <td>0</td>\n",
       "      <td>1</td>\n",
       "      <td>0</td>\n",
       "      <td>0</td>\n",
       "      <td>1</td>\n",
       "      <td>0</td>\n",
       "      <td>4235000</td>\n",
       "    </tr>\n",
       "    <tr>\n",
       "      <th>477</th>\n",
       "      <td>4960</td>\n",
       "      <td>2</td>\n",
       "      <td>1</td>\n",
       "      <td>1</td>\n",
       "      <td>1</td>\n",
       "      <td>0</td>\n",
       "      <td>0</td>\n",
       "      <td>0</td>\n",
       "      <td>0</td>\n",
       "      <td>0</td>\n",
       "      <td>0</td>\n",
       "      <td>2940000</td>\n",
       "    </tr>\n",
       "    <tr>\n",
       "      <th>33</th>\n",
       "      <td>5960</td>\n",
       "      <td>3</td>\n",
       "      <td>3</td>\n",
       "      <td>2</td>\n",
       "      <td>1</td>\n",
       "      <td>1</td>\n",
       "      <td>1</td>\n",
       "      <td>0</td>\n",
       "      <td>0</td>\n",
       "      <td>0</td>\n",
       "      <td>1</td>\n",
       "      <td>8190000</td>\n",
       "    </tr>\n",
       "    <tr>\n",
       "      <th>475</th>\n",
       "      <td>3000</td>\n",
       "      <td>2</td>\n",
       "      <td>1</td>\n",
       "      <td>2</td>\n",
       "      <td>1</td>\n",
       "      <td>0</td>\n",
       "      <td>0</td>\n",
       "      <td>0</td>\n",
       "      <td>0</td>\n",
       "      <td>0</td>\n",
       "      <td>0</td>\n",
       "      <td>2961000</td>\n",
       "    </tr>\n",
       "    <tr>\n",
       "      <th>104</th>\n",
       "      <td>5500</td>\n",
       "      <td>3</td>\n",
       "      <td>2</td>\n",
       "      <td>1</td>\n",
       "      <td>1</td>\n",
       "      <td>1</td>\n",
       "      <td>1</td>\n",
       "      <td>0</td>\n",
       "      <td>0</td>\n",
       "      <td>1</td>\n",
       "      <td>2</td>\n",
       "      <td>6195000</td>\n",
       "    </tr>\n",
       "  </tbody>\n",
       "</table>\n",
       "</div>"
      ],
      "text/plain": [
       "     area  bedrooms  bathrooms  stories  mainroad  guestroom  basement  \\\n",
       "286  2787         3          1        1         1          0         1   \n",
       "477  4960         2          1        1         1          0         0   \n",
       "33   5960         3          3        2         1          1         1   \n",
       "475  3000         2          1        2         1          0         0   \n",
       "104  5500         3          2        1         1          1         1   \n",
       "\n",
       "     hotwaterheating  airconditioning  prefarea  parking    price  \n",
       "286                0                0         1        0  4235000  \n",
       "477                0                0         0        0  2940000  \n",
       "33                 0                0         0        1  8190000  \n",
       "475                0                0         0        0  2961000  \n",
       "104                0                0         1        2  6195000  "
      ]
     },
     "execution_count": 59,
     "metadata": {},
     "output_type": "execute_result"
    }
   ],
   "source": [
    "num_vars = ['area', 'bedrooms', 'bathrooms', 'stories', 'mainroad', 'guestroom', 'basement', 'hotwaterheating', 'airconditioning', 'prefarea', 'parking','price']\n",
    "Newtrain = df_train[num_vars]\n",
    "Newtest = df_test[num_vars]\n",
    "Newtrain.head()"
   ]
  },
  {
   "cell_type": "code",
   "execution_count": 60,
   "id": "3003b668-7327-4655-9bd3-1c7d27e317c8",
   "metadata": {
    "tags": []
   },
   "outputs": [
    {
     "data": {
      "text/html": [
       "<div>\n",
       "<style scoped>\n",
       "    .dataframe tbody tr th:only-of-type {\n",
       "        vertical-align: middle;\n",
       "    }\n",
       "\n",
       "    .dataframe tbody tr th {\n",
       "        vertical-align: top;\n",
       "    }\n",
       "\n",
       "    .dataframe thead th {\n",
       "        text-align: right;\n",
       "    }\n",
       "</style>\n",
       "<table border=\"1\" class=\"dataframe\">\n",
       "  <thead>\n",
       "    <tr style=\"text-align: right;\">\n",
       "      <th></th>\n",
       "      <th>area</th>\n",
       "      <th>bedrooms</th>\n",
       "      <th>bathrooms</th>\n",
       "      <th>stories</th>\n",
       "      <th>mainroad</th>\n",
       "      <th>guestroom</th>\n",
       "      <th>basement</th>\n",
       "      <th>hotwaterheating</th>\n",
       "      <th>airconditioning</th>\n",
       "      <th>prefarea</th>\n",
       "      <th>parking</th>\n",
       "      <th>price</th>\n",
       "    </tr>\n",
       "  </thead>\n",
       "  <tbody>\n",
       "    <tr>\n",
       "      <th>286</th>\n",
       "      <td>0.066207</td>\n",
       "      <td>0.4</td>\n",
       "      <td>0.000000</td>\n",
       "      <td>0.000000</td>\n",
       "      <td>1.0</td>\n",
       "      <td>0.0</td>\n",
       "      <td>1.0</td>\n",
       "      <td>0.0</td>\n",
       "      <td>0.0</td>\n",
       "      <td>1.0</td>\n",
       "      <td>0.000000</td>\n",
       "      <td>0.215152</td>\n",
       "    </tr>\n",
       "    <tr>\n",
       "      <th>477</th>\n",
       "      <td>0.217488</td>\n",
       "      <td>0.2</td>\n",
       "      <td>0.000000</td>\n",
       "      <td>0.000000</td>\n",
       "      <td>1.0</td>\n",
       "      <td>0.0</td>\n",
       "      <td>0.0</td>\n",
       "      <td>0.0</td>\n",
       "      <td>0.0</td>\n",
       "      <td>0.0</td>\n",
       "      <td>0.000000</td>\n",
       "      <td>0.103030</td>\n",
       "    </tr>\n",
       "    <tr>\n",
       "      <th>33</th>\n",
       "      <td>0.287107</td>\n",
       "      <td>0.4</td>\n",
       "      <td>0.666667</td>\n",
       "      <td>0.333333</td>\n",
       "      <td>1.0</td>\n",
       "      <td>1.0</td>\n",
       "      <td>1.0</td>\n",
       "      <td>0.0</td>\n",
       "      <td>0.0</td>\n",
       "      <td>0.0</td>\n",
       "      <td>0.333333</td>\n",
       "      <td>0.557576</td>\n",
       "    </tr>\n",
       "    <tr>\n",
       "      <th>475</th>\n",
       "      <td>0.081036</td>\n",
       "      <td>0.2</td>\n",
       "      <td>0.000000</td>\n",
       "      <td>0.333333</td>\n",
       "      <td>1.0</td>\n",
       "      <td>0.0</td>\n",
       "      <td>0.0</td>\n",
       "      <td>0.0</td>\n",
       "      <td>0.0</td>\n",
       "      <td>0.0</td>\n",
       "      <td>0.000000</td>\n",
       "      <td>0.104848</td>\n",
       "    </tr>\n",
       "    <tr>\n",
       "      <th>104</th>\n",
       "      <td>0.255082</td>\n",
       "      <td>0.4</td>\n",
       "      <td>0.333333</td>\n",
       "      <td>0.000000</td>\n",
       "      <td>1.0</td>\n",
       "      <td>1.0</td>\n",
       "      <td>1.0</td>\n",
       "      <td>0.0</td>\n",
       "      <td>0.0</td>\n",
       "      <td>1.0</td>\n",
       "      <td>0.666667</td>\n",
       "      <td>0.384848</td>\n",
       "    </tr>\n",
       "  </tbody>\n",
       "</table>\n",
       "</div>"
      ],
      "text/plain": [
       "         area  bedrooms  bathrooms   stories  mainroad  guestroom  basement  \\\n",
       "286  0.066207       0.4   0.000000  0.000000       1.0        0.0       1.0   \n",
       "477  0.217488       0.2   0.000000  0.000000       1.0        0.0       0.0   \n",
       "33   0.287107       0.4   0.666667  0.333333       1.0        1.0       1.0   \n",
       "475  0.081036       0.2   0.000000  0.333333       1.0        0.0       0.0   \n",
       "104  0.255082       0.4   0.333333  0.000000       1.0        1.0       1.0   \n",
       "\n",
       "     hotwaterheating  airconditioning  prefarea   parking     price  \n",
       "286              0.0              0.0       1.0  0.000000  0.215152  \n",
       "477              0.0              0.0       0.0  0.000000  0.103030  \n",
       "33               0.0              0.0       0.0  0.333333  0.557576  \n",
       "475              0.0              0.0       0.0  0.000000  0.104848  \n",
       "104              0.0              0.0       1.0  0.666667  0.384848  "
      ]
     },
     "execution_count": 60,
     "metadata": {},
     "output_type": "execute_result"
    }
   ],
   "source": [
    "import warnings\n",
    "warnings.filterwarnings('ignore')\n",
    "# define standard scaler\n",
    "#scaler = StandardScaler()\n",
    "scaler = MinMaxScaler()\n",
    "Newtrain[num_vars] = scaler.fit_transform(Newtrain[num_vars])\n",
    "Newtrain.head(5)"
   ]
  },
  {
   "cell_type": "code",
   "execution_count": 61,
   "id": "81316670-75db-43e1-9bf0-63fc6def4855",
   "metadata": {
    "tags": []
   },
   "outputs": [],
   "source": [
    "# Split new training set into I/O\n",
    "y_Newtrain = Newtrain.pop('price')\n",
    "x_Newtrain = Newtrain\n",
    "\n",
    "length = len(df_Newtrain);\n",
    "# Create vector X_0 full of ones (will always be 1)\n",
    "x0 = np.ones((length, 1));\n",
    "x = np.hstack((x0, x_Newtrain));\n",
    "y = y_Newtrain.values\n",
    "# Create vector for parameters\n",
    "theta2b = np.zeros(12);\n"
   ]
  },
  {
   "cell_type": "code",
   "execution_count": 62,
   "id": "cb307983-6a4f-4b0d-ab72-6f43d79e0f63",
   "metadata": {
    "tags": []
   },
   "outputs": [
    {
     "name": "stdout",
     "output_type": "stream",
     "text": [
      "0.048569050727460726\n"
     ]
    }
   ],
   "source": [
    "cost_train_2b = calc_cost(x, y, theta2b)\n",
    "print(cost_train_2b)"
   ]
  },
  {
   "cell_type": "code",
   "execution_count": 63,
   "id": "55d8f3b9-ad34-4758-9a6f-2d2322d1276f",
   "metadata": {
    "tags": []
   },
   "outputs": [
    {
     "name": "stdout",
     "output_type": "stream",
     "text": [
      "Value of theta =  [0.03853321 0.10680617 0.07009388 0.10880756 0.12625162 0.05357144\n",
      " 0.0363738  0.03293298 0.03813387 0.08812259 0.06196741 0.10024062]\n",
      "Cost history =  [0.04656519 0.04466129 0.04285234 ... 0.0051972  0.00519664 0.00519607]\n"
     ]
    }
   ],
   "source": [
    "# Define input parameters to function\n",
    "theta2b = [0., 0., 0., 0., 0., 0., 0., 0., 0., 0., 0., 0.];\n",
    "num_iter = 1500;\n",
    "alpha2 = 0.01;\n",
    "\n",
    "# Call grad_desc function\n",
    "theta2b, cost_history_train2b = calc_grad_descent(x, y, theta2b, alpha2, num_iter);\n",
    "print('Value of theta = ', theta2b)\n",
    "print('Cost history = ', cost_history_train2b)"
   ]
  },
  {
   "cell_type": "code",
   "execution_count": 64,
   "id": "1bb76d43-9993-4d35-b46c-812a64f5a6d8",
   "metadata": {
    "tags": []
   },
   "outputs": [
    {
     "data": {
      "text/html": [
       "<div>\n",
       "<style scoped>\n",
       "    .dataframe tbody tr th:only-of-type {\n",
       "        vertical-align: middle;\n",
       "    }\n",
       "\n",
       "    .dataframe tbody tr th {\n",
       "        vertical-align: top;\n",
       "    }\n",
       "\n",
       "    .dataframe thead th {\n",
       "        text-align: right;\n",
       "    }\n",
       "</style>\n",
       "<table border=\"1\" class=\"dataframe\">\n",
       "  <thead>\n",
       "    <tr style=\"text-align: right;\">\n",
       "      <th></th>\n",
       "      <th>area</th>\n",
       "      <th>bedrooms</th>\n",
       "      <th>bathrooms</th>\n",
       "      <th>stories</th>\n",
       "      <th>mainroad</th>\n",
       "      <th>guestroom</th>\n",
       "      <th>basement</th>\n",
       "      <th>hotwaterheating</th>\n",
       "      <th>airconditioning</th>\n",
       "      <th>prefarea</th>\n",
       "      <th>parking</th>\n",
       "      <th>price</th>\n",
       "    </tr>\n",
       "  </thead>\n",
       "  <tbody>\n",
       "    <tr>\n",
       "      <th>489</th>\n",
       "      <td>0.142857</td>\n",
       "      <td>0.50</td>\n",
       "      <td>0.0</td>\n",
       "      <td>0.333333</td>\n",
       "      <td>0.0</td>\n",
       "      <td>0.0</td>\n",
       "      <td>0.0</td>\n",
       "      <td>0.0</td>\n",
       "      <td>0.0</td>\n",
       "      <td>0.0</td>\n",
       "      <td>0.333333</td>\n",
       "      <td>0.103679</td>\n",
       "    </tr>\n",
       "    <tr>\n",
       "      <th>302</th>\n",
       "      <td>0.042857</td>\n",
       "      <td>0.50</td>\n",
       "      <td>0.0</td>\n",
       "      <td>0.666667</td>\n",
       "      <td>1.0</td>\n",
       "      <td>0.0</td>\n",
       "      <td>0.0</td>\n",
       "      <td>0.0</td>\n",
       "      <td>0.0</td>\n",
       "      <td>1.0</td>\n",
       "      <td>0.333333</td>\n",
       "      <td>0.234114</td>\n",
       "    </tr>\n",
       "    <tr>\n",
       "      <th>66</th>\n",
       "      <td>1.000000</td>\n",
       "      <td>0.25</td>\n",
       "      <td>0.0</td>\n",
       "      <td>0.000000</td>\n",
       "      <td>1.0</td>\n",
       "      <td>0.0</td>\n",
       "      <td>1.0</td>\n",
       "      <td>1.0</td>\n",
       "      <td>0.0</td>\n",
       "      <td>0.0</td>\n",
       "      <td>0.333333</td>\n",
       "      <td>0.494983</td>\n",
       "    </tr>\n",
       "    <tr>\n",
       "      <th>270</th>\n",
       "      <td>0.246753</td>\n",
       "      <td>0.50</td>\n",
       "      <td>0.5</td>\n",
       "      <td>0.666667</td>\n",
       "      <td>1.0</td>\n",
       "      <td>0.0</td>\n",
       "      <td>0.0</td>\n",
       "      <td>1.0</td>\n",
       "      <td>0.0</td>\n",
       "      <td>0.0</td>\n",
       "      <td>0.333333</td>\n",
       "      <td>0.247492</td>\n",
       "    </tr>\n",
       "    <tr>\n",
       "      <th>515</th>\n",
       "      <td>0.135065</td>\n",
       "      <td>0.50</td>\n",
       "      <td>0.0</td>\n",
       "      <td>0.333333</td>\n",
       "      <td>1.0</td>\n",
       "      <td>0.0</td>\n",
       "      <td>1.0</td>\n",
       "      <td>0.0</td>\n",
       "      <td>0.0</td>\n",
       "      <td>0.0</td>\n",
       "      <td>0.000000</td>\n",
       "      <td>0.066890</td>\n",
       "    </tr>\n",
       "  </tbody>\n",
       "</table>\n",
       "</div>"
      ],
      "text/plain": [
       "         area  bedrooms  bathrooms   stories  mainroad  guestroom  basement  \\\n",
       "489  0.142857      0.50        0.0  0.333333       0.0        0.0       0.0   \n",
       "302  0.042857      0.50        0.0  0.666667       1.0        0.0       0.0   \n",
       "66   1.000000      0.25        0.0  0.000000       1.0        0.0       1.0   \n",
       "270  0.246753      0.50        0.5  0.666667       1.0        0.0       0.0   \n",
       "515  0.135065      0.50        0.0  0.333333       1.0        0.0       1.0   \n",
       "\n",
       "     hotwaterheating  airconditioning  prefarea   parking     price  \n",
       "489              0.0              0.0       0.0  0.333333  0.103679  \n",
       "302              0.0              0.0       1.0  0.333333  0.234114  \n",
       "66               1.0              0.0       0.0  0.333333  0.494983  \n",
       "270              1.0              0.0       0.0  0.333333  0.247492  \n",
       "515              0.0              0.0       0.0  0.000000  0.066890  "
      ]
     },
     "execution_count": 64,
     "metadata": {},
     "output_type": "execute_result"
    }
   ],
   "source": [
    "####################### Evaluation Set\n",
    "import warnings\n",
    "warnings.filterwarnings('ignore')\n",
    "# Scale new eval set to make more uniform\n",
    "Newtest[num_vars] = scaler.fit_transform(Newtest[num_vars])\n",
    "Newtest.head(5)"
   ]
  },
  {
   "cell_type": "code",
   "execution_count": 65,
   "id": "9b91ec4d-359d-49dd-a879-551401e2d911",
   "metadata": {
    "tags": []
   },
   "outputs": [],
   "source": [
    "# Split new evaluation set into I/O\n",
    "y_Newtest = Newtest.pop('price')\n",
    "x_Newtest = Newtest\n",
    "\n",
    "length = len(Newtest);\n",
    "# Create vector X_0 full of ones (will always be 1)\n",
    "x0 = np.ones((length, 1));\n",
    "x = np.hstack((x0, x_Newtest));\n",
    "y = y_Newtest.values\n",
    "# Create vector for parameters\n",
    "theta2_test = np.zeros(12);"
   ]
  },
  {
   "cell_type": "code",
   "execution_count": 66,
   "id": "601d23db-831d-4e6f-b129-d7079d4db216",
   "metadata": {
    "tags": []
   },
   "outputs": [
    {
     "name": "stdout",
     "output_type": "stream",
     "text": [
      "0.05361411594130148\n"
     ]
    }
   ],
   "source": [
    "cost_test_2b = calc_cost(x, y, theta2_test)\n",
    "print(cost_test_2b)"
   ]
  },
  {
   "cell_type": "code",
   "execution_count": 67,
   "id": "393a083c-b6c0-499a-b5fc-6318f9cf7428",
   "metadata": {
    "tags": []
   },
   "outputs": [
    {
     "name": "stdout",
     "output_type": "stream",
     "text": [
      "Value of theta =  [0.04189303 0.10820035 0.05825242 0.14815223 0.06475467 0.05559656\n",
      " 0.04610921 0.02166962 0.06069887 0.11671053 0.0833319  0.08521737]\n",
      "Cost history =  [0.0513155  0.04913446 0.04706496 ... 0.00508938 0.00508892 0.00508845]\n"
     ]
    }
   ],
   "source": [
    "theta2_test = [0., 0., 0., 0., 0., 0., 0., 0., 0., 0., 0., 0.];\n",
    "num_iter = 1500;\n",
    "alpha2 = 0.01;\n",
    "\n",
    "# Call grad_desc function\n",
    "theta2_test, cost_history_test2b = calc_grad_descent(x, y, theta2_test, alpha2, num_iter);\n",
    "print('Value of theta = ', theta2_test)\n",
    "print('Cost history = ', cost_history_test2b)"
   ]
  },
  {
   "cell_type": "code",
   "execution_count": 68,
   "id": "f906f0b9-e3b9-4fca-8841-327700d7ef1e",
   "metadata": {
    "tags": []
   },
   "outputs": [
    {
     "data": {
      "image/png": "[encoded data removed]",
      "text/plain": [
       "<Figure size 720x432 with 1 Axes>"
      ]
     },
     "metadata": {
      "needs_background": "light"
     },
     "output_type": "display_data"
    }
   ],
   "source": [
    "# Plot Gradient Descent \n",
    "plot.plot(range(1, num_iter + 1), cost_history_train2b, color ='green', label = \"Training Loss\")\n",
    "plot.plot(range(1, num_iter + 1), cost_history_test2b, color ='blue', label = \"Evaluation Loss\")\n",
    "plot.rcParams[\"figure.figsize\"] = (10,6)\n",
    "plot.xlabel('Number of Iterations')\n",
    "plot.ylabel('Cost (J)')\n",
    "plot.title('Convergence of Gradient Descent for Training and Evaluation Set Problem 2b -- NORMALIZATION')\n",
    "plot.legend()\n",
    "plot.show()"
   ]
  },
  {
   "cell_type": "code",
   "execution_count": 69,
   "id": "871d9db8-ad14-4f6a-b3a1-fd48c47ba6fd",
   "metadata": {},
   "outputs": [],
   "source": [
    "# STANDARDIZATION FOR PART B"
   ]
  },
  {
   "cell_type": "code",
   "execution_count": 70,
   "id": "df1cdb37-62a5-46fe-bb59-72d16c177975",
   "metadata": {
    "tags": []
   },
   "outputs": [
    {
     "data": {
      "text/html": [
       "<div>\n",
       "<style scoped>\n",
       "    .dataframe tbody tr th:only-of-type {\n",
       "        vertical-align: middle;\n",
       "    }\n",
       "\n",
       "    .dataframe tbody tr th {\n",
       "        vertical-align: top;\n",
       "    }\n",
       "\n",
       "    .dataframe thead th {\n",
       "        text-align: right;\n",
       "    }\n",
       "</style>\n",
       "<table border=\"1\" class=\"dataframe\">\n",
       "  <thead>\n",
       "    <tr style=\"text-align: right;\">\n",
       "      <th></th>\n",
       "      <th>price</th>\n",
       "      <th>area</th>\n",
       "      <th>bedrooms</th>\n",
       "      <th>bathrooms</th>\n",
       "      <th>stories</th>\n",
       "      <th>mainroad</th>\n",
       "      <th>guestroom</th>\n",
       "      <th>basement</th>\n",
       "      <th>hotwaterheating</th>\n",
       "      <th>airconditioning</th>\n",
       "      <th>parking</th>\n",
       "      <th>prefarea</th>\n",
       "      <th>furnishingstatus</th>\n",
       "    </tr>\n",
       "  </thead>\n",
       "  <tbody>\n",
       "    <tr>\n",
       "      <th>471</th>\n",
       "      <td>3010000</td>\n",
       "      <td>3750</td>\n",
       "      <td>3</td>\n",
       "      <td>1</td>\n",
       "      <td>2</td>\n",
       "      <td>1</td>\n",
       "      <td>0</td>\n",
       "      <td>0</td>\n",
       "      <td>0</td>\n",
       "      <td>0</td>\n",
       "      <td>0</td>\n",
       "      <td>0</td>\n",
       "      <td>unfurnished</td>\n",
       "    </tr>\n",
       "    <tr>\n",
       "      <th>285</th>\n",
       "      <td>4235000</td>\n",
       "      <td>6650</td>\n",
       "      <td>3</td>\n",
       "      <td>1</td>\n",
       "      <td>2</td>\n",
       "      <td>1</td>\n",
       "      <td>1</td>\n",
       "      <td>0</td>\n",
       "      <td>0</td>\n",
       "      <td>0</td>\n",
       "      <td>0</td>\n",
       "      <td>0</td>\n",
       "      <td>semi-furnished</td>\n",
       "    </tr>\n",
       "    <tr>\n",
       "      <th>262</th>\n",
       "      <td>4445000</td>\n",
       "      <td>3750</td>\n",
       "      <td>2</td>\n",
       "      <td>1</td>\n",
       "      <td>1</td>\n",
       "      <td>1</td>\n",
       "      <td>1</td>\n",
       "      <td>1</td>\n",
       "      <td>0</td>\n",
       "      <td>0</td>\n",
       "      <td>0</td>\n",
       "      <td>0</td>\n",
       "      <td>semi-furnished</td>\n",
       "    </tr>\n",
       "    <tr>\n",
       "      <th>62</th>\n",
       "      <td>7070000</td>\n",
       "      <td>6240</td>\n",
       "      <td>4</td>\n",
       "      <td>2</td>\n",
       "      <td>2</td>\n",
       "      <td>1</td>\n",
       "      <td>0</td>\n",
       "      <td>0</td>\n",
       "      <td>0</td>\n",
       "      <td>1</td>\n",
       "      <td>1</td>\n",
       "      <td>0</td>\n",
       "      <td>furnished</td>\n",
       "    </tr>\n",
       "    <tr>\n",
       "      <th>464</th>\n",
       "      <td>3080000</td>\n",
       "      <td>4500</td>\n",
       "      <td>2</td>\n",
       "      <td>1</td>\n",
       "      <td>2</td>\n",
       "      <td>1</td>\n",
       "      <td>0</td>\n",
       "      <td>0</td>\n",
       "      <td>1</td>\n",
       "      <td>0</td>\n",
       "      <td>1</td>\n",
       "      <td>0</td>\n",
       "      <td>semi-furnished</td>\n",
       "    </tr>\n",
       "  </tbody>\n",
       "</table>\n",
       "</div>"
      ],
      "text/plain": [
       "       price  area  bedrooms  bathrooms  stories  mainroad  guestroom  \\\n",
       "471  3010000  3750         3          1        2         1          0   \n",
       "285  4235000  6650         3          1        2         1          1   \n",
       "262  4445000  3750         2          1        1         1          1   \n",
       "62   7070000  6240         4          2        2         1          0   \n",
       "464  3080000  4500         2          1        2         1          0   \n",
       "\n",
       "     basement  hotwaterheating  airconditioning  parking  prefarea  \\\n",
       "471         0                0                0        0         0   \n",
       "285         0                0                0        0         0   \n",
       "262         1                0                0        0         0   \n",
       "62          0                0                1        1         0   \n",
       "464         0                1                0        1         0   \n",
       "\n",
       "    furnishingstatus  \n",
       "471      unfurnished  \n",
       "285   semi-furnished  \n",
       "262   semi-furnished  \n",
       "62         furnished  \n",
       "464   semi-furnished  "
      ]
     },
     "execution_count": 70,
     "metadata": {},
     "output_type": "execute_result"
    }
   ],
   "source": [
    "# Split dataset into 70% training and 30% evaluation\n",
    "df_train, df_test = train_test_split(housing, train_size = 0.7, test_size = 0.3, random_state = 12);\n",
    "df_train.head()"
   ]
  },
  {
   "cell_type": "code",
   "execution_count": 71,
   "id": "d1049907-0b4e-41dc-a379-b999a6732b47",
   "metadata": {
    "tags": []
   },
   "outputs": [
    {
     "data": {
      "text/html": [
       "<div>\n",
       "<style scoped>\n",
       "    .dataframe tbody tr th:only-of-type {\n",
       "        vertical-align: middle;\n",
       "    }\n",
       "\n",
       "    .dataframe tbody tr th {\n",
       "        vertical-align: top;\n",
       "    }\n",
       "\n",
       "    .dataframe thead th {\n",
       "        text-align: right;\n",
       "    }\n",
       "</style>\n",
       "<table border=\"1\" class=\"dataframe\">\n",
       "  <thead>\n",
       "    <tr style=\"text-align: right;\">\n",
       "      <th></th>\n",
       "      <th>area</th>\n",
       "      <th>bedrooms</th>\n",
       "      <th>bathrooms</th>\n",
       "      <th>stories</th>\n",
       "      <th>mainroad</th>\n",
       "      <th>guestroom</th>\n",
       "      <th>basement</th>\n",
       "      <th>hotwaterheating</th>\n",
       "      <th>airconditioning</th>\n",
       "      <th>prefarea</th>\n",
       "      <th>parking</th>\n",
       "      <th>price</th>\n",
       "    </tr>\n",
       "  </thead>\n",
       "  <tbody>\n",
       "    <tr>\n",
       "      <th>471</th>\n",
       "      <td>3750</td>\n",
       "      <td>3</td>\n",
       "      <td>1</td>\n",
       "      <td>2</td>\n",
       "      <td>1</td>\n",
       "      <td>0</td>\n",
       "      <td>0</td>\n",
       "      <td>0</td>\n",
       "      <td>0</td>\n",
       "      <td>0</td>\n",
       "      <td>0</td>\n",
       "      <td>3010000</td>\n",
       "    </tr>\n",
       "    <tr>\n",
       "      <th>285</th>\n",
       "      <td>6650</td>\n",
       "      <td>3</td>\n",
       "      <td>1</td>\n",
       "      <td>2</td>\n",
       "      <td>1</td>\n",
       "      <td>1</td>\n",
       "      <td>0</td>\n",
       "      <td>0</td>\n",
       "      <td>0</td>\n",
       "      <td>0</td>\n",
       "      <td>0</td>\n",
       "      <td>4235000</td>\n",
       "    </tr>\n",
       "    <tr>\n",
       "      <th>262</th>\n",
       "      <td>3750</td>\n",
       "      <td>2</td>\n",
       "      <td>1</td>\n",
       "      <td>1</td>\n",
       "      <td>1</td>\n",
       "      <td>1</td>\n",
       "      <td>1</td>\n",
       "      <td>0</td>\n",
       "      <td>0</td>\n",
       "      <td>0</td>\n",
       "      <td>0</td>\n",
       "      <td>4445000</td>\n",
       "    </tr>\n",
       "    <tr>\n",
       "      <th>62</th>\n",
       "      <td>6240</td>\n",
       "      <td>4</td>\n",
       "      <td>2</td>\n",
       "      <td>2</td>\n",
       "      <td>1</td>\n",
       "      <td>0</td>\n",
       "      <td>0</td>\n",
       "      <td>0</td>\n",
       "      <td>1</td>\n",
       "      <td>0</td>\n",
       "      <td>1</td>\n",
       "      <td>7070000</td>\n",
       "    </tr>\n",
       "    <tr>\n",
       "      <th>464</th>\n",
       "      <td>4500</td>\n",
       "      <td>2</td>\n",
       "      <td>1</td>\n",
       "      <td>2</td>\n",
       "      <td>1</td>\n",
       "      <td>0</td>\n",
       "      <td>0</td>\n",
       "      <td>1</td>\n",
       "      <td>0</td>\n",
       "      <td>0</td>\n",
       "      <td>1</td>\n",
       "      <td>3080000</td>\n",
       "    </tr>\n",
       "  </tbody>\n",
       "</table>\n",
       "</div>"
      ],
      "text/plain": [
       "     area  bedrooms  bathrooms  stories  mainroad  guestroom  basement  \\\n",
       "471  3750         3          1        2         1          0         0   \n",
       "285  6650         3          1        2         1          1         0   \n",
       "262  3750         2          1        1         1          1         1   \n",
       "62   6240         4          2        2         1          0         0   \n",
       "464  4500         2          1        2         1          0         0   \n",
       "\n",
       "     hotwaterheating  airconditioning  prefarea  parking    price  \n",
       "471                0                0         0        0  3010000  \n",
       "285                0                0         0        0  4235000  \n",
       "262                0                0         0        0  4445000  \n",
       "62                 0                1         0        1  7070000  \n",
       "464                1                0         0        1  3080000  "
      ]
     },
     "execution_count": 71,
     "metadata": {},
     "output_type": "execute_result"
    }
   ],
   "source": [
    "num_vars = ['area', 'bedrooms', 'bathrooms', 'stories', 'mainroad', 'guestroom', 'basement', 'hotwaterheating', 'airconditioning', 'prefarea', 'parking','price']\n",
    "Newtrain = df_train[num_vars]\n",
    "Newtest = df_test[num_vars]\n",
    "Newtrain.head()"
   ]
  },
  {
   "cell_type": "code",
   "execution_count": 72,
   "id": "1a2362bd-c8dd-4713-810a-a78f4b77de1a",
   "metadata": {
    "tags": []
   },
   "outputs": [
    {
     "data": {
      "text/html": [
       "<div>\n",
       "<style scoped>\n",
       "    .dataframe tbody tr th:only-of-type {\n",
       "        vertical-align: middle;\n",
       "    }\n",
       "\n",
       "    .dataframe tbody tr th {\n",
       "        vertical-align: top;\n",
       "    }\n",
       "\n",
       "    .dataframe thead th {\n",
       "        text-align: right;\n",
       "    }\n",
       "</style>\n",
       "<table border=\"1\" class=\"dataframe\">\n",
       "  <thead>\n",
       "    <tr style=\"text-align: right;\">\n",
       "      <th></th>\n",
       "      <th>area</th>\n",
       "      <th>bedrooms</th>\n",
       "      <th>bathrooms</th>\n",
       "      <th>stories</th>\n",
       "      <th>mainroad</th>\n",
       "      <th>guestroom</th>\n",
       "      <th>basement</th>\n",
       "      <th>hotwaterheating</th>\n",
       "      <th>airconditioning</th>\n",
       "      <th>prefarea</th>\n",
       "      <th>parking</th>\n",
       "      <th>price</th>\n",
       "    </tr>\n",
       "  </thead>\n",
       "  <tbody>\n",
       "    <tr>\n",
       "      <th>471</th>\n",
       "      <td>-0.650774</td>\n",
       "      <td>0.047748</td>\n",
       "      <td>-0.571834</td>\n",
       "      <td>0.243545</td>\n",
       "      <td>0.401977</td>\n",
       "      <td>-0.490961</td>\n",
       "      <td>-0.757879</td>\n",
       "      <td>-0.229099</td>\n",
       "      <td>-0.657519</td>\n",
       "      <td>-0.543984</td>\n",
       "      <td>-0.807484</td>\n",
       "      <td>-0.993179</td>\n",
       "    </tr>\n",
       "    <tr>\n",
       "      <th>285</th>\n",
       "      <td>0.673666</td>\n",
       "      <td>0.047748</td>\n",
       "      <td>-0.571834</td>\n",
       "      <td>0.243545</td>\n",
       "      <td>0.401977</td>\n",
       "      <td>2.036823</td>\n",
       "      <td>-0.757879</td>\n",
       "      <td>-0.229099</td>\n",
       "      <td>-0.657519</td>\n",
       "      <td>-0.543984</td>\n",
       "      <td>-0.807484</td>\n",
       "      <td>-0.288547</td>\n",
       "    </tr>\n",
       "    <tr>\n",
       "      <th>262</th>\n",
       "      <td>-0.650774</td>\n",
       "      <td>-1.351645</td>\n",
       "      <td>-0.571834</td>\n",
       "      <td>-0.916338</td>\n",
       "      <td>0.401977</td>\n",
       "      <td>2.036823</td>\n",
       "      <td>1.319472</td>\n",
       "      <td>-0.229099</td>\n",
       "      <td>-0.657519</td>\n",
       "      <td>-0.543984</td>\n",
       "      <td>-0.807484</td>\n",
       "      <td>-0.167753</td>\n",
       "    </tr>\n",
       "    <tr>\n",
       "      <th>62</th>\n",
       "      <td>0.486418</td>\n",
       "      <td>1.447141</td>\n",
       "      <td>1.543397</td>\n",
       "      <td>0.243545</td>\n",
       "      <td>0.401977</td>\n",
       "      <td>-0.490961</td>\n",
       "      <td>-0.757879</td>\n",
       "      <td>-0.229099</td>\n",
       "      <td>1.520869</td>\n",
       "      <td>-0.543984</td>\n",
       "      <td>0.353465</td>\n",
       "      <td>1.342172</td>\n",
       "    </tr>\n",
       "    <tr>\n",
       "      <th>464</th>\n",
       "      <td>-0.308246</td>\n",
       "      <td>-1.351645</td>\n",
       "      <td>-0.571834</td>\n",
       "      <td>0.243545</td>\n",
       "      <td>0.401977</td>\n",
       "      <td>-0.490961</td>\n",
       "      <td>-0.757879</td>\n",
       "      <td>4.364932</td>\n",
       "      <td>-0.657519</td>\n",
       "      <td>-0.543984</td>\n",
       "      <td>0.353465</td>\n",
       "      <td>-0.952914</td>\n",
       "    </tr>\n",
       "  </tbody>\n",
       "</table>\n",
       "</div>"
      ],
      "text/plain": [
       "         area  bedrooms  bathrooms   stories  mainroad  guestroom  basement  \\\n",
       "471 -0.650774  0.047748  -0.571834  0.243545  0.401977  -0.490961 -0.757879   \n",
       "285  0.673666  0.047748  -0.571834  0.243545  0.401977   2.036823 -0.757879   \n",
       "262 -0.650774 -1.351645  -0.571834 -0.916338  0.401977   2.036823  1.319472   \n",
       "62   0.486418  1.447141   1.543397  0.243545  0.401977  -0.490961 -0.757879   \n",
       "464 -0.308246 -1.351645  -0.571834  0.243545  0.401977  -0.490961 -0.757879   \n",
       "\n",
       "     hotwaterheating  airconditioning  prefarea   parking     price  \n",
       "471        -0.229099        -0.657519 -0.543984 -0.807484 -0.993179  \n",
       "285        -0.229099        -0.657519 -0.543984 -0.807484 -0.288547  \n",
       "262        -0.229099        -0.657519 -0.543984 -0.807484 -0.167753  \n",
       "62         -0.229099         1.520869 -0.543984  0.353465  1.342172  \n",
       "464         4.364932        -0.657519 -0.543984  0.353465 -0.952914  "
      ]
     },
     "execution_count": 72,
     "metadata": {},
     "output_type": "execute_result"
    }
   ],
   "source": [
    "import warnings\n",
    "warnings.filterwarnings('ignore')\n",
    "# define standard scaler\n",
    "scaler = StandardScaler()\n",
    "Newtrain[num_vars] = scaler.fit_transform(Newtrain[num_vars])\n",
    "Newtrain.head(5)"
   ]
  },
  {
   "cell_type": "code",
   "execution_count": 73,
   "id": "fa789f8f-17bc-4da9-a144-4da2f5599fbf",
   "metadata": {
    "tags": []
   },
   "outputs": [],
   "source": [
    "# Split new training set into I/O\n",
    "y_Newtrain = Newtrain.pop('price')\n",
    "x_Newtrain = Newtrain\n",
    "\n",
    "length = len(df_Newtrain);\n",
    "# Create vector X_0 full of ones (will always be 1)\n",
    "x0 = np.ones((length, 1));\n",
    "x = np.hstack((x0, x_Newtrain));\n",
    "y = y_Newtrain.values\n",
    "# Create vector for parameters\n",
    "theta2 = np.zeros(12);"
   ]
  },
  {
   "cell_type": "code",
   "execution_count": 74,
   "id": "904be480-4a37-499b-854f-88c94723f07c",
   "metadata": {
    "tags": []
   },
   "outputs": [
    {
     "name": "stdout",
     "output_type": "stream",
     "text": [
      "0.5\n"
     ]
    }
   ],
   "source": [
    "cost_train_2b_st = calc_cost(x, y, theta2)\n",
    "print(cost_train_2b_st)"
   ]
  },
  {
   "cell_type": "code",
   "execution_count": 75,
   "id": "eac7cf2f-7171-4243-9f0b-12aea89d4eed",
   "metadata": {
    "tags": []
   },
   "outputs": [
    {
     "name": "stdout",
     "output_type": "stream",
     "text": [
      "Value of theta =  [-1.19612690e-16  2.68835247e-01  6.90341026e-02  2.08360960e-01\n",
      "  2.55625910e-01  8.20942630e-02  1.21162861e-01  8.52487058e-02\n",
      "  1.21337550e-01  2.15760357e-01  1.31398930e-01  1.37389226e-01]\n",
      "Cost history =  [0.4859766  0.4725827  0.45978977 ... 0.17973144 0.17973144 0.17973144]\n"
     ]
    }
   ],
   "source": [
    "# Define input parameters to function\n",
    "theta2 = [0., 0., 0., 0., 0., 0., 0., 0., 0., 0., 0., 0.];\n",
    "num_iter = 1500;\n",
    "alpha2 = 0.01;\n",
    "\n",
    "# Call grad_desc function\n",
    "theta2, cost_history_train2b_st = calc_grad_descent(x, y, theta2, alpha2, num_iter);\n",
    "print('Value of theta = ', theta2)\n",
    "print('Cost history = ', cost_history_train2b_st)"
   ]
  },
  {
   "cell_type": "code",
   "execution_count": 76,
   "id": "c9bea563-bf8f-4e53-a9af-225847561584",
   "metadata": {
    "tags": []
   },
   "outputs": [
    {
     "data": {
      "text/html": [
       "<div>\n",
       "<style scoped>\n",
       "    .dataframe tbody tr th:only-of-type {\n",
       "        vertical-align: middle;\n",
       "    }\n",
       "\n",
       "    .dataframe tbody tr th {\n",
       "        vertical-align: top;\n",
       "    }\n",
       "\n",
       "    .dataframe thead th {\n",
       "        text-align: right;\n",
       "    }\n",
       "</style>\n",
       "<table border=\"1\" class=\"dataframe\">\n",
       "  <thead>\n",
       "    <tr style=\"text-align: right;\">\n",
       "      <th></th>\n",
       "      <th>area</th>\n",
       "      <th>bedrooms</th>\n",
       "      <th>bathrooms</th>\n",
       "      <th>stories</th>\n",
       "      <th>mainroad</th>\n",
       "      <th>guestroom</th>\n",
       "      <th>basement</th>\n",
       "      <th>hotwaterheating</th>\n",
       "      <th>airconditioning</th>\n",
       "      <th>prefarea</th>\n",
       "      <th>parking</th>\n",
       "      <th>price</th>\n",
       "    </tr>\n",
       "  </thead>\n",
       "  <tbody>\n",
       "    <tr>\n",
       "      <th>298</th>\n",
       "      <td>0.333652</td>\n",
       "      <td>0.046441</td>\n",
       "      <td>-0.574629</td>\n",
       "      <td>-0.960466</td>\n",
       "      <td>0.414039</td>\n",
       "      <td>-0.403882</td>\n",
       "      <td>-0.681385</td>\n",
       "      <td>5.131601</td>\n",
       "      <td>-0.729870</td>\n",
       "      <td>-0.577350</td>\n",
       "      <td>1.525360</td>\n",
       "      <td>-0.297596</td>\n",
       "    </tr>\n",
       "    <tr>\n",
       "      <th>372</th>\n",
       "      <td>-0.904311</td>\n",
       "      <td>0.046441</td>\n",
       "      <td>-0.574629</td>\n",
       "      <td>0.180957</td>\n",
       "      <td>-2.415229</td>\n",
       "      <td>-0.403882</td>\n",
       "      <td>1.467599</td>\n",
       "      <td>-0.194871</td>\n",
       "      <td>-0.729870</td>\n",
       "      <td>-0.577350</td>\n",
       "      <td>-0.801701</td>\n",
       "      <td>-0.559368</td>\n",
       "    </tr>\n",
       "    <tr>\n",
       "      <th>14</th>\n",
       "      <td>1.278661</td>\n",
       "      <td>0.046441</td>\n",
       "      <td>1.203469</td>\n",
       "      <td>0.180957</td>\n",
       "      <td>0.414039</td>\n",
       "      <td>-0.403882</td>\n",
       "      <td>-0.681385</td>\n",
       "      <td>-0.194871</td>\n",
       "      <td>-0.729870</td>\n",
       "      <td>1.732051</td>\n",
       "      <td>-0.801701</td>\n",
       "      <td>2.058354</td>\n",
       "    </tr>\n",
       "    <tr>\n",
       "      <th>168</th>\n",
       "      <td>-0.394006</td>\n",
       "      <td>1.315815</td>\n",
       "      <td>-0.574629</td>\n",
       "      <td>0.180957</td>\n",
       "      <td>0.414039</td>\n",
       "      <td>-0.403882</td>\n",
       "      <td>1.467599</td>\n",
       "      <td>-0.194871</td>\n",
       "      <td>1.370107</td>\n",
       "      <td>-0.577350</td>\n",
       "      <td>-0.801701</td>\n",
       "      <td>0.193227</td>\n",
       "    </tr>\n",
       "    <tr>\n",
       "      <th>200</th>\n",
       "      <td>-0.271154</td>\n",
       "      <td>0.046441</td>\n",
       "      <td>-0.574629</td>\n",
       "      <td>0.180957</td>\n",
       "      <td>0.414039</td>\n",
       "      <td>-0.403882</td>\n",
       "      <td>1.467599</td>\n",
       "      <td>-0.194871</td>\n",
       "      <td>1.370107</td>\n",
       "      <td>-0.577350</td>\n",
       "      <td>-0.801701</td>\n",
       "      <td>0.029620</td>\n",
       "    </tr>\n",
       "  </tbody>\n",
       "</table>\n",
       "</div>"
      ],
      "text/plain": [
       "         area  bedrooms  bathrooms   stories  mainroad  guestroom  basement  \\\n",
       "298  0.333652  0.046441  -0.574629 -0.960466  0.414039  -0.403882 -0.681385   \n",
       "372 -0.904311  0.046441  -0.574629  0.180957 -2.415229  -0.403882  1.467599   \n",
       "14   1.278661  0.046441   1.203469  0.180957  0.414039  -0.403882 -0.681385   \n",
       "168 -0.394006  1.315815  -0.574629  0.180957  0.414039  -0.403882  1.467599   \n",
       "200 -0.271154  0.046441  -0.574629  0.180957  0.414039  -0.403882  1.467599   \n",
       "\n",
       "     hotwaterheating  airconditioning  prefarea   parking     price  \n",
       "298         5.131601        -0.729870 -0.577350  1.525360 -0.297596  \n",
       "372        -0.194871        -0.729870 -0.577350 -0.801701 -0.559368  \n",
       "14         -0.194871        -0.729870  1.732051 -0.801701  2.058354  \n",
       "168        -0.194871         1.370107 -0.577350 -0.801701  0.193227  \n",
       "200        -0.194871         1.370107 -0.577350 -0.801701  0.029620  "
      ]
     },
     "execution_count": 76,
     "metadata": {},
     "output_type": "execute_result"
    }
   ],
   "source": [
    "################################ EVALUATION SET\n",
    "import warnings\n",
    "warnings.filterwarnings('ignore')\n",
    "# define standard scaler\n",
    "scaler = StandardScaler()\n",
    "Newtest[num_vars] = scaler.fit_transform(Newtest[num_vars])\n",
    "Newtest.head(5)"
   ]
  },
  {
   "cell_type": "code",
   "execution_count": 77,
   "id": "3e1d7069-5c8e-4fde-8cab-16b3ca2c3745",
   "metadata": {
    "tags": []
   },
   "outputs": [],
   "source": [
    "# Split new training set into I/O\n",
    "y_Newtest = Newtest.pop('price')\n",
    "x_Newtest = Newtest\n",
    "\n",
    "length = len(Newtest);\n",
    "# Create vector X_0 full of ones (will always be 1)\n",
    "x0 = np.ones((length, 1));\n",
    "x = np.hstack((x0, x_Newtest));\n",
    "y = y_Newtest.values\n",
    "# Create vector for parameters\n",
    "theta2 = np.zeros(12);"
   ]
  },
  {
   "cell_type": "code",
   "execution_count": 78,
   "id": "aa34240f-c12f-4467-9e85-f679a1e4a22c",
   "metadata": {
    "tags": []
   },
   "outputs": [
    {
     "name": "stdout",
     "output_type": "stream",
     "text": [
      "0.5\n"
     ]
    }
   ],
   "source": [
    "cost_test_2b_st = calc_cost(x, y, theta2)\n",
    "print(cost_test_2b_st)"
   ]
  },
  {
   "cell_type": "code",
   "execution_count": 79,
   "id": "4cad6273-c5c1-4901-a88d-535a58a7cf70",
   "metadata": {
    "tags": []
   },
   "outputs": [
    {
     "name": "stdout",
     "output_type": "stream",
     "text": [
      "Value of theta =  [-1.81179597e-16  3.22127031e-01 -6.99793381e-03  3.58260045e-01\n",
      "  1.29549969e-01  1.05980038e-01 -7.86873725e-03  1.27975937e-01\n",
      "  5.42615956e-02  2.12906970e-01  2.03795671e-01  1.46406102e-01]\n",
      "Cost history =  [0.48208573 0.46504603 0.4488375  ... 0.11384815 0.11384814 0.11384814]\n"
     ]
    }
   ],
   "source": [
    "# Define input parameters to function\n",
    "theta2 = [0., 0., 0., 0., 0., 0., 0., 0., 0., 0., 0., 0.];\n",
    "num_iter = 1500;\n",
    "alpha2 = 0.01;\n",
    "\n",
    "# Call grad_desc function\n",
    "theta2, cost_history_test2b_st = calc_grad_descent(x, y, theta2, alpha2, num_iter);\n",
    "print('Value of theta = ', theta2)\n",
    "print('Cost history = ', cost_history_test2b_st)"
   ]
  },
  {
   "cell_type": "code",
   "execution_count": 80,
   "id": "9bc3a8b9-b1cd-4d62-9b4a-33a1ab1cb6a4",
   "metadata": {
    "tags": []
   },
   "outputs": [
    {
     "data": {
      "image/png": "[encoded data removed]",
      "text/plain": [
       "<Figure size 720x432 with 1 Axes>"
      ]
     },
     "metadata": {
      "needs_background": "light"
     },
     "output_type": "display_data"
    }
   ],
   "source": [
    "# Plot Gradient Descent \n",
    "plot.plot(range(1, num_iter + 1), cost_history_train2b_st, color ='green', label = \"Training Loss\")\n",
    "plot.plot(range(1, num_iter + 1), cost_history_test2b_st, color ='blue', label = \"Evaluation Loss\")\n",
    "plot.rcParams[\"figure.figsize\"] = (10,6)\n",
    "plot.xlabel('Number of Iterations')\n",
    "plot.ylabel('Cost (J)')\n",
    "plot.title('Convergence of Gradient Descent for Training and Evaluation Set Problem 2b -- STANDARDIZATION')\n",
    "plot.legend()\n",
    "plot.show()"
   ]
  },
  {
   "cell_type": "code",
   "execution_count": 81,
   "id": "743b0d4d-74d1-42bb-915b-09abeb6a82f9",
   "metadata": {},
   "outputs": [],
   "source": [
    "####################################################################################################################\n",
    "####################################################################################################################\n",
    "\n",
    "# PROBLEM 3"
   ]
  },
  {
   "cell_type": "code",
   "execution_count": 82,
   "id": "9c07d782-fcb0-4c61-aebb-071d540291a5",
   "metadata": {
    "tags": []
   },
   "outputs": [],
   "source": [
    "########################################################################\n",
    "#          PART A"
   ]
  },
  {
   "cell_type": "code",
   "execution_count": 83,
   "id": "f1f2f82d-56f1-4462-bfad-3b12662e1899",
   "metadata": {
    "tags": []
   },
   "outputs": [
    {
     "data": {
      "text/html": [
       "<div>\n",
       "<style scoped>\n",
       "    .dataframe tbody tr th:only-of-type {\n",
       "        vertical-align: middle;\n",
       "    }\n",
       "\n",
       "    .dataframe tbody tr th {\n",
       "        vertical-align: top;\n",
       "    }\n",
       "\n",
       "    .dataframe thead th {\n",
       "        text-align: right;\n",
       "    }\n",
       "</style>\n",
       "<table border=\"1\" class=\"dataframe\">\n",
       "  <thead>\n",
       "    <tr style=\"text-align: right;\">\n",
       "      <th></th>\n",
       "      <th>price</th>\n",
       "      <th>area</th>\n",
       "      <th>bedrooms</th>\n",
       "      <th>bathrooms</th>\n",
       "      <th>stories</th>\n",
       "      <th>mainroad</th>\n",
       "      <th>guestroom</th>\n",
       "      <th>basement</th>\n",
       "      <th>hotwaterheating</th>\n",
       "      <th>airconditioning</th>\n",
       "      <th>parking</th>\n",
       "      <th>prefarea</th>\n",
       "      <th>furnishingstatus</th>\n",
       "    </tr>\n",
       "  </thead>\n",
       "  <tbody>\n",
       "    <tr>\n",
       "      <th>180</th>\n",
       "      <td>5215000</td>\n",
       "      <td>4500</td>\n",
       "      <td>4</td>\n",
       "      <td>2</td>\n",
       "      <td>1</td>\n",
       "      <td>0</td>\n",
       "      <td>0</td>\n",
       "      <td>1</td>\n",
       "      <td>0</td>\n",
       "      <td>1</td>\n",
       "      <td>2</td>\n",
       "      <td>0</td>\n",
       "      <td>semi-furnished</td>\n",
       "    </tr>\n",
       "    <tr>\n",
       "      <th>189</th>\n",
       "      <td>5040000</td>\n",
       "      <td>3540</td>\n",
       "      <td>2</td>\n",
       "      <td>1</td>\n",
       "      <td>1</td>\n",
       "      <td>0</td>\n",
       "      <td>1</td>\n",
       "      <td>1</td>\n",
       "      <td>0</td>\n",
       "      <td>0</td>\n",
       "      <td>0</td>\n",
       "      <td>0</td>\n",
       "      <td>semi-furnished</td>\n",
       "    </tr>\n",
       "    <tr>\n",
       "      <th>93</th>\n",
       "      <td>6300000</td>\n",
       "      <td>7200</td>\n",
       "      <td>3</td>\n",
       "      <td>2</td>\n",
       "      <td>1</td>\n",
       "      <td>1</td>\n",
       "      <td>0</td>\n",
       "      <td>1</td>\n",
       "      <td>0</td>\n",
       "      <td>1</td>\n",
       "      <td>3</td>\n",
       "      <td>0</td>\n",
       "      <td>semi-furnished</td>\n",
       "    </tr>\n",
       "    <tr>\n",
       "      <th>444</th>\n",
       "      <td>3220000</td>\n",
       "      <td>3120</td>\n",
       "      <td>3</td>\n",
       "      <td>1</td>\n",
       "      <td>2</td>\n",
       "      <td>0</td>\n",
       "      <td>0</td>\n",
       "      <td>0</td>\n",
       "      <td>0</td>\n",
       "      <td>0</td>\n",
       "      <td>0</td>\n",
       "      <td>0</td>\n",
       "      <td>furnished</td>\n",
       "    </tr>\n",
       "    <tr>\n",
       "      <th>81</th>\n",
       "      <td>6615000</td>\n",
       "      <td>4000</td>\n",
       "      <td>3</td>\n",
       "      <td>2</td>\n",
       "      <td>2</td>\n",
       "      <td>1</td>\n",
       "      <td>0</td>\n",
       "      <td>1</td>\n",
       "      <td>0</td>\n",
       "      <td>1</td>\n",
       "      <td>1</td>\n",
       "      <td>0</td>\n",
       "      <td>semi-furnished</td>\n",
       "    </tr>\n",
       "  </tbody>\n",
       "</table>\n",
       "</div>"
      ],
      "text/plain": [
       "       price  area  bedrooms  bathrooms  stories  mainroad  guestroom  \\\n",
       "180  5215000  4500         4          2        1         0          0   \n",
       "189  5040000  3540         2          1        1         0          1   \n",
       "93   6300000  7200         3          2        1         1          0   \n",
       "444  3220000  3120         3          1        2         0          0   \n",
       "81   6615000  4000         3          2        2         1          0   \n",
       "\n",
       "     basement  hotwaterheating  airconditioning  parking  prefarea  \\\n",
       "180         1                0                1        2         0   \n",
       "189         1                0                0        0         0   \n",
       "93          1                0                1        3         0   \n",
       "444         0                0                0        0         0   \n",
       "81          1                0                1        1         0   \n",
       "\n",
       "    furnishingstatus  \n",
       "180   semi-furnished  \n",
       "189   semi-furnished  \n",
       "93    semi-furnished  \n",
       "444        furnished  \n",
       "81    semi-furnished  "
      ]
     },
     "execution_count": 83,
     "metadata": {},
     "output_type": "execute_result"
    }
   ],
   "source": [
    "# Split dataset into 70% training and 30% evaluation\n",
    "df_train, df_test = train_test_split(housing, train_size = 0.7, test_size = 0.3, random_state = 1);\n",
    "df_train.head()"
   ]
  },
  {
   "cell_type": "code",
   "execution_count": 84,
   "id": "299b3d92-b7d7-4cc0-81f6-980c6e655c93",
   "metadata": {
    "tags": []
   },
   "outputs": [
    {
     "data": {
      "text/html": [
       "<div>\n",
       "<style scoped>\n",
       "    .dataframe tbody tr th:only-of-type {\n",
       "        vertical-align: middle;\n",
       "    }\n",
       "\n",
       "    .dataframe tbody tr th {\n",
       "        vertical-align: top;\n",
       "    }\n",
       "\n",
       "    .dataframe thead th {\n",
       "        text-align: right;\n",
       "    }\n",
       "</style>\n",
       "<table border=\"1\" class=\"dataframe\">\n",
       "  <thead>\n",
       "    <tr style=\"text-align: right;\">\n",
       "      <th></th>\n",
       "      <th>area</th>\n",
       "      <th>bedrooms</th>\n",
       "      <th>bathrooms</th>\n",
       "      <th>stories</th>\n",
       "      <th>parking</th>\n",
       "      <th>price</th>\n",
       "    </tr>\n",
       "  </thead>\n",
       "  <tbody>\n",
       "    <tr>\n",
       "      <th>180</th>\n",
       "      <td>4500</td>\n",
       "      <td>4</td>\n",
       "      <td>2</td>\n",
       "      <td>1</td>\n",
       "      <td>2</td>\n",
       "      <td>5215000</td>\n",
       "    </tr>\n",
       "    <tr>\n",
       "      <th>189</th>\n",
       "      <td>3540</td>\n",
       "      <td>2</td>\n",
       "      <td>1</td>\n",
       "      <td>1</td>\n",
       "      <td>0</td>\n",
       "      <td>5040000</td>\n",
       "    </tr>\n",
       "    <tr>\n",
       "      <th>93</th>\n",
       "      <td>7200</td>\n",
       "      <td>3</td>\n",
       "      <td>2</td>\n",
       "      <td>1</td>\n",
       "      <td>3</td>\n",
       "      <td>6300000</td>\n",
       "    </tr>\n",
       "    <tr>\n",
       "      <th>444</th>\n",
       "      <td>3120</td>\n",
       "      <td>3</td>\n",
       "      <td>1</td>\n",
       "      <td>2</td>\n",
       "      <td>0</td>\n",
       "      <td>3220000</td>\n",
       "    </tr>\n",
       "    <tr>\n",
       "      <th>81</th>\n",
       "      <td>4000</td>\n",
       "      <td>3</td>\n",
       "      <td>2</td>\n",
       "      <td>2</td>\n",
       "      <td>1</td>\n",
       "      <td>6615000</td>\n",
       "    </tr>\n",
       "  </tbody>\n",
       "</table>\n",
       "</div>"
      ],
      "text/plain": [
       "     area  bedrooms  bathrooms  stories  parking    price\n",
       "180  4500         4          2        1        2  5215000\n",
       "189  3540         2          1        1        0  5040000\n",
       "93   7200         3          2        1        3  6300000\n",
       "444  3120         3          1        2        0  3220000\n",
       "81   4000         3          2        2        1  6615000"
      ]
     },
     "execution_count": 84,
     "metadata": {},
     "output_type": "execute_result"
    }
   ],
   "source": [
    "num_vars = ['area', 'bedrooms', 'bathrooms', 'stories', 'parking','price']\n",
    "Newtrain = df_train[num_vars]\n",
    "Newtest = df_test[num_vars]\n",
    "Newtrain.head()"
   ]
  },
  {
   "cell_type": "code",
   "execution_count": 85,
   "id": "6ab78fc8-f603-4a5a-9820-e2005643f64e",
   "metadata": {
    "tags": []
   },
   "outputs": [
    {
     "data": {
      "text/html": [
       "<div>\n",
       "<style scoped>\n",
       "    .dataframe tbody tr th:only-of-type {\n",
       "        vertical-align: middle;\n",
       "    }\n",
       "\n",
       "    .dataframe tbody tr th {\n",
       "        vertical-align: top;\n",
       "    }\n",
       "\n",
       "    .dataframe thead th {\n",
       "        text-align: right;\n",
       "    }\n",
       "</style>\n",
       "<table border=\"1\" class=\"dataframe\">\n",
       "  <thead>\n",
       "    <tr style=\"text-align: right;\">\n",
       "      <th></th>\n",
       "      <th>area</th>\n",
       "      <th>bedrooms</th>\n",
       "      <th>bathrooms</th>\n",
       "      <th>stories</th>\n",
       "      <th>parking</th>\n",
       "      <th>price</th>\n",
       "    </tr>\n",
       "  </thead>\n",
       "  <tbody>\n",
       "    <tr>\n",
       "      <th>180</th>\n",
       "      <td>0.193103</td>\n",
       "      <td>0.6</td>\n",
       "      <td>0.333333</td>\n",
       "      <td>0.000000</td>\n",
       "      <td>0.666667</td>\n",
       "      <td>0.330000</td>\n",
       "    </tr>\n",
       "    <tr>\n",
       "      <th>189</th>\n",
       "      <td>0.126897</td>\n",
       "      <td>0.2</td>\n",
       "      <td>0.000000</td>\n",
       "      <td>0.000000</td>\n",
       "      <td>0.000000</td>\n",
       "      <td>0.313333</td>\n",
       "    </tr>\n",
       "    <tr>\n",
       "      <th>93</th>\n",
       "      <td>0.379310</td>\n",
       "      <td>0.4</td>\n",
       "      <td>0.333333</td>\n",
       "      <td>0.000000</td>\n",
       "      <td>1.000000</td>\n",
       "      <td>0.433333</td>\n",
       "    </tr>\n",
       "    <tr>\n",
       "      <th>444</th>\n",
       "      <td>0.097931</td>\n",
       "      <td>0.4</td>\n",
       "      <td>0.000000</td>\n",
       "      <td>0.333333</td>\n",
       "      <td>0.000000</td>\n",
       "      <td>0.140000</td>\n",
       "    </tr>\n",
       "    <tr>\n",
       "      <th>81</th>\n",
       "      <td>0.158621</td>\n",
       "      <td>0.4</td>\n",
       "      <td>0.333333</td>\n",
       "      <td>0.333333</td>\n",
       "      <td>0.333333</td>\n",
       "      <td>0.463333</td>\n",
       "    </tr>\n",
       "  </tbody>\n",
       "</table>\n",
       "</div>"
      ],
      "text/plain": [
       "         area  bedrooms  bathrooms   stories   parking     price\n",
       "180  0.193103       0.6   0.333333  0.000000  0.666667  0.330000\n",
       "189  0.126897       0.2   0.000000  0.000000  0.000000  0.313333\n",
       "93   0.379310       0.4   0.333333  0.000000  1.000000  0.433333\n",
       "444  0.097931       0.4   0.000000  0.333333  0.000000  0.140000\n",
       "81   0.158621       0.4   0.333333  0.333333  0.333333  0.463333"
      ]
     },
     "execution_count": 85,
     "metadata": {},
     "output_type": "execute_result"
    }
   ],
   "source": [
    "import warnings\n",
    "warnings.filterwarnings('ignore')\n",
    "# define standard scaler\n",
    "#scaler = StandardScaler()\n",
    "scaler = MinMaxScaler()\n",
    "Newtrain[num_vars] = scaler.fit_transform(Newtrain[num_vars])\n",
    "Newtrain.head(5)"
   ]
  },
  {
   "cell_type": "code",
   "execution_count": 86,
   "id": "a8f5682f-4362-4130-b840-b813e8a75f78",
   "metadata": {
    "tags": []
   },
   "outputs": [],
   "source": [
    "# Split new training set into I/O\n",
    "y_Newtrain = Newtrain.pop('price')\n",
    "x_Newtrain = Newtrain\n",
    "\n",
    "length = len(Newtrain);\n",
    "# Create vector X_0 full of ones (will always be 1)\n",
    "x0 = np.ones((length, 1));\n",
    "x = np.hstack((x0, x_Newtrain));\n",
    "y = y_Newtrain.values\n",
    "# Create vector for parameters\n",
    "theta3a = np.zeros(6);"
   ]
  },
  {
   "cell_type": "code",
   "execution_count": 87,
   "id": "1e342be0-c4d0-430e-af20-a755388ead8e",
   "metadata": {
    "tags": []
   },
   "outputs": [
    {
     "name": "stdout",
     "output_type": "stream",
     "text": [
      "0.05621225129273842\n"
     ]
    }
   ],
   "source": [
    "cost_train_3a = calc_cost(x, y, theta3a)\n",
    "print(cost_train_3a)"
   ]
  },
  {
   "cell_type": "code",
   "execution_count": 88,
   "id": "e863e712-31e6-4ffd-a215-83d26b2fff81",
   "metadata": {
    "tags": []
   },
   "outputs": [
    {
     "name": "stdout",
     "output_type": "stream",
     "text": [
      "Value of theta =  [ 0.98979907 -0.44470106 -1.26976052  0.39864248  0.01194007  0.01308518]\n",
      "Cost history =  [0.28764221 0.22679655 0.22217092 ... 0.05363621 0.05363564 0.05363508]\n"
     ]
    }
   ],
   "source": [
    "# Define input parameters to function\n",
    "theta3a = [0., 0., 0., 0., 0., 0.];\n",
    "num_iter = 1500;\n",
    "lamda = 5;\n",
    "alpha3 = 0.07;\n",
    "\n",
    "# Call grad_desc function\n",
    "theta3a, cost_history_train3a = calc_grad_descent_reg(x, y, theta3a, alpha3, lamda, num_iter);\n",
    "print('Value of theta = ', theta3a)\n",
    "print('Cost history = ', cost_history_train3a)"
   ]
  },
  {
   "cell_type": "code",
   "execution_count": 89,
   "id": "c7061e24-ee4c-47f0-bc6f-7fb2073b7893",
   "metadata": {
    "tags": []
   },
   "outputs": [
    {
     "data": {
      "text/html": [
       "<div>\n",
       "<style scoped>\n",
       "    .dataframe tbody tr th:only-of-type {\n",
       "        vertical-align: middle;\n",
       "    }\n",
       "\n",
       "    .dataframe tbody tr th {\n",
       "        vertical-align: top;\n",
       "    }\n",
       "\n",
       "    .dataframe thead th {\n",
       "        text-align: right;\n",
       "    }\n",
       "</style>\n",
       "<table border=\"1\" class=\"dataframe\">\n",
       "  <thead>\n",
       "    <tr style=\"text-align: right;\">\n",
       "      <th></th>\n",
       "      <th>area</th>\n",
       "      <th>bedrooms</th>\n",
       "      <th>bathrooms</th>\n",
       "      <th>stories</th>\n",
       "      <th>parking</th>\n",
       "      <th>price</th>\n",
       "    </tr>\n",
       "  </thead>\n",
       "  <tbody>\n",
       "    <tr>\n",
       "      <th>62</th>\n",
       "      <td>0.397403</td>\n",
       "      <td>0.666667</td>\n",
       "      <td>0.5</td>\n",
       "      <td>0.333333</td>\n",
       "      <td>0.333333</td>\n",
       "      <td>0.460606</td>\n",
       "    </tr>\n",
       "    <tr>\n",
       "      <th>247</th>\n",
       "      <td>0.584416</td>\n",
       "      <td>0.666667</td>\n",
       "      <td>0.0</td>\n",
       "      <td>1.000000</td>\n",
       "      <td>1.000000</td>\n",
       "      <td>0.242424</td>\n",
       "    </tr>\n",
       "    <tr>\n",
       "      <th>142</th>\n",
       "      <td>0.766234</td>\n",
       "      <td>0.666667</td>\n",
       "      <td>0.5</td>\n",
       "      <td>0.333333</td>\n",
       "      <td>0.333333</td>\n",
       "      <td>0.333333</td>\n",
       "    </tr>\n",
       "    <tr>\n",
       "      <th>107</th>\n",
       "      <td>0.412987</td>\n",
       "      <td>0.333333</td>\n",
       "      <td>0.0</td>\n",
       "      <td>0.666667</td>\n",
       "      <td>0.000000</td>\n",
       "      <td>0.378788</td>\n",
       "    </tr>\n",
       "    <tr>\n",
       "      <th>483</th>\n",
       "      <td>0.429870</td>\n",
       "      <td>0.333333</td>\n",
       "      <td>0.0</td>\n",
       "      <td>0.333333</td>\n",
       "      <td>0.000000</td>\n",
       "      <td>0.103030</td>\n",
       "    </tr>\n",
       "  </tbody>\n",
       "</table>\n",
       "</div>"
      ],
      "text/plain": [
       "         area  bedrooms  bathrooms   stories   parking     price\n",
       "62   0.397403  0.666667        0.5  0.333333  0.333333  0.460606\n",
       "247  0.584416  0.666667        0.0  1.000000  1.000000  0.242424\n",
       "142  0.766234  0.666667        0.5  0.333333  0.333333  0.333333\n",
       "107  0.412987  0.333333        0.0  0.666667  0.000000  0.378788\n",
       "483  0.429870  0.333333        0.0  0.333333  0.000000  0.103030"
      ]
     },
     "execution_count": 89,
     "metadata": {},
     "output_type": "execute_result"
    }
   ],
   "source": [
    "####################### EVALUATION SET\n",
    "import warnings\n",
    "warnings.filterwarnings('ignore')\n",
    "# define standard scaler\n",
    "#scaler = StandardScaler()\n",
    "scaler = MinMaxScaler()\n",
    "Newtest[num_vars] = scaler.fit_transform(Newtest[num_vars])\n",
    "Newtest.head(5)"
   ]
  },
  {
   "cell_type": "code",
   "execution_count": 90,
   "id": "cde689b2-7a17-45be-a4b7-3f882796a489",
   "metadata": {
    "tags": []
   },
   "outputs": [],
   "source": [
    "# Split new training set into I/O\n",
    "y_Newtest = Newtest.pop('price')\n",
    "x_Newtest = Newtest\n",
    "\n",
    "length = len(Newtest);\n",
    "# Create vector X_0 full of ones (will always be 1)\n",
    "x0 = np.ones((length, 1));\n",
    "x = np.hstack((x0, x_Newtest));\n",
    "y = y_Newtest.values\n",
    "# Create vector for parameters\n",
    "theta3a = np.zeros(6);"
   ]
  },
  {
   "cell_type": "code",
   "execution_count": 91,
   "id": "241d4879-be03-4309-b181-9e8a8466282c",
   "metadata": {
    "tags": []
   },
   "outputs": [
    {
     "name": "stdout",
     "output_type": "stream",
     "text": [
      "0.048922318808931886\n"
     ]
    }
   ],
   "source": [
    "cost_test_3a = calc_cost(x, y, theta3a)\n",
    "print(cost_test_3a)"
   ]
  },
  {
   "cell_type": "code",
   "execution_count": 92,
   "id": "61a600cf-deb4-4591-957e-0fd8074d5436",
   "metadata": {
    "tags": []
   },
   "outputs": [
    {
     "name": "stdout",
     "output_type": "stream",
     "text": [
      "Value of theta =  [ 0.97167513 -0.6357086  -0.54448931  0.07894835 -0.20884903 -0.21857041]\n",
      "Cost history =  [0.31042626 0.23122347 0.22810401 ... 0.10403186 0.10403186 0.10403186]\n"
     ]
    }
   ],
   "source": [
    "# Define input parameters to function\n",
    "theta3a = [0., 0., 0., 0., 0., 0.];\n",
    "num_iter = 1500;\n",
    "lamda = 8;\n",
    "alpha3 = 0.09;\n",
    "\n",
    "# Call grad_desc function\n",
    "theta3a, cost_history_test3a = calc_grad_descent_reg(x, y, theta3a, alpha3, lamda, num_iter);\n",
    "print('Value of theta = ', theta3a)\n",
    "print('Cost history = ', cost_history_test3a)"
   ]
  },
  {
   "cell_type": "code",
   "execution_count": 93,
   "id": "eee09e03-3186-4fde-b35e-ea5ef4a40b67",
   "metadata": {
    "tags": []
   },
   "outputs": [
    {
     "data": {
      "image/png": "[encoded data removed]",
      "text/plain": [
       "<Figure size 720x432 with 1 Axes>"
      ]
     },
     "metadata": {
      "needs_background": "light"
     },
     "output_type": "display_data"
    }
   ],
   "source": [
    "# Plot Gradient Descent \n",
    "plot.plot(range(1, num_iter + 1), cost_history_train3a, color ='green', label = \"Training Loss\")\n",
    "plot.plot(range(1, num_iter + 1), cost_history_test3a, color ='blue', label = \"Evaluation Loss\")\n",
    "plot.rcParams[\"figure.figsize\"] = (10,6)\n",
    "plot.xlabel('Number of Iterations')\n",
    "plot.ylabel('Cost (J)')\n",
    "plot.title('Convergence of Gradient Descent for Training and Evaluation Set Problem 3a')\n",
    "plot.legend()\n",
    "plot.show()"
   ]
  },
  {
   "cell_type": "code",
   "execution_count": 94,
   "id": "72bc4e02-9e99-4304-9041-fbf9c6f0c864",
   "metadata": {
    "tags": []
   },
   "outputs": [],
   "source": [
    "########################################################################\n",
    "#          PART B"
   ]
  },
  {
   "cell_type": "code",
   "execution_count": 95,
   "id": "4c15f6fb-6c65-43aa-802b-0beccf7d987c",
   "metadata": {
    "tags": []
   },
   "outputs": [
    {
     "data": {
      "text/html": [
       "<div>\n",
       "<style scoped>\n",
       "    .dataframe tbody tr th:only-of-type {\n",
       "        vertical-align: middle;\n",
       "    }\n",
       "\n",
       "    .dataframe tbody tr th {\n",
       "        vertical-align: top;\n",
       "    }\n",
       "\n",
       "    .dataframe thead th {\n",
       "        text-align: right;\n",
       "    }\n",
       "</style>\n",
       "<table border=\"1\" class=\"dataframe\">\n",
       "  <thead>\n",
       "    <tr style=\"text-align: right;\">\n",
       "      <th></th>\n",
       "      <th>price</th>\n",
       "      <th>area</th>\n",
       "      <th>bedrooms</th>\n",
       "      <th>bathrooms</th>\n",
       "      <th>stories</th>\n",
       "      <th>mainroad</th>\n",
       "      <th>guestroom</th>\n",
       "      <th>basement</th>\n",
       "      <th>hotwaterheating</th>\n",
       "      <th>airconditioning</th>\n",
       "      <th>parking</th>\n",
       "      <th>prefarea</th>\n",
       "      <th>furnishingstatus</th>\n",
       "    </tr>\n",
       "  </thead>\n",
       "  <tbody>\n",
       "    <tr>\n",
       "      <th>286</th>\n",
       "      <td>4235000</td>\n",
       "      <td>2787</td>\n",
       "      <td>3</td>\n",
       "      <td>1</td>\n",
       "      <td>1</td>\n",
       "      <td>1</td>\n",
       "      <td>0</td>\n",
       "      <td>1</td>\n",
       "      <td>0</td>\n",
       "      <td>0</td>\n",
       "      <td>0</td>\n",
       "      <td>1</td>\n",
       "      <td>furnished</td>\n",
       "    </tr>\n",
       "    <tr>\n",
       "      <th>477</th>\n",
       "      <td>2940000</td>\n",
       "      <td>4960</td>\n",
       "      <td>2</td>\n",
       "      <td>1</td>\n",
       "      <td>1</td>\n",
       "      <td>1</td>\n",
       "      <td>0</td>\n",
       "      <td>0</td>\n",
       "      <td>0</td>\n",
       "      <td>0</td>\n",
       "      <td>0</td>\n",
       "      <td>0</td>\n",
       "      <td>unfurnished</td>\n",
       "    </tr>\n",
       "    <tr>\n",
       "      <th>33</th>\n",
       "      <td>8190000</td>\n",
       "      <td>5960</td>\n",
       "      <td>3</td>\n",
       "      <td>3</td>\n",
       "      <td>2</td>\n",
       "      <td>1</td>\n",
       "      <td>1</td>\n",
       "      <td>1</td>\n",
       "      <td>0</td>\n",
       "      <td>0</td>\n",
       "      <td>1</td>\n",
       "      <td>0</td>\n",
       "      <td>unfurnished</td>\n",
       "    </tr>\n",
       "    <tr>\n",
       "      <th>475</th>\n",
       "      <td>2961000</td>\n",
       "      <td>3000</td>\n",
       "      <td>2</td>\n",
       "      <td>1</td>\n",
       "      <td>2</td>\n",
       "      <td>1</td>\n",
       "      <td>0</td>\n",
       "      <td>0</td>\n",
       "      <td>0</td>\n",
       "      <td>0</td>\n",
       "      <td>0</td>\n",
       "      <td>0</td>\n",
       "      <td>semi-furnished</td>\n",
       "    </tr>\n",
       "    <tr>\n",
       "      <th>104</th>\n",
       "      <td>6195000</td>\n",
       "      <td>5500</td>\n",
       "      <td>3</td>\n",
       "      <td>2</td>\n",
       "      <td>1</td>\n",
       "      <td>1</td>\n",
       "      <td>1</td>\n",
       "      <td>1</td>\n",
       "      <td>0</td>\n",
       "      <td>0</td>\n",
       "      <td>2</td>\n",
       "      <td>1</td>\n",
       "      <td>furnished</td>\n",
       "    </tr>\n",
       "  </tbody>\n",
       "</table>\n",
       "</div>"
      ],
      "text/plain": [
       "       price  area  bedrooms  bathrooms  stories  mainroad  guestroom  \\\n",
       "286  4235000  2787         3          1        1         1          0   \n",
       "477  2940000  4960         2          1        1         1          0   \n",
       "33   8190000  5960         3          3        2         1          1   \n",
       "475  2961000  3000         2          1        2         1          0   \n",
       "104  6195000  5500         3          2        1         1          1   \n",
       "\n",
       "     basement  hotwaterheating  airconditioning  parking  prefarea  \\\n",
       "286         1                0                0        0         1   \n",
       "477         0                0                0        0         0   \n",
       "33          1                0                0        1         0   \n",
       "475         0                0                0        0         0   \n",
       "104         1                0                0        2         1   \n",
       "\n",
       "    furnishingstatus  \n",
       "286        furnished  \n",
       "477      unfurnished  \n",
       "33       unfurnished  \n",
       "475   semi-furnished  \n",
       "104        furnished  "
      ]
     },
     "execution_count": 95,
     "metadata": {},
     "output_type": "execute_result"
    }
   ],
   "source": [
    "# Split dataset into 70% training and 30% evaluation\n",
    "df_train, df_test = train_test_split(housing, train_size = 0.7, test_size = 0.3, random_state = 4);\n",
    "df_train.head()"
   ]
  },
  {
   "cell_type": "code",
   "execution_count": 96,
   "id": "18a2d3cb-1f28-40e3-99c2-3289b8b20ca6",
   "metadata": {
    "tags": []
   },
   "outputs": [
    {
     "data": {
      "text/html": [
       "<div>\n",
       "<style scoped>\n",
       "    .dataframe tbody tr th:only-of-type {\n",
       "        vertical-align: middle;\n",
       "    }\n",
       "\n",
       "    .dataframe tbody tr th {\n",
       "        vertical-align: top;\n",
       "    }\n",
       "\n",
       "    .dataframe thead th {\n",
       "        text-align: right;\n",
       "    }\n",
       "</style>\n",
       "<table border=\"1\" class=\"dataframe\">\n",
       "  <thead>\n",
       "    <tr style=\"text-align: right;\">\n",
       "      <th></th>\n",
       "      <th>area</th>\n",
       "      <th>bedrooms</th>\n",
       "      <th>bathrooms</th>\n",
       "      <th>stories</th>\n",
       "      <th>mainroad</th>\n",
       "      <th>guestroom</th>\n",
       "      <th>basement</th>\n",
       "      <th>hotwaterheating</th>\n",
       "      <th>airconditioning</th>\n",
       "      <th>prefarea</th>\n",
       "      <th>parking</th>\n",
       "      <th>price</th>\n",
       "    </tr>\n",
       "  </thead>\n",
       "  <tbody>\n",
       "    <tr>\n",
       "      <th>286</th>\n",
       "      <td>2787</td>\n",
       "      <td>3</td>\n",
       "      <td>1</td>\n",
       "      <td>1</td>\n",
       "      <td>1</td>\n",
       "      <td>0</td>\n",
       "      <td>1</td>\n",
       "      <td>0</td>\n",
       "      <td>0</td>\n",
       "      <td>1</td>\n",
       "      <td>0</td>\n",
       "      <td>4235000</td>\n",
       "    </tr>\n",
       "    <tr>\n",
       "      <th>477</th>\n",
       "      <td>4960</td>\n",
       "      <td>2</td>\n",
       "      <td>1</td>\n",
       "      <td>1</td>\n",
       "      <td>1</td>\n",
       "      <td>0</td>\n",
       "      <td>0</td>\n",
       "      <td>0</td>\n",
       "      <td>0</td>\n",
       "      <td>0</td>\n",
       "      <td>0</td>\n",
       "      <td>2940000</td>\n",
       "    </tr>\n",
       "    <tr>\n",
       "      <th>33</th>\n",
       "      <td>5960</td>\n",
       "      <td>3</td>\n",
       "      <td>3</td>\n",
       "      <td>2</td>\n",
       "      <td>1</td>\n",
       "      <td>1</td>\n",
       "      <td>1</td>\n",
       "      <td>0</td>\n",
       "      <td>0</td>\n",
       "      <td>0</td>\n",
       "      <td>1</td>\n",
       "      <td>8190000</td>\n",
       "    </tr>\n",
       "    <tr>\n",
       "      <th>475</th>\n",
       "      <td>3000</td>\n",
       "      <td>2</td>\n",
       "      <td>1</td>\n",
       "      <td>2</td>\n",
       "      <td>1</td>\n",
       "      <td>0</td>\n",
       "      <td>0</td>\n",
       "      <td>0</td>\n",
       "      <td>0</td>\n",
       "      <td>0</td>\n",
       "      <td>0</td>\n",
       "      <td>2961000</td>\n",
       "    </tr>\n",
       "    <tr>\n",
       "      <th>104</th>\n",
       "      <td>5500</td>\n",
       "      <td>3</td>\n",
       "      <td>2</td>\n",
       "      <td>1</td>\n",
       "      <td>1</td>\n",
       "      <td>1</td>\n",
       "      <td>1</td>\n",
       "      <td>0</td>\n",
       "      <td>0</td>\n",
       "      <td>1</td>\n",
       "      <td>2</td>\n",
       "      <td>6195000</td>\n",
       "    </tr>\n",
       "  </tbody>\n",
       "</table>\n",
       "</div>"
      ],
      "text/plain": [
       "     area  bedrooms  bathrooms  stories  mainroad  guestroom  basement  \\\n",
       "286  2787         3          1        1         1          0         1   \n",
       "477  4960         2          1        1         1          0         0   \n",
       "33   5960         3          3        2         1          1         1   \n",
       "475  3000         2          1        2         1          0         0   \n",
       "104  5500         3          2        1         1          1         1   \n",
       "\n",
       "     hotwaterheating  airconditioning  prefarea  parking    price  \n",
       "286                0                0         1        0  4235000  \n",
       "477                0                0         0        0  2940000  \n",
       "33                 0                0         0        1  8190000  \n",
       "475                0                0         0        0  2961000  \n",
       "104                0                0         1        2  6195000  "
      ]
     },
     "execution_count": 96,
     "metadata": {},
     "output_type": "execute_result"
    }
   ],
   "source": [
    "num_vars = ['area', 'bedrooms', 'bathrooms', 'stories', 'mainroad', 'guestroom', 'basement', 'hotwaterheating', 'airconditioning', 'prefarea', 'parking','price']\n",
    "Newtrain = df_train[num_vars]\n",
    "Newtest = df_test[num_vars]\n",
    "Newtrain.head()"
   ]
  },
  {
   "cell_type": "code",
   "execution_count": 97,
   "id": "067721b4-e6ed-45f0-b5a9-659366e5f015",
   "metadata": {
    "tags": []
   },
   "outputs": [
    {
     "data": {
      "text/html": [
       "<div>\n",
       "<style scoped>\n",
       "    .dataframe tbody tr th:only-of-type {\n",
       "        vertical-align: middle;\n",
       "    }\n",
       "\n",
       "    .dataframe tbody tr th {\n",
       "        vertical-align: top;\n",
       "    }\n",
       "\n",
       "    .dataframe thead th {\n",
       "        text-align: right;\n",
       "    }\n",
       "</style>\n",
       "<table border=\"1\" class=\"dataframe\">\n",
       "  <thead>\n",
       "    <tr style=\"text-align: right;\">\n",
       "      <th></th>\n",
       "      <th>area</th>\n",
       "      <th>bedrooms</th>\n",
       "      <th>bathrooms</th>\n",
       "      <th>stories</th>\n",
       "      <th>mainroad</th>\n",
       "      <th>guestroom</th>\n",
       "      <th>basement</th>\n",
       "      <th>hotwaterheating</th>\n",
       "      <th>airconditioning</th>\n",
       "      <th>prefarea</th>\n",
       "      <th>parking</th>\n",
       "      <th>price</th>\n",
       "    </tr>\n",
       "  </thead>\n",
       "  <tbody>\n",
       "    <tr>\n",
       "      <th>286</th>\n",
       "      <td>0.066207</td>\n",
       "      <td>0.4</td>\n",
       "      <td>0.000000</td>\n",
       "      <td>0.000000</td>\n",
       "      <td>1.0</td>\n",
       "      <td>0.0</td>\n",
       "      <td>1.0</td>\n",
       "      <td>0.0</td>\n",
       "      <td>0.0</td>\n",
       "      <td>1.0</td>\n",
       "      <td>0.000000</td>\n",
       "      <td>0.215152</td>\n",
       "    </tr>\n",
       "    <tr>\n",
       "      <th>477</th>\n",
       "      <td>0.217488</td>\n",
       "      <td>0.2</td>\n",
       "      <td>0.000000</td>\n",
       "      <td>0.000000</td>\n",
       "      <td>1.0</td>\n",
       "      <td>0.0</td>\n",
       "      <td>0.0</td>\n",
       "      <td>0.0</td>\n",
       "      <td>0.0</td>\n",
       "      <td>0.0</td>\n",
       "      <td>0.000000</td>\n",
       "      <td>0.103030</td>\n",
       "    </tr>\n",
       "    <tr>\n",
       "      <th>33</th>\n",
       "      <td>0.287107</td>\n",
       "      <td>0.4</td>\n",
       "      <td>0.666667</td>\n",
       "      <td>0.333333</td>\n",
       "      <td>1.0</td>\n",
       "      <td>1.0</td>\n",
       "      <td>1.0</td>\n",
       "      <td>0.0</td>\n",
       "      <td>0.0</td>\n",
       "      <td>0.0</td>\n",
       "      <td>0.333333</td>\n",
       "      <td>0.557576</td>\n",
       "    </tr>\n",
       "    <tr>\n",
       "      <th>475</th>\n",
       "      <td>0.081036</td>\n",
       "      <td>0.2</td>\n",
       "      <td>0.000000</td>\n",
       "      <td>0.333333</td>\n",
       "      <td>1.0</td>\n",
       "      <td>0.0</td>\n",
       "      <td>0.0</td>\n",
       "      <td>0.0</td>\n",
       "      <td>0.0</td>\n",
       "      <td>0.0</td>\n",
       "      <td>0.000000</td>\n",
       "      <td>0.104848</td>\n",
       "    </tr>\n",
       "    <tr>\n",
       "      <th>104</th>\n",
       "      <td>0.255082</td>\n",
       "      <td>0.4</td>\n",
       "      <td>0.333333</td>\n",
       "      <td>0.000000</td>\n",
       "      <td>1.0</td>\n",
       "      <td>1.0</td>\n",
       "      <td>1.0</td>\n",
       "      <td>0.0</td>\n",
       "      <td>0.0</td>\n",
       "      <td>1.0</td>\n",
       "      <td>0.666667</td>\n",
       "      <td>0.384848</td>\n",
       "    </tr>\n",
       "  </tbody>\n",
       "</table>\n",
       "</div>"
      ],
      "text/plain": [
       "         area  bedrooms  bathrooms   stories  mainroad  guestroom  basement  \\\n",
       "286  0.066207       0.4   0.000000  0.000000       1.0        0.0       1.0   \n",
       "477  0.217488       0.2   0.000000  0.000000       1.0        0.0       0.0   \n",
       "33   0.287107       0.4   0.666667  0.333333       1.0        1.0       1.0   \n",
       "475  0.081036       0.2   0.000000  0.333333       1.0        0.0       0.0   \n",
       "104  0.255082       0.4   0.333333  0.000000       1.0        1.0       1.0   \n",
       "\n",
       "     hotwaterheating  airconditioning  prefarea   parking     price  \n",
       "286              0.0              0.0       1.0  0.000000  0.215152  \n",
       "477              0.0              0.0       0.0  0.000000  0.103030  \n",
       "33               0.0              0.0       0.0  0.333333  0.557576  \n",
       "475              0.0              0.0       0.0  0.000000  0.104848  \n",
       "104              0.0              0.0       1.0  0.666667  0.384848  "
      ]
     },
     "execution_count": 97,
     "metadata": {},
     "output_type": "execute_result"
    }
   ],
   "source": [
    "import warnings\n",
    "warnings.filterwarnings('ignore')\n",
    "# define standard scaler\n",
    "#scaler = StandardScaler()\n",
    "scaler = MinMaxScaler()\n",
    "Newtrain[num_vars] = scaler.fit_transform(Newtrain[num_vars])\n",
    "Newtrain.head(5)"
   ]
  },
  {
   "cell_type": "code",
   "execution_count": 98,
   "id": "757e4523-2d05-4b0e-8fa5-fe094827b917",
   "metadata": {
    "tags": []
   },
   "outputs": [],
   "source": [
    "# Split new training set into I/O\n",
    "y_Newtrain = Newtrain.pop('price')\n",
    "x_Newtrain = Newtrain\n",
    "\n",
    "length = len(Newtrain);\n",
    "# Create vector X_0 full of ones (will always be 1)\n",
    "x0 = np.ones((length, 1));\n",
    "x = np.hstack((x0, x_Newtrain));\n",
    "y = y_Newtrain.values\n",
    "# Create vector for parameters\n",
    "theta3b = np.zeros(12);"
   ]
  },
  {
   "cell_type": "code",
   "execution_count": 99,
   "id": "0c27fbc2-6b56-48d7-813b-ece112d447a7",
   "metadata": {
    "tags": []
   },
   "outputs": [
    {
     "name": "stdout",
     "output_type": "stream",
     "text": [
      "0.048569050727460726\n"
     ]
    }
   ],
   "source": [
    "cost_train_3b = calc_cost(x, y, theta3b)\n",
    "print(cost_train_3b)"
   ]
  },
  {
   "cell_type": "code",
   "execution_count": 100,
   "id": "eee1a0b2-975e-4a1b-86d3-0009971762cc",
   "metadata": {
    "tags": []
   },
   "outputs": [
    {
     "name": "stdout",
     "output_type": "stream",
     "text": [
      "Value of theta =  [ 0.99890618 -0.10384305 -0.45080542  0.08665753  0.01986321 -0.55025101\n",
      "  0.0512906  -0.06022658 -0.01534853  0.03480537  0.07315606  0.05353671]\n",
      "Cost history =  [0.2887082  0.27445599 0.26808216 ... 0.04619757 0.04619368 0.04618979]\n"
     ]
    }
   ],
   "source": [
    "# Define input parameters to function\n",
    "theta3b = [0., 0., 0., 0., 0., 0., 0., 0., 0., 0., 0., 0.];\n",
    "num_iter = 1500;\n",
    "lamda = 5;\n",
    "alpha3 = 0.01;\n",
    "\n",
    "# Call grad_desc function\n",
    "theta3b, cost_history_train3b = calc_grad_descent_reg(x, y, theta3b, alpha3, lamda, num_iter);\n",
    "print('Value of theta = ', theta3b)\n",
    "print('Cost history = ', cost_history_train3b)"
   ]
  },
  {
   "cell_type": "code",
   "execution_count": 101,
   "id": "4dc5a211-fa91-4bda-9477-74bd0dfee6ea",
   "metadata": {
    "tags": []
   },
   "outputs": [
    {
     "data": {
      "text/html": [
       "<div>\n",
       "<style scoped>\n",
       "    .dataframe tbody tr th:only-of-type {\n",
       "        vertical-align: middle;\n",
       "    }\n",
       "\n",
       "    .dataframe tbody tr th {\n",
       "        vertical-align: top;\n",
       "    }\n",
       "\n",
       "    .dataframe thead th {\n",
       "        text-align: right;\n",
       "    }\n",
       "</style>\n",
       "<table border=\"1\" class=\"dataframe\">\n",
       "  <thead>\n",
       "    <tr style=\"text-align: right;\">\n",
       "      <th></th>\n",
       "      <th>area</th>\n",
       "      <th>bedrooms</th>\n",
       "      <th>bathrooms</th>\n",
       "      <th>stories</th>\n",
       "      <th>mainroad</th>\n",
       "      <th>guestroom</th>\n",
       "      <th>basement</th>\n",
       "      <th>hotwaterheating</th>\n",
       "      <th>airconditioning</th>\n",
       "      <th>prefarea</th>\n",
       "      <th>parking</th>\n",
       "      <th>price</th>\n",
       "    </tr>\n",
       "  </thead>\n",
       "  <tbody>\n",
       "    <tr>\n",
       "      <th>489</th>\n",
       "      <td>0.142857</td>\n",
       "      <td>0.50</td>\n",
       "      <td>0.0</td>\n",
       "      <td>0.333333</td>\n",
       "      <td>0.0</td>\n",
       "      <td>0.0</td>\n",
       "      <td>0.0</td>\n",
       "      <td>0.0</td>\n",
       "      <td>0.0</td>\n",
       "      <td>0.0</td>\n",
       "      <td>0.333333</td>\n",
       "      <td>0.103679</td>\n",
       "    </tr>\n",
       "    <tr>\n",
       "      <th>302</th>\n",
       "      <td>0.042857</td>\n",
       "      <td>0.50</td>\n",
       "      <td>0.0</td>\n",
       "      <td>0.666667</td>\n",
       "      <td>1.0</td>\n",
       "      <td>0.0</td>\n",
       "      <td>0.0</td>\n",
       "      <td>0.0</td>\n",
       "      <td>0.0</td>\n",
       "      <td>1.0</td>\n",
       "      <td>0.333333</td>\n",
       "      <td>0.234114</td>\n",
       "    </tr>\n",
       "    <tr>\n",
       "      <th>66</th>\n",
       "      <td>1.000000</td>\n",
       "      <td>0.25</td>\n",
       "      <td>0.0</td>\n",
       "      <td>0.000000</td>\n",
       "      <td>1.0</td>\n",
       "      <td>0.0</td>\n",
       "      <td>1.0</td>\n",
       "      <td>1.0</td>\n",
       "      <td>0.0</td>\n",
       "      <td>0.0</td>\n",
       "      <td>0.333333</td>\n",
       "      <td>0.494983</td>\n",
       "    </tr>\n",
       "    <tr>\n",
       "      <th>270</th>\n",
       "      <td>0.246753</td>\n",
       "      <td>0.50</td>\n",
       "      <td>0.5</td>\n",
       "      <td>0.666667</td>\n",
       "      <td>1.0</td>\n",
       "      <td>0.0</td>\n",
       "      <td>0.0</td>\n",
       "      <td>1.0</td>\n",
       "      <td>0.0</td>\n",
       "      <td>0.0</td>\n",
       "      <td>0.333333</td>\n",
       "      <td>0.247492</td>\n",
       "    </tr>\n",
       "    <tr>\n",
       "      <th>515</th>\n",
       "      <td>0.135065</td>\n",
       "      <td>0.50</td>\n",
       "      <td>0.0</td>\n",
       "      <td>0.333333</td>\n",
       "      <td>1.0</td>\n",
       "      <td>0.0</td>\n",
       "      <td>1.0</td>\n",
       "      <td>0.0</td>\n",
       "      <td>0.0</td>\n",
       "      <td>0.0</td>\n",
       "      <td>0.000000</td>\n",
       "      <td>0.066890</td>\n",
       "    </tr>\n",
       "  </tbody>\n",
       "</table>\n",
       "</div>"
      ],
      "text/plain": [
       "         area  bedrooms  bathrooms   stories  mainroad  guestroom  basement  \\\n",
       "489  0.142857      0.50        0.0  0.333333       0.0        0.0       0.0   \n",
       "302  0.042857      0.50        0.0  0.666667       1.0        0.0       0.0   \n",
       "66   1.000000      0.25        0.0  0.000000       1.0        0.0       1.0   \n",
       "270  0.246753      0.50        0.5  0.666667       1.0        0.0       0.0   \n",
       "515  0.135065      0.50        0.0  0.333333       1.0        0.0       1.0   \n",
       "\n",
       "     hotwaterheating  airconditioning  prefarea   parking     price  \n",
       "489              0.0              0.0       0.0  0.333333  0.103679  \n",
       "302              0.0              0.0       1.0  0.333333  0.234114  \n",
       "66               1.0              0.0       0.0  0.333333  0.494983  \n",
       "270              1.0              0.0       0.0  0.333333  0.247492  \n",
       "515              0.0              0.0       0.0  0.000000  0.066890  "
      ]
     },
     "execution_count": 101,
     "metadata": {},
     "output_type": "execute_result"
    }
   ],
   "source": [
    "####################### EVALUATION SET\n",
    "import warnings\n",
    "warnings.filterwarnings('ignore')\n",
    "# define standard scaler\n",
    "#scaler = StandardScaler()\n",
    "scaler = MinMaxScaler()\n",
    "Newtest[num_vars] = scaler.fit_transform(Newtest[num_vars])\n",
    "Newtest.head(5)"
   ]
  },
  {
   "cell_type": "code",
   "execution_count": 102,
   "id": "831c2b71-b6d0-4d6e-908d-81260b941056",
   "metadata": {
    "tags": []
   },
   "outputs": [],
   "source": [
    "# Split new training set into I/O\n",
    "y_Newtest = Newtest.pop('price')\n",
    "x_Newtest = Newtest\n",
    "\n",
    "length = len(Newtest);\n",
    "# Create vector X_0 full of ones (will always be 1)\n",
    "x0 = np.ones((length, 1));\n",
    "x = np.hstack((x0, x_Newtest));\n",
    "y = y_Newtest.values\n",
    "# Create vector for parameters\n",
    "theta3b = np.zeros(12);"
   ]
  },
  {
   "cell_type": "code",
   "execution_count": 103,
   "id": "33422c98-1509-492c-bb9c-e6a59ff902f1",
   "metadata": {
    "tags": []
   },
   "outputs": [
    {
     "name": "stdout",
     "output_type": "stream",
     "text": [
      "0.05361411594130148\n"
     ]
    }
   ],
   "source": [
    "cost_test_3b = calc_cost(x, y, theta3b)\n",
    "print(cost_test_3b)"
   ]
  },
  {
   "cell_type": "code",
   "execution_count": 104,
   "id": "23a1f657-c1ec-4b55-a9e6-4dc1b6b958d4",
   "metadata": {
    "tags": []
   },
   "outputs": [
    {
     "name": "stdout",
     "output_type": "stream",
     "text": [
      "Value of theta =  [ 0.99871758 -0.08653161 -0.49621958  0.13398515 -0.11818146 -0.42002508\n",
      "  0.03327889 -0.1503365  -0.01813073  0.12959503  0.11660113 -0.00951599]\n",
      "Cost history =  [0.27942261 0.26531718 0.25896121 ... 0.0422183  0.04221458 0.04221087]\n"
     ]
    }
   ],
   "source": [
    "# Define input parameters to function\n",
    "theta3b = [0., 0., 0., 0., 0., 0., 0., 0., 0., 0., 0., 0.];\n",
    "num_iter = 1500;\n",
    "lamda = 5;\n",
    "alpha3 = 0.01;\n",
    "\n",
    "# Call grad_desc function\n",
    "theta3b, cost_history_test3b = calc_grad_descent_reg(x, y, theta3b, alpha3, lamda, num_iter);\n",
    "print('Value of theta = ', theta3b)\n",
    "print('Cost history = ', cost_history_test3b)"
   ]
  },
  {
   "cell_type": "code",
   "execution_count": 105,
   "id": "d21f6b5e-70f0-4088-acd1-c48466cc79c2",
   "metadata": {
    "tags": []
   },
   "outputs": [
    {
     "data": {
      "image/png": "[encoded data removed]",
      "text/plain": [
       "<Figure size 720x432 with 1 Axes>"
      ]
     },
     "metadata": {
      "needs_background": "light"
     },
     "output_type": "display_data"
    }
   ],
   "source": [
    "# Plot Gradient Descent \n",
    "plot.plot(range(1, num_iter + 1), cost_history_train3b, color ='green', label = \"Training Loss\")\n",
    "plot.plot(range(1, num_iter + 1), cost_history_test3b, color ='blue', label = \"Evaluation Loss\")\n",
    "plot.rcParams[\"figure.figsize\"] = (10,6)\n",
    "plot.xlabel('Number of Iterations')\n",
    "plot.ylabel('Cost (J)')\n",
    "plot.title('Convergence of Gradient Descent for Training and Evaluation Set Problem 3')\n",
    "plot.legend()\n",
    "plot.show()"
   ]
  },
  {
   "cell_type": "code",
   "execution_count": null,
   "id": "b26125f8-f0a2-4066-8f90-00d7f069239b",
   "metadata": {},
   "outputs": [],
   "source": []
  }
 ],
 "metadata": {
  "kernelspec": {
   "display_name": "Python 3",
   "language": "python",
   "name": "python3"
  },
  "language_info": {
   "codemirror_mode": {
    "name": "ipython",
    "version": 3
   },
   "file_extension": ".py",
   "mimetype": "text/x-python",
   "name": "python",
   "nbconvert_exporter": "python",
   "pygments_lexer": "ipython3",
   "version": "3.8.8"
  }
 },
 "nbformat": 4,
 "nbformat_minor": 5
}
